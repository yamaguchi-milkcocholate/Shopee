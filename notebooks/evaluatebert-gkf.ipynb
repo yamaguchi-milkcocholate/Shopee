{
 "cells": [
  {
   "cell_type": "code",
   "execution_count": 1,
   "id": "excited-evaluation",
   "metadata": {},
   "outputs": [],
   "source": [
    "import numpy as np\n",
    "import pandas as pd\n",
    "import gc\n",
    "import os\n",
    "import sys\n",
    "import yaml\n",
    "import re\n",
    "import random\n",
    "import math\n",
    "import matplotlib.pyplot as plt\n",
    "import warnings\n",
    "import pickle\n",
    "from tqdm.notebook import tqdm\n",
    "from typing import *\n",
    "from pathlib import Path\n",
    "from dataclasses import dataclass, field, asdict\n",
    "from shutil import copyfile\n",
    "from cuml.neighbors import NearestNeighbors\n",
    "warnings.simplefilter('ignore')"
   ]
  },
  {
   "cell_type": "code",
   "execution_count": 22,
   "id": "designing-cosmetic",
   "metadata": {},
   "outputs": [],
   "source": [
    "@dataclass\n",
    "class Config:\n",
    "    outdir: str = \"../results/bert-gkf\"\n",
    "    device: str = \"cuda:2\"\n",
    "    device_id: int = 2\n",
    "\n",
    "    modeldir: str = '../models/bert/bert_en_uncased_L-24_H-1024_A-16_1'\n",
    "    seed: int = 123\n",
    "    n_splits: int = 1\n",
    "    \n",
    "    # Training config\n",
    "    batch_size: int = 32\n",
    "    epochs: int = 100\n",
    "    patience: int = 5\n",
    "    lr: float = 0.00001\n",
    "    max_len: int = 70\n",
    "    emb_len: int = 2048\n",
    "\n",
    "    def update(self, param_dict: Dict) -> \"Config\":\n",
    "        # Overwrite by `param_dict`\n",
    "        for key, value in param_dict.items():\n",
    "            if not hasattr(self, key):\n",
    "                raise ValueError(f\"[ERROR] Unexpected key for flag = {key}\")\n",
    "            setattr(self, key, value)\n",
    "        return self\n",
    "    \n",
    "    def to_yaml(self, filepath: str, width: int = 120):\n",
    "        with open(filepath, 'w') as f:\n",
    "            yaml.dump(asdict(self), f, width=width)"
   ]
  },
  {
   "cell_type": "code",
   "execution_count": 23,
   "id": "artistic-police",
   "metadata": {},
   "outputs": [],
   "source": [
    "def seed_everything(seed):\n",
    "    random.seed(seed)\n",
    "    np.random.seed(seed)\n",
    "    os.environ['PYTHONHASHSEED'] = str(seed)\n",
    "    tf.random.set_seed(seed)"
   ]
  },
  {
   "cell_type": "code",
   "execution_count": 24,
   "id": "fabulous-minimum",
   "metadata": {},
   "outputs": [],
   "source": [
    "config = Config()\n",
    "os.environ[\"CUDA_VISIBLE_DEVICES\"] = str(config.device_id)\n",
    "\n",
    "base_dir = Path().resolve()\n",
    "sys.path.append(os.path.abspath(base_dir / '../'))\n",
    "\n",
    "from src.tokenization import *\n",
    "from src.preprocess import *\n",
    "from src.text import *\n",
    "from src.model import *\n",
    "\n",
    "import tensorflow as tf\n",
    "import tensorflow_hub as hub"
   ]
  },
  {
   "cell_type": "code",
   "execution_count": 32,
   "id": "posted-adaptation",
   "metadata": {},
   "outputs": [
    {
     "data": {
      "text/html": [
       "<div>\n",
       "<style scoped>\n",
       "    .dataframe tbody tr th:only-of-type {\n",
       "        vertical-align: middle;\n",
       "    }\n",
       "\n",
       "    .dataframe tbody tr th {\n",
       "        vertical-align: top;\n",
       "    }\n",
       "\n",
       "    .dataframe thead th {\n",
       "        text-align: right;\n",
       "    }\n",
       "</style>\n",
       "<table border=\"1\" class=\"dataframe\">\n",
       "  <thead>\n",
       "    <tr style=\"text-align: right;\">\n",
       "      <th></th>\n",
       "      <th>posting_id</th>\n",
       "      <th>image</th>\n",
       "      <th>image_phash</th>\n",
       "      <th>title</th>\n",
       "      <th>label_group</th>\n",
       "      <th>matches</th>\n",
       "      <th>f1</th>\n",
       "      <th>fold</th>\n",
       "    </tr>\n",
       "  </thead>\n",
       "  <tbody>\n",
       "    <tr>\n",
       "      <th>0</th>\n",
       "      <td>train_129225211</td>\n",
       "      <td>0000a68812bc7e98c42888dfb1c07da0.jpg</td>\n",
       "      <td>94974f937d4c2433</td>\n",
       "      <td>Paper Bag Victoria Secret</td>\n",
       "      <td>0</td>\n",
       "      <td>train_129225211 train_2278313361</td>\n",
       "      <td>0.666667</td>\n",
       "      <td>0</td>\n",
       "    </tr>\n",
       "    <tr>\n",
       "      <th>1</th>\n",
       "      <td>train_3386243561</td>\n",
       "      <td>00039780dfc94d01db8676fe789ecd05.jpg</td>\n",
       "      <td>af3f9460c2838f0f</td>\n",
       "      <td>Double Tape 3M VHB 12 mm x 4,5 m ORIGINAL / DO...</td>\n",
       "      <td>1</td>\n",
       "      <td>train_3386243561 train_3423213080</td>\n",
       "      <td>0.666667</td>\n",
       "      <td>0</td>\n",
       "    </tr>\n",
       "    <tr>\n",
       "      <th>2</th>\n",
       "      <td>train_2288590299</td>\n",
       "      <td>000a190fdd715a2a36faed16e2c65df7.jpg</td>\n",
       "      <td>b94cb00ed3e50f78</td>\n",
       "      <td>Maling TTS Canned Pork Luncheon Meat 397 gr</td>\n",
       "      <td>2</td>\n",
       "      <td>train_2288590299 train_3803689425</td>\n",
       "      <td>0.666667</td>\n",
       "      <td>1</td>\n",
       "    </tr>\n",
       "    <tr>\n",
       "      <th>3</th>\n",
       "      <td>train_2406599165</td>\n",
       "      <td>00117e4fc239b1b641ff08340b429633.jpg</td>\n",
       "      <td>8514fc58eafea283</td>\n",
       "      <td>Daster Batik Lengan pendek - Motif Acak / Camp...</td>\n",
       "      <td>3</td>\n",
       "      <td>train_2406599165 train_3342059966</td>\n",
       "      <td>0.666667</td>\n",
       "      <td>1</td>\n",
       "    </tr>\n",
       "    <tr>\n",
       "      <th>4</th>\n",
       "      <td>train_3369186413</td>\n",
       "      <td>00136d1cf4edede0203f32f05f660588.jpg</td>\n",
       "      <td>a6f319f924ad708c</td>\n",
       "      <td>Nescafe \\xc3\\x89clair Latte 220ml</td>\n",
       "      <td>4</td>\n",
       "      <td>train_3369186413 train_921438619</td>\n",
       "      <td>0.666667</td>\n",
       "      <td>1</td>\n",
       "    </tr>\n",
       "  </tbody>\n",
       "</table>\n",
       "</div>"
      ],
      "text/plain": [
       "         posting_id                                 image       image_phash  \\\n",
       "0   train_129225211  0000a68812bc7e98c42888dfb1c07da0.jpg  94974f937d4c2433   \n",
       "1  train_3386243561  00039780dfc94d01db8676fe789ecd05.jpg  af3f9460c2838f0f   \n",
       "2  train_2288590299  000a190fdd715a2a36faed16e2c65df7.jpg  b94cb00ed3e50f78   \n",
       "3  train_2406599165  00117e4fc239b1b641ff08340b429633.jpg  8514fc58eafea283   \n",
       "4  train_3369186413  00136d1cf4edede0203f32f05f660588.jpg  a6f319f924ad708c   \n",
       "\n",
       "                                               title  label_group  \\\n",
       "0                          Paper Bag Victoria Secret            0   \n",
       "1  Double Tape 3M VHB 12 mm x 4,5 m ORIGINAL / DO...            1   \n",
       "2        Maling TTS Canned Pork Luncheon Meat 397 gr            2   \n",
       "3  Daster Batik Lengan pendek - Motif Acak / Camp...            3   \n",
       "4                  Nescafe \\xc3\\x89clair Latte 220ml            4   \n",
       "\n",
       "                             matches        f1  fold  \n",
       "0   train_129225211 train_2278313361  0.666667     0  \n",
       "1  train_3386243561 train_3423213080  0.666667     0  \n",
       "2  train_2288590299 train_3803689425  0.666667     1  \n",
       "3  train_2406599165 train_3342059966  0.666667     1  \n",
       "4   train_3369186413 train_921438619  0.666667     1  "
      ]
     },
     "execution_count": 32,
     "metadata": {},
     "output_type": "execute_result"
    }
   ],
   "source": [
    "train = pd.read_csv(base_dir / config.outdir / 'train_fold.csv')\n",
    "n_classes = train.query('fold == 0').label_group.nunique()\n",
    "train.head()"
   ]
  },
  {
   "cell_type": "code",
   "execution_count": 8,
   "id": "turkish-naples",
   "metadata": {},
   "outputs": [],
   "source": [
    "# Function to get our f1 score\n",
    "def f1_score(y_true, y_pred):\n",
    "    y_true = y_true.apply(lambda x: set(x.split()))\n",
    "    y_pred = y_pred.apply(lambda x: set(x.split()))\n",
    "    intersection = np.array([len(x[0] & x[1]) for x in zip(y_true, y_pred)])\n",
    "    len_y_pred = y_pred.apply(lambda x: len(x)).values\n",
    "    len_y_true = y_true.apply(lambda x: len(x)).values\n",
    "    f1 = 2 * intersection / (len_y_pred + len_y_true)\n",
    "    return f1"
   ]
  },
  {
   "cell_type": "code",
   "execution_count": 16,
   "id": "fixed-bonus",
   "metadata": {},
   "outputs": [],
   "source": [
    "def get_embeddings(bert_model, df: pd.DataFrame, x):\n",
    "    chunk = 500\n",
    "    iterator = np.arange(np.ceil(len(df) / chunk))\n",
    "\n",
    "    embeds = []\n",
    "    for j in tqdm(iterator):\n",
    "        a = int(j * chunk)\n",
    "        b = int((j + 1) * chunk)\n",
    "        text_chunk = ((x[0][a:b], x[1][a:b], x[2][a:b]))\n",
    "        embeddings = bert_model.predict(text_chunk, batch_size = config.batch_size)\n",
    "        embeds.append(embeddings)\n",
    "\n",
    "    embeddings = np.concatenate(embeds)\n",
    "    return embeddings"
   ]
  },
  {
   "cell_type": "code",
   "execution_count": 18,
   "id": "polished-messenger",
   "metadata": {
    "tags": []
   },
   "outputs": [],
   "source": [
    "def get_embeddings_list(max_len: int, epoch: int):\n",
    "    epoch = format(epoch, '02')\n",
    "    \n",
    "    outdir = base_dir / config.outdir / f'Bert_seed{config.seed}_encodelen{max_len}_emb{config.emb_len}-gkf'\n",
    "    weight_path = outdir / f\"epoch{epoch}.h5\"\n",
    "    emb_outdir = outdir/ f'embeddings_epoch{epoch}.pkl'\n",
    "\n",
    "    if os.path.exists(emb_outdir):\n",
    "        embeddings = pickle.load(open(emb_outdir, 'rb'))\n",
    "    else:\n",
    "        bert_layer = hub.KerasLayer(str(base_dir / config.modeldir), trainable=True)\n",
    "        vocab_file = bert_layer.resolved_object.vocab_file.asset_path.numpy()\n",
    "        do_lower_case = bert_layer.resolved_object.do_lower_case.numpy()\n",
    "        tokenizer = FullTokenizer(vocab_file, do_lower_case)\n",
    "\n",
    "        bert_model = build_bert_model(bert_layer, n_classes=n_classes, lr=config.lr, max_len=max_len, train=False, emb_len=config.emb_len)\n",
    "        bert_model.load_weights(str(weight_path))\n",
    "        bert_model = tf.keras.models.Model(inputs=bert_model.input[0:3], outputs=bert_model.layers[-4].output)\n",
    "\n",
    "        x = bert_encode(train['title'].values, tokenizer, max_len=max_len)\n",
    "        embeddings = get_embeddings(bert_model, train, x)\n",
    "\n",
    "\n",
    "        pickle.dump(embeddings, open(emb_outdir, 'wb'))\n",
    "\n",
    "        del bert_model\n",
    "        gc.collect()\n",
    "        tf.keras.backend.clear_session()\n",
    "\n",
    "    return embeddings"
   ]
  },
  {
   "cell_type": "code",
   "execution_count": 45,
   "id": "empirical-light",
   "metadata": {},
   "outputs": [],
   "source": [
    "def search_thresholds(df: pd.DataFrame, embeddings: np.ndarray, \n",
    "                      knn: int = 50, thr_start: int = 15, thr_end: int = 30, thr_interval: float = 1, verbose=False):\n",
    "    # KNN\n",
    "    knn_model = NearestNeighbors(n_neighbors=knn, metric='cosine')\n",
    "    knn_model.fit(embeddings)\n",
    "    \n",
    "    valid_df = df.query('fold == 1')\n",
    "    valid_embeddings = embeddings[valid_df.index, :]\n",
    "    distances, indices = knn_model.kneighbors(valid_embeddings)\n",
    "    \n",
    "    # grid search\n",
    "    thresholds = list(np.arange(thr_start, thr_end, thr_interval))\n",
    "    scores = []\n",
    "    for threshold in thresholds:\n",
    "        predictions = []\n",
    "        for k in range(valid_embeddings.shape[0]):\n",
    "            idx = np.where(distances[k, ] < threshold)[0]\n",
    "            ids = indices[k, idx]\n",
    "            posting_ids = ' '.join(df['posting_id'].iloc[ids].values)\n",
    "            predictions.append(posting_ids)\n",
    "        valid_df['pred_matches'] = predictions\n",
    "        valid_df['f1'] = f1_score(valid_df['matches'], valid_df['pred_matches'])\n",
    "        score = valid_df['f1'].mean()\n",
    "        if verbose:\n",
    "            print(f'Our f1 score for threshold {np.round(threshold, 2)} is {score}')\n",
    "        scores.append(score)\n",
    "    thresholds_scores = pd.DataFrame({'thresholds': thresholds, 'scores': scores})\n",
    "    \n",
    "    max_score = thresholds_scores[thresholds_scores['scores'] == thresholds_scores['scores'].max()]\n",
    "    best_threshold = max_score['thresholds'].values[0]\n",
    "    best_score = max_score['scores'].values[0]\n",
    "    print(f'Our best score is {best_score} and has a threshold {best_threshold}')\n",
    "    \n",
    "    return best_score, best_threshold\n",
    "\n",
    "\n",
    "def database_augment(embeddings, n_aug):\n",
    "    weights = np.logspace(0, -1.5, n_aug)\n",
    "    model = NearestNeighbors(n_neighbors=n_aug, metric='cosine')\n",
    "    model.fit(embeddings)\n",
    "    distances, indices = model.kneighbors(embeddings)\n",
    "    \n",
    "    dba_embeddings = list()\n",
    "    for k in range(embeddings.shape[0]):\n",
    "        neighbor_embeddings = embeddings[indices[k, ]]\n",
    "        comb = np.dot(weights, neighbor_embeddings)\n",
    "        dba_embeddings.append(comb)\n",
    "    dba_embeddings = np.vstack(dba_embeddings)\n",
    "    \n",
    "    del model, distances, indices\n",
    "    gc.collect()\n",
    "    return dba_embeddings"
   ]
  },
  {
   "cell_type": "code",
   "execution_count": 27,
   "id": "blank-decrease",
   "metadata": {},
   "outputs": [
    {
     "data": {
      "image/png": "[encoded data removed]",
      "text/plain": [
       "<Figure size 1152x288 with 2 Axes>"
      ]
     },
     "metadata": {
      "needs_background": "light"
     },
     "output_type": "display_data"
    }
   ],
   "source": [
    "history = pickle.load(open(base_dir / config.outdir / f'Bert_seed{config.seed}_encodelen{config.max_len}_emb{config.emb_len}-gkf/history.pkl', 'rb'))\n",
    "\n",
    "fig, axes = plt.subplots(1, 2, figsize=(16, 4))\n",
    "axes[0].plot(history['loss'])\n",
    "axes[1].plot(history['sparse_categorical_accuracy'])\n",
    "plt.show()"
   ]
  },
  {
   "cell_type": "code",
   "execution_count": 35,
   "id": "medium-credits",
   "metadata": {},
   "outputs": [],
   "source": [
    "embeddings = get_embeddings_list(70, epoch=25)"
   ]
  },
  {
   "cell_type": "code",
   "execution_count": 37,
   "id": "fitting-manhattan",
   "metadata": {
    "tags": []
   },
   "outputs": [
    {
     "name": "stdout",
     "output_type": "stream",
     "text": [
      "Our f1 score for threshold 0.0 is 0.21059822712690623\n",
      "Our f1 score for threshold 0.1 is 0.5388107231449769\n",
      "Our f1 score for threshold 0.2 is 0.5945894457413052\n",
      "Our f1 score for threshold 0.3 is 0.6376099757245373\n",
      "Our f1 score for threshold 0.4 is 0.650533192214583\n",
      "Our f1 score for threshold 0.5 is 0.626587790151839\n",
      "Our f1 score for threshold 0.6 is 0.5403282475131178\n",
      "Our f1 score for threshold 0.7 is 0.37700766078354686\n",
      "Our f1 score for threshold 0.8 is 0.18897849178485332\n",
      "Our f1 score for threshold 0.9 is 0.170539546052095\n",
      "Our best score is 0.650533192214583 and has a threshold 0.4\n"
     ]
    },
    {
     "data": {
      "text/plain": [
       "(0.650533192214583, 0.4)"
      ]
     },
     "execution_count": 37,
     "metadata": {},
     "output_type": "execute_result"
    }
   ],
   "source": [
    "search_thresholds(train, embeddings, 50, 0, 1, 0.1)"
   ]
  },
  {
   "cell_type": "code",
   "execution_count": 38,
   "id": "comparative-munich",
   "metadata": {
    "tags": []
   },
   "outputs": [
    {
     "data": {
      "application/vnd.jupyter.widget-view+json": {
       "model_id": "dc133b48440141fa9314263143e49a5a",
       "version_major": 2,
       "version_minor": 0
      },
      "text/plain": [
       "  0%|          | 0/69 [00:00<?, ?it/s]"
      ]
     },
     "metadata": {},
     "output_type": "display_data"
    }
   ],
   "source": [
    "embeddings = get_embeddings_list(70, epoch=15)"
   ]
  },
  {
   "cell_type": "code",
   "execution_count": 39,
   "id": "spanish-psychiatry",
   "metadata": {},
   "outputs": [
    {
     "name": "stdout",
     "output_type": "stream",
     "text": [
      "Our f1 score for threshold 0.0 is 0.2070045509887711\n",
      "Our f1 score for threshold 0.1 is 0.5380560619191238\n",
      "Our f1 score for threshold 0.2 is 0.5935914503999701\n",
      "Our f1 score for threshold 0.3 is 0.6359068392091684\n",
      "Our f1 score for threshold 0.4 is 0.6514626965421033\n",
      "Our f1 score for threshold 0.5 is 0.6287464386616369\n",
      "Our f1 score for threshold 0.6 is 0.5388350449450349\n",
      "Our f1 score for threshold 0.7 is 0.37278546339870305\n",
      "Our f1 score for threshold 0.8 is 0.18708064611647138\n",
      "Our f1 score for threshold 0.9 is 0.1707360113853327\n",
      "Our best score is 0.6514626965421033 and has a threshold 0.4\n"
     ]
    },
    {
     "data": {
      "text/plain": [
       "(0.6514626965421033, 0.4)"
      ]
     },
     "execution_count": 39,
     "metadata": {},
     "output_type": "execute_result"
    }
   ],
   "source": [
    "search_thresholds(train, embeddings, 50, 0, 1, 0.1)"
   ]
  },
  {
   "cell_type": "code",
   "execution_count": 40,
   "id": "median-venezuela",
   "metadata": {},
   "outputs": [
    {
     "data": {
      "application/vnd.jupyter.widget-view+json": {
       "model_id": "ac45581397ff410cb87d8c030362a8a7",
       "version_major": 2,
       "version_minor": 0
      },
      "text/plain": [
       "  0%|          | 0/69 [00:00<?, ?it/s]"
      ]
     },
     "metadata": {},
     "output_type": "display_data"
    }
   ],
   "source": [
    "embeddings = get_embeddings_list(70, epoch=10)"
   ]
  },
  {
   "cell_type": "code",
   "execution_count": 41,
   "id": "exposed-compiler",
   "metadata": {},
   "outputs": [
    {
     "name": "stdout",
     "output_type": "stream",
     "text": [
      "Our f1 score for threshold 0.0 is 0.20442405898745372\n",
      "Our f1 score for threshold 0.1 is 0.5415251447022117\n",
      "Our f1 score for threshold 0.2 is 0.5967350327947998\n",
      "Our f1 score for threshold 0.3 is 0.6377646314389882\n",
      "Our f1 score for threshold 0.4 is 0.6508484042304131\n",
      "Our f1 score for threshold 0.5 is 0.6185935858166668\n",
      "Our f1 score for threshold 0.6 is 0.5185383179567334\n",
      "Our f1 score for threshold 0.7 is 0.3462029577526888\n",
      "Our f1 score for threshold 0.8 is 0.17853792664550805\n",
      "Our f1 score for threshold 0.9 is 0.17016422224671046\n",
      "Our best score is 0.6508484042304131 and has a threshold 0.4\n"
     ]
    },
    {
     "data": {
      "text/plain": [
       "(0.6508484042304131, 0.4)"
      ]
     },
     "execution_count": 41,
     "metadata": {},
     "output_type": "execute_result"
    }
   ],
   "source": [
    "search_thresholds(train, embeddings, 50, 0, 1, 0.1)"
   ]
  },
  {
   "cell_type": "code",
   "execution_count": 46,
   "id": "local-mattress",
   "metadata": {},
   "outputs": [
    {
     "name": "stdout",
     "output_type": "stream",
     "text": [
      "2\n",
      "Our best score is 0.657885541242587 and has a threshold 0.40000000000000013\n",
      "3\n",
      "Our best score is 0.677805619927886 and has a threshold 0.30000000000000004\n",
      "4\n",
      "Our best score is 0.6814057866464456 and has a threshold 0.25000000000000006\n",
      "5\n",
      "Our best score is 0.6798587229663523 and has a threshold 0.20000000000000004\n",
      "6\n",
      "Our best score is 0.6746974466449421 and has a threshold 0.15000000000000002\n",
      "7\n",
      "Our best score is 0.6664379821803854 and has a threshold 0.15000000000000002\n"
     ]
    }
   ],
   "source": [
    "embeddings = get_embeddings_list(70, epoch=15)\n",
    "\n",
    "for n_aug in range(2, 8):\n",
    "    print(n_aug)\n",
    "    dba_embeddings = database_augment(embeddings, n_aug)\n",
    "    search_thresholds(train, dba_embeddings, 50, 0.1, 0.4, 0.05)"
   ]
  },
  {
   "cell_type": "code",
   "execution_count": 47,
   "id": "radio-hydrogen",
   "metadata": {},
   "outputs": [
    {
     "name": "stdout",
     "output_type": "stream",
     "text": [
      "Our best score is 0.6821620418953958 and has a threshold 0.23999999999999994\n"
     ]
    },
    {
     "data": {
      "text/plain": [
       "(0.6821620418953958, 0.23999999999999994)"
      ]
     },
     "execution_count": 47,
     "metadata": {},
     "output_type": "execute_result"
    }
   ],
   "source": [
    "dba_embeddings = database_augment(embeddings, 4)\n",
    "search_thresholds(train, dba_embeddings, 50, 0.1, 0.3, 0.01)"
   ]
  },
  {
   "cell_type": "code",
   "execution_count": null,
   "id": "everyday-withdrawal",
   "metadata": {},
   "outputs": [],
   "source": []
  }
 ],
 "metadata": {
  "kernelspec": {
   "display_name": "Python 3",
   "language": "python",
   "name": "python3"
  },
  "language_info": {
   "codemirror_mode": {
    "name": "ipython",
    "version": 3
   },
   "file_extension": ".py",
   "mimetype": "text/x-python",
   "name": "python",
   "nbconvert_exporter": "python",
   "pygments_lexer": "ipython3",
   "version": "3.7.10"
  }
 },
 "nbformat": 4,
 "nbformat_minor": 5
}