{
 "cells": [
  {
   "attachments": {
    "Screen%20Shot%202021-03-10%20at%203.46.44%20PM.png": {
     "image/png": "[encoded data removed]"
    }
   },
   "cell_type": "markdown",
   "metadata": {
    "papermill": {
     "duration": 0.01566,
     "end_time": "2021-03-11T01:43:31.447441",
     "exception": false,
     "start_time": "2021-03-11T01:43:31.431781",
     "status": "completed"
    },
    "tags": []
   },
   "source": [
    "# SUBMISSION with RAPIDS TfidfVectorizer\n",
    "![Screen%20Shot%202021-03-10%20at%203.46.44%20PM.png](attachment:Screen%20Shot%202021-03-10%20at%203.46.44%20PM.png)\n",
    "\n",
    "In my first notebook [here][1], we do some EDA and explain our solution approach which is to use both images and text with RAPIDS to find similar items. This notebook optimizes GPU memory so submission notebook will be successful. We also calculate the CV score (if the notebook is committed but not when submitted). If you haven't read my first [notebook, read][1] that first. You can learn more about RAPIDS [here][2] and [here][3]\n",
    "\n",
    "**Note**: This **committed** notebook computes CV score but when we **submit** this notebook it does **not** compute CV. Instead it will load the 70,000 row `test.csv` file and compute matches in the test dataset. Because the variable `COMPUTE_CV = True` when we **commit** this notebook. But when we **submit** this notebook to Kaggle then the length of `test.csv` will be longer than 3 and the `if-statement` below will change to `COMPUTE_CV=False`. \n",
    "\n",
    "[1]: https://www.kaggle.com/cdeotte/rapids-cuml-tfidfvectorizer-and-knn\n",
    "[2]: https://rapids.ai/start.html\n",
    "[3]: https://docs.rapids.ai/api"
   ]
  },
  {
   "cell_type": "markdown",
   "metadata": {
    "papermill": {
     "duration": 0.014085,
     "end_time": "2021-03-11T01:43:31.476280",
     "exception": false,
     "start_time": "2021-03-11T01:43:31.462195",
     "status": "completed"
    },
    "tags": []
   },
   "source": [
    "# Load Libraries"
   ]
  },
  {
   "cell_type": "code",
   "execution_count": 5,
   "metadata": {
    "_cell_guid": "b1076dfc-b9ad-4769-8c92-a6c4dae69d19",
    "_uuid": "8f2839f25d086af736a60e9eeb907d3b93b6e0e5",
    "papermill": {
     "duration": 9.224775,
     "end_time": "2021-03-11T01:43:40.715338",
     "exception": false,
     "start_time": "2021-03-11T01:43:31.490563",
     "status": "completed"
    },
    "tags": []
   },
   "outputs": [
    {
     "name": "stdout",
     "output_type": "stream",
     "text": [
      "RAPIDS 0.18.0\n",
      "TF 2.3.0\n"
     ]
    }
   ],
   "source": [
    "import numpy as np, pandas as pd, gc\n",
    "import cv2, matplotlib.pyplot as plt\n",
    "import cudf, cuml, cupy\n",
    "from cuml.feature_extraction.text import TfidfVectorizer\n",
    "from cuml.neighbors import NearestNeighbors\n",
    "import tensorflow as tf\n",
    "from tensorflow.keras.applications import EfficientNetB0\n",
    "from pathlib import Path\n",
    "print('RAPIDS',cuml.__version__)\n",
    "print('TF',tf.__version__)"
   ]
  },
  {
   "cell_type": "code",
   "execution_count": 2,
   "metadata": {
    "_kg_hide-input": true,
    "papermill": {
     "duration": 4.562254,
     "end_time": "2021-03-11T01:43:45.293494",
     "exception": false,
     "start_time": "2021-03-11T01:43:40.731240",
     "status": "completed"
    },
    "tags": []
   },
   "outputs": [],
   "source": [
    "# # RESTRICT TENSORFLOW TO 1GB OF GPU RAM\n",
    "# # SO THAT WE HAVE 15GB RAM FOR RAPIDS\n",
    "# LIMIT = 1\n",
    "# gpus = tf.config.experimental.list_physical_devices('GPU')\n",
    "# if gpus:\n",
    "#     try:\n",
    "#         tf.config.experimental.set_virtual_device_configuration(\n",
    "#             gpus[0],\n",
    "#             [tf.config.experimental.VirtualDeviceConfiguration(memory_limit=1024*LIMIT)])\n",
    "#         logical_gpus = tf.config.experimental.list_logical_devices('GPU')\n",
    "#         #print(len(gpus), \"Physical GPUs,\", len(logical_gpus), \"Logical GPUs\")\n",
    "#     except RuntimeError as e:\n",
    "#     print(e)\n",
    "# print('We will restrict TensorFlow to max %iGB GPU RAM'%LIMIT)\n",
    "# print('then RAPIDS can use %iGB GPU RAM'%(16-LIMIT))"
   ]
  },
  {
   "cell_type": "code",
   "execution_count": 3,
   "metadata": {},
   "outputs": [],
   "source": [
    "from dataclasses import dataclass, field, asdict\n",
    "import yaml\n",
    "\n",
    "\n",
    "@dataclass\n",
    "class Config:\n",
    "    device_id: int = 0\n",
    "    train_file: str = '../data/shopee-product-matching/train.csv'\n",
    "    test_file: str = '../data/shopee-product-matching/test.csv'\n",
    "    train_img_dir: str = '../data/shopee-product-matching/train_images'\n",
    "    test_img_dir: str = '../data/shopee-product-matching/test_images'"
   ]
  },
  {
   "cell_type": "code",
   "execution_count": 6,
   "metadata": {},
   "outputs": [],
   "source": [
    "base_dir = Path().resolve()\n",
    "config = Config()"
   ]
  },
  {
   "cell_type": "markdown",
   "metadata": {
    "papermill": {
     "duration": 0.017188,
     "end_time": "2021-03-11T01:43:45.328960",
     "exception": false,
     "start_time": "2021-03-11T01:43:45.311772",
     "status": "completed"
    },
    "tags": []
   },
   "source": [
    "# Load Train Data\n",
    "First we load the train data and create a target column of ground truths to help us compute CV score. Note how the variable `COMPUTE_CV` will change to `False` when we **submit** this notebook but it is `True` now because you are reading a **commit** notebook."
   ]
  },
  {
   "cell_type": "code",
   "execution_count": 7,
   "metadata": {
    "papermill": {
     "duration": 0.036155,
     "end_time": "2021-03-11T01:43:45.381967",
     "exception": false,
     "start_time": "2021-03-11T01:43:45.345812",
     "status": "completed"
    },
    "tags": []
   },
   "outputs": [
    {
     "name": "stdout",
     "output_type": "stream",
     "text": [
      "this submission notebook will compute CV score, but commit notebook will not\n"
     ]
    }
   ],
   "source": [
    "COMPUTE_CV = True\n",
    "\n",
    "test = pd.read_csv(base_dir / config.test_file)\n",
    "if len(test) > 3: COMPUTE_CV = False\n",
    "else: print('this submission notebook will compute CV score, but commit notebook will not')"
   ]
  },
  {
   "cell_type": "code",
   "execution_count": 8,
   "metadata": {
    "papermill": {
     "duration": 0.886911,
     "end_time": "2021-03-11T01:43:46.286960",
     "exception": false,
     "start_time": "2021-03-11T01:43:45.400049",
     "status": "completed"
    },
    "tags": []
   },
   "outputs": [
    {
     "name": "stdout",
     "output_type": "stream",
     "text": [
      "train shape is (34250, 6)\n"
     ]
    },
    {
     "data": {
      "text/html": [
       "<div>\n",
       "<style scoped>\n",
       "    .dataframe tbody tr th:only-of-type {\n",
       "        vertical-align: middle;\n",
       "    }\n",
       "\n",
       "    .dataframe tbody tr th {\n",
       "        vertical-align: top;\n",
       "    }\n",
       "\n",
       "    .dataframe thead th {\n",
       "        text-align: right;\n",
       "    }\n",
       "</style>\n",
       "<table border=\"1\" class=\"dataframe\">\n",
       "  <thead>\n",
       "    <tr style=\"text-align: right;\">\n",
       "      <th></th>\n",
       "      <th>posting_id</th>\n",
       "      <th>image</th>\n",
       "      <th>image_phash</th>\n",
       "      <th>title</th>\n",
       "      <th>label_group</th>\n",
       "      <th>target</th>\n",
       "    </tr>\n",
       "  </thead>\n",
       "  <tbody>\n",
       "    <tr>\n",
       "      <th>0</th>\n",
       "      <td>train_129225211</td>\n",
       "      <td>0000a68812bc7e98c42888dfb1c07da0.jpg</td>\n",
       "      <td>94974f937d4c2433</td>\n",
       "      <td>Paper Bag Victoria Secret</td>\n",
       "      <td>249114794</td>\n",
       "      <td>[train_129225211, train_2278313361]</td>\n",
       "    </tr>\n",
       "    <tr>\n",
       "      <th>1</th>\n",
       "      <td>train_3386243561</td>\n",
       "      <td>00039780dfc94d01db8676fe789ecd05.jpg</td>\n",
       "      <td>af3f9460c2838f0f</td>\n",
       "      <td>Double Tape 3M VHB 12 mm x 4,5 m ORIGINAL / DO...</td>\n",
       "      <td>2937985045</td>\n",
       "      <td>[train_3386243561, train_3423213080]</td>\n",
       "    </tr>\n",
       "    <tr>\n",
       "      <th>2</th>\n",
       "      <td>train_2288590299</td>\n",
       "      <td>000a190fdd715a2a36faed16e2c65df7.jpg</td>\n",
       "      <td>b94cb00ed3e50f78</td>\n",
       "      <td>Maling TTS Canned Pork Luncheon Meat 397 gr</td>\n",
       "      <td>2395904891</td>\n",
       "      <td>[train_2288590299, train_3803689425]</td>\n",
       "    </tr>\n",
       "    <tr>\n",
       "      <th>3</th>\n",
       "      <td>train_2406599165</td>\n",
       "      <td>00117e4fc239b1b641ff08340b429633.jpg</td>\n",
       "      <td>8514fc58eafea283</td>\n",
       "      <td>Daster Batik Lengan pendek - Motif Acak / Camp...</td>\n",
       "      <td>4093212188</td>\n",
       "      <td>[train_2406599165, train_3342059966]</td>\n",
       "    </tr>\n",
       "    <tr>\n",
       "      <th>4</th>\n",
       "      <td>train_3369186413</td>\n",
       "      <td>00136d1cf4edede0203f32f05f660588.jpg</td>\n",
       "      <td>a6f319f924ad708c</td>\n",
       "      <td>Nescafe \\xc3\\x89clair Latte 220ml</td>\n",
       "      <td>3648931069</td>\n",
       "      <td>[train_3369186413, train_921438619]</td>\n",
       "    </tr>\n",
       "  </tbody>\n",
       "</table>\n",
       "</div>"
      ],
      "text/plain": [
       "         posting_id                                 image       image_phash  \\\n",
       "0   train_129225211  0000a68812bc7e98c42888dfb1c07da0.jpg  94974f937d4c2433   \n",
       "1  train_3386243561  00039780dfc94d01db8676fe789ecd05.jpg  af3f9460c2838f0f   \n",
       "2  train_2288590299  000a190fdd715a2a36faed16e2c65df7.jpg  b94cb00ed3e50f78   \n",
       "3  train_2406599165  00117e4fc239b1b641ff08340b429633.jpg  8514fc58eafea283   \n",
       "4  train_3369186413  00136d1cf4edede0203f32f05f660588.jpg  a6f319f924ad708c   \n",
       "\n",
       "                                               title  label_group  \\\n",
       "0                          Paper Bag Victoria Secret    249114794   \n",
       "1  Double Tape 3M VHB 12 mm x 4,5 m ORIGINAL / DO...   2937985045   \n",
       "2        Maling TTS Canned Pork Luncheon Meat 397 gr   2395904891   \n",
       "3  Daster Batik Lengan pendek - Motif Acak / Camp...   4093212188   \n",
       "4                  Nescafe \\xc3\\x89clair Latte 220ml   3648931069   \n",
       "\n",
       "                                 target  \n",
       "0   [train_129225211, train_2278313361]  \n",
       "1  [train_3386243561, train_3423213080]  \n",
       "2  [train_2288590299, train_3803689425]  \n",
       "3  [train_2406599165, train_3342059966]  \n",
       "4   [train_3369186413, train_921438619]  "
      ]
     },
     "execution_count": 8,
     "metadata": {},
     "output_type": "execute_result"
    }
   ],
   "source": [
    "train = pd.read_csv(base_dir / config.train_file)\n",
    "tmp = train.groupby('label_group').posting_id.agg('unique').to_dict()\n",
    "train['target'] = train.label_group.map(tmp)\n",
    "print('train shape is', train.shape )\n",
    "train.head()"
   ]
  },
  {
   "cell_type": "markdown",
   "metadata": {
    "papermill": {
     "duration": 0.016168,
     "end_time": "2021-03-11T01:43:46.319784",
     "exception": false,
     "start_time": "2021-03-11T01:43:46.303616",
     "status": "completed"
    },
    "tags": []
   },
   "source": [
    "# Compute Baseline CV Score\n",
    "A baseline is to predict all items with the same `image_phash` as being duplicate. Let's calcuate the CV score for this submission."
   ]
  },
  {
   "cell_type": "code",
   "execution_count": 5,
   "metadata": {
    "execution": {
     "iopub.execute_input": "2021-03-11T01:43:46.359731Z",
     "iopub.status.busy": "2021-03-11T01:43:46.357713Z",
     "iopub.status.idle": "2021-03-11T01:43:48.363545Z",
     "shell.execute_reply": "2021-03-11T01:43:48.362212Z"
    },
    "papermill": {
     "duration": 2.027593,
     "end_time": "2021-03-11T01:43:48.363744",
     "exception": false,
     "start_time": "2021-03-11T01:43:46.336151",
     "status": "completed"
    },
    "tags": []
   },
   "outputs": [],
   "source": [
    "tmp = train.groupby('image_phash').posting_id.agg('unique').to_dict()\n",
    "train['oof'] = train.image_phash.map(tmp)"
   ]
  },
  {
   "cell_type": "code",
   "execution_count": 6,
   "metadata": {
    "execution": {
     "iopub.execute_input": "2021-03-11T01:43:48.427574Z",
     "iopub.status.busy": "2021-03-11T01:43:48.425826Z",
     "iopub.status.idle": "2021-03-11T01:43:48.428401Z",
     "shell.execute_reply": "2021-03-11T01:43:48.429045Z"
    },
    "papermill": {
     "duration": 0.036694,
     "end_time": "2021-03-11T01:43:48.429234",
     "exception": false,
     "start_time": "2021-03-11T01:43:48.392540",
     "status": "completed"
    },
    "tags": []
   },
   "outputs": [],
   "source": [
    "def getMetric(col):\n",
    "    def f1score(row):\n",
    "        n = len( np.intersect1d(row.target, row[col]))\n",
    "        return 2 * n / (len(row.target) + len(row[col]))\n",
    "    return f1score"
   ]
  },
  {
   "cell_type": "code",
   "execution_count": 7,
   "metadata": {
    "execution": {
     "iopub.execute_input": "2021-03-11T01:43:48.488330Z",
     "iopub.status.busy": "2021-03-11T01:43:48.487616Z",
     "iopub.status.idle": "2021-03-11T01:43:50.736699Z",
     "shell.execute_reply": "2021-03-11T01:43:50.737410Z"
    },
    "papermill": {
     "duration": 2.281634,
     "end_time": "2021-03-11T01:43:50.737628",
     "exception": false,
     "start_time": "2021-03-11T01:43:48.455994",
     "status": "completed"
    },
    "tags": []
   },
   "outputs": [
    {
     "name": "stdout",
     "output_type": "stream",
     "text": [
      "CV score for baseline = 0.5530933399167943\n"
     ]
    }
   ],
   "source": [
    "train['f1'] = train.apply(getMetric('oof'),axis=1)\n",
    "print('CV score for baseline =',train.f1.mean())"
   ]
  },
  {
   "cell_type": "markdown",
   "metadata": {
    "papermill": {
     "duration": 0.016749,
     "end_time": "2021-03-11T01:43:50.772582",
     "exception": false,
     "start_time": "2021-03-11T01:43:50.755833",
     "status": "completed"
    },
    "tags": []
   },
   "source": [
    "# Compute RAPIDS Model CV and Infer Submission\n",
    "We will now use image embeddings, text embeddings, and phash to create a better model with better CV. We will also infer submission csv.\n",
    "\n",
    "Note how the variable `COMPUTE_CV` is only `True` when we **commit** this notebook. Right now you are reading a **commit** notebook, so we see test replaced with train and computed CV score. When we **submit** this notebook, the variable `COMPUTE_CV` will be `False` and the **submit** notebook will **not** compute CV. Instead it will load the real test dataset with 70,000 rows and find duplicates in the real test dataset."
   ]
  },
  {
   "cell_type": "code",
   "execution_count": 8,
   "metadata": {
    "execution": {
     "iopub.execute_input": "2021-03-11T01:43:50.813658Z",
     "iopub.status.busy": "2021-03-11T01:43:50.812787Z",
     "iopub.status.idle": "2021-03-11T01:43:50.971808Z",
     "shell.execute_reply": "2021-03-11T01:43:50.972207Z"
    },
    "papermill": {
     "duration": 0.182857,
     "end_time": "2021-03-11T01:43:50.972360",
     "exception": false,
     "start_time": "2021-03-11T01:43:50.789503",
     "status": "completed"
    },
    "tags": []
   },
   "outputs": [
    {
     "name": "stdout",
     "output_type": "stream",
     "text": [
      "Using train as test to compute CV (since commit notebook). Shape is (34250, 5)\n"
     ]
    },
    {
     "data": {
      "text/html": [
       "<div>\n",
       "<style scoped>\n",
       "    .dataframe tbody tr th:only-of-type {\n",
       "        vertical-align: middle;\n",
       "    }\n",
       "\n",
       "    .dataframe tbody tr th {\n",
       "        vertical-align: top;\n",
       "    }\n",
       "\n",
       "    .dataframe thead th {\n",
       "        text-align: right;\n",
       "    }\n",
       "</style>\n",
       "<table border=\"1\" class=\"dataframe\">\n",
       "  <thead>\n",
       "    <tr style=\"text-align: right;\">\n",
       "      <th></th>\n",
       "      <th>posting_id</th>\n",
       "      <th>image</th>\n",
       "      <th>image_phash</th>\n",
       "      <th>title</th>\n",
       "      <th>label_group</th>\n",
       "    </tr>\n",
       "  </thead>\n",
       "  <tbody>\n",
       "    <tr>\n",
       "      <th>0</th>\n",
       "      <td>train_129225211</td>\n",
       "      <td>0000a68812bc7e98c42888dfb1c07da0.jpg</td>\n",
       "      <td>94974f937d4c2433</td>\n",
       "      <td>Paper Bag Victoria Secret</td>\n",
       "      <td>249114794</td>\n",
       "    </tr>\n",
       "    <tr>\n",
       "      <th>1</th>\n",
       "      <td>train_3386243561</td>\n",
       "      <td>00039780dfc94d01db8676fe789ecd05.jpg</td>\n",
       "      <td>af3f9460c2838f0f</td>\n",
       "      <td>Double Tape 3M VHB 12 mm x 4,5 m ORIGINAL / DO...</td>\n",
       "      <td>2937985045</td>\n",
       "    </tr>\n",
       "    <tr>\n",
       "      <th>2</th>\n",
       "      <td>train_2288590299</td>\n",
       "      <td>000a190fdd715a2a36faed16e2c65df7.jpg</td>\n",
       "      <td>b94cb00ed3e50f78</td>\n",
       "      <td>Maling TTS Canned Pork Luncheon Meat 397 gr</td>\n",
       "      <td>2395904891</td>\n",
       "    </tr>\n",
       "    <tr>\n",
       "      <th>3</th>\n",
       "      <td>train_2406599165</td>\n",
       "      <td>00117e4fc239b1b641ff08340b429633.jpg</td>\n",
       "      <td>8514fc58eafea283</td>\n",
       "      <td>Daster Batik Lengan pendek - Motif Acak / Camp...</td>\n",
       "      <td>4093212188</td>\n",
       "    </tr>\n",
       "    <tr>\n",
       "      <th>4</th>\n",
       "      <td>train_3369186413</td>\n",
       "      <td>00136d1cf4edede0203f32f05f660588.jpg</td>\n",
       "      <td>a6f319f924ad708c</td>\n",
       "      <td>Nescafe \\xc3\\x89clair Latte 220ml</td>\n",
       "      <td>3648931069</td>\n",
       "    </tr>\n",
       "  </tbody>\n",
       "</table>\n",
       "</div>"
      ],
      "text/plain": [
       "         posting_id                                 image       image_phash  \\\n",
       "0   train_129225211  0000a68812bc7e98c42888dfb1c07da0.jpg  94974f937d4c2433   \n",
       "1  train_3386243561  00039780dfc94d01db8676fe789ecd05.jpg  af3f9460c2838f0f   \n",
       "2  train_2288590299  000a190fdd715a2a36faed16e2c65df7.jpg  b94cb00ed3e50f78   \n",
       "3  train_2406599165  00117e4fc239b1b641ff08340b429633.jpg  8514fc58eafea283   \n",
       "4  train_3369186413  00136d1cf4edede0203f32f05f660588.jpg  a6f319f924ad708c   \n",
       "\n",
       "                                               title  label_group  \n",
       "0                          Paper Bag Victoria Secret    249114794  \n",
       "1  Double Tape 3M VHB 12 mm x 4,5 m ORIGINAL / DO...   2937985045  \n",
       "2        Maling TTS Canned Pork Luncheon Meat 397 gr   2395904891  \n",
       "3  Daster Batik Lengan pendek - Motif Acak / Camp...   4093212188  \n",
       "4                  Nescafe \\xc3\\x89clair Latte 220ml   3648931069  "
      ]
     },
     "execution_count": 8,
     "metadata": {},
     "output_type": "execute_result"
    }
   ],
   "source": [
    "if COMPUTE_CV:\n",
    "    test = pd.read_csv('../input/shopee-product-matching/train.csv')\n",
    "    test_gf = cudf.DataFrame(test)\n",
    "    print('Using train as test to compute CV (since commit notebook). Shape is', test_gf.shape )\n",
    "else:\n",
    "    test = pd.read_csv('../input/shopee-product-matching/test.csv')\n",
    "    test_gf = cudf.read_csv('../input/shopee-product-matching/test.csv')\n",
    "    print('Test shape is', test_gf.shape )\n",
    "test_gf.head()"
   ]
  },
  {
   "cell_type": "markdown",
   "metadata": {
    "papermill": {
     "duration": 0.017636,
     "end_time": "2021-03-11T01:43:51.007832",
     "exception": false,
     "start_time": "2021-03-11T01:43:50.990196",
     "status": "completed"
    },
    "tags": []
   },
   "source": [
    "# Use Image Embeddings\n",
    "To prevent memory errors, we will compute image embeddings in chunks. And we will find similar images with RAPIDS cuML KNN in chunks."
   ]
  },
  {
   "cell_type": "code",
   "execution_count": 9,
   "metadata": {
    "_kg_hide-input": true,
    "execution": {
     "iopub.execute_input": "2021-03-11T01:43:51.053981Z",
     "iopub.status.busy": "2021-03-11T01:43:51.053277Z",
     "iopub.status.idle": "2021-03-11T01:43:51.056270Z",
     "shell.execute_reply": "2021-03-11T01:43:51.055663Z"
    },
    "papermill": {
     "duration": 0.03026,
     "end_time": "2021-03-11T01:43:51.056392",
     "exception": false,
     "start_time": "2021-03-11T01:43:51.026132",
     "status": "completed"
    },
    "tags": []
   },
   "outputs": [],
   "source": [
    "class DataGenerator(tf.keras.utils.Sequence):\n",
    "    'Generates data for Keras'\n",
    "    def __init__(self, df, img_size=256, batch_size=32, path=''): \n",
    "        self.df = df\n",
    "        self.img_size = img_size\n",
    "        self.batch_size = batch_size\n",
    "        self.path = path\n",
    "        self.indexes = np.arange( len(self.df) )\n",
    "        \n",
    "    def __len__(self):\n",
    "        'Denotes the number of batches per epoch'\n",
    "        ct = len(self.df) // self.batch_size\n",
    "        ct += int(( (len(self.df)) % self.batch_size)!=0)\n",
    "        return ct\n",
    "\n",
    "    def __getitem__(self, index):\n",
    "        'Generate one batch of data'\n",
    "        indexes = self.indexes[index*self.batch_size:(index+1)*self.batch_size]\n",
    "        X = self.__data_generation(indexes)\n",
    "        return X\n",
    "            \n",
    "    def __data_generation(self, indexes):\n",
    "        'Generates data containing batch_size samples' \n",
    "        X = np.zeros((len(indexes),self.img_size,self.img_size,3),dtype='float32')\n",
    "        df = self.df.iloc[indexes]\n",
    "        for i,(index,row) in enumerate(df.iterrows()):\n",
    "            img = cv2.imread(self.path+row.image)\n",
    "            X[i,] = cv2.resize(img,(self.img_size,self.img_size)) #/128.0 - 1.0\n",
    "        return X"
   ]
  },
  {
   "cell_type": "code",
   "execution_count": 10,
   "metadata": {
    "execution": {
     "iopub.execute_input": "2021-03-11T01:43:51.099266Z",
     "iopub.status.busy": "2021-03-11T01:43:51.098775Z",
     "iopub.status.idle": "2021-03-11T01:49:09.216768Z",
     "shell.execute_reply": "2021-03-11T01:49:09.217343Z"
    },
    "papermill": {
     "duration": 318.143384,
     "end_time": "2021-03-11T01:49:09.217556",
     "exception": false,
     "start_time": "2021-03-11T01:43:51.074172",
     "status": "completed"
    },
    "tags": []
   },
   "outputs": [
    {
     "name": "stdout",
     "output_type": "stream",
     "text": [
      "Computing image embeddings...\n",
      "chunk 0 to 4096\n",
      "128/128 [==============================] - 39s 257ms/step\n",
      "chunk 4096 to 8192\n",
      "128/128 [==============================] - 37s 276ms/step\n",
      "chunk 8192 to 12288\n",
      "128/128 [==============================] - 36s 277ms/step\n",
      "chunk 12288 to 16384\n",
      "128/128 [==============================] - 36s 272ms/step\n",
      "chunk 16384 to 20480\n",
      "128/128 [==============================] - 38s 290ms/step\n",
      "chunk 20480 to 24576\n",
      "128/128 [==============================] - 37s 279ms/step\n",
      "chunk 24576 to 28672\n",
      "128/128 [==============================] - 35s 270ms/step\n",
      "chunk 28672 to 32768\n",
      "128/128 [==============================] - 37s 280ms/step\n",
      "chunk 32768 to 34250\n",
      "47/47 [==============================] - 14s 283ms/step\n",
      "image embeddings shape (34250, 1280)\n"
     ]
    }
   ],
   "source": [
    "BASE = '../input/shopee-product-matching/test_images/'\n",
    "if COMPUTE_CV: BASE = '../input/shopee-product-matching/train_images/'\n",
    "\n",
    "WGT = '../input/effnetb0/efficientnetb0_notop.h5'\n",
    "model = EfficientNetB0(weights=WGT,include_top=False, pooling='avg', input_shape=None)\n",
    "\n",
    "embeds = []\n",
    "CHUNK = 1024*4\n",
    "\n",
    "print('Computing image embeddings...')\n",
    "CTS = len(test)//CHUNK\n",
    "if len(test)%CHUNK!=0: CTS += 1\n",
    "for i,j in enumerate( range( CTS ) ):\n",
    "    \n",
    "    a = j*CHUNK\n",
    "    b = (j+1)*CHUNK\n",
    "    b = min(b,len(test))\n",
    "    print('chunk',a,'to',b)\n",
    "    \n",
    "    test_gen = DataGenerator(test.iloc[a:b], batch_size=32, path=BASE)\n",
    "    image_embeddings = model.predict(test_gen,verbose=1,use_multiprocessing=True, workers=4)\n",
    "    embeds.append(image_embeddings)\n",
    "\n",
    "    #if i>=1: break\n",
    "    \n",
    "del model\n",
    "_ = gc.collect()\n",
    "image_embeddings = np.concatenate(embeds)\n",
    "print('image embeddings shape',image_embeddings.shape)"
   ]
  },
  {
   "cell_type": "code",
   "execution_count": 11,
   "metadata": {
    "execution": {
     "iopub.execute_input": "2021-03-11T01:49:11.190356Z",
     "iopub.status.busy": "2021-03-11T01:49:11.189439Z",
     "iopub.status.idle": "2021-03-11T01:49:11.942371Z",
     "shell.execute_reply": "2021-03-11T01:49:11.941942Z"
    },
    "papermill": {
     "duration": 1.42443,
     "end_time": "2021-03-11T01:49:11.942496",
     "exception": false,
     "start_time": "2021-03-11T01:49:10.518066",
     "status": "completed"
    },
    "tags": []
   },
   "outputs": [
    {
     "data": {
      "text/plain": [
       "NearestNeighbors(n_neighbors=50, verbose=4, handle=<cuml.raft.common.handle.Handle object at 0x7f576132e090>, algorithm='brute', metric='euclidean', p=2, metric_params=None, output_type='numpy')"
      ]
     },
     "execution_count": 11,
     "metadata": {},
     "output_type": "execute_result"
    }
   ],
   "source": [
    "KNN = 50\n",
    "if len(test)==3: KNN = 2\n",
    "model = NearestNeighbors(n_neighbors=KNN)\n",
    "model.fit(image_embeddings)"
   ]
  },
  {
   "cell_type": "code",
   "execution_count": 12,
   "metadata": {
    "execution": {
     "iopub.execute_input": "2021-03-11T01:49:12.539829Z",
     "iopub.status.busy": "2021-03-11T01:49:12.538972Z",
     "iopub.status.idle": "2021-03-11T01:49:22.988971Z",
     "shell.execute_reply": "2021-03-11T01:49:22.988054Z"
    },
    "papermill": {
     "duration": 10.751052,
     "end_time": "2021-03-11T01:49:22.989117",
     "exception": false,
     "start_time": "2021-03-11T01:49:12.238065",
     "status": "completed"
    },
    "tags": []
   },
   "outputs": [
    {
     "name": "stdout",
     "output_type": "stream",
     "text": [
      "Finding similar images...\n",
      "chunk 0 to 4096\n",
      "chunk 4096 to 8192\n",
      "chunk 8192 to 12288\n",
      "chunk 12288 to 16384\n",
      "chunk 16384 to 20480\n",
      "chunk 20480 to 24576\n",
      "chunk 24576 to 28672\n",
      "chunk 28672 to 32768\n",
      "chunk 32768 to 34250\n"
     ]
    }
   ],
   "source": [
    "preds = []\n",
    "CHUNK = 1024*4\n",
    "\n",
    "print('Finding similar images...')\n",
    "CTS = len(image_embeddings)//CHUNK\n",
    "if len(image_embeddings)%CHUNK!=0: CTS += 1\n",
    "for j in range( CTS ):\n",
    "    \n",
    "    a = j*CHUNK\n",
    "    b = (j+1)*CHUNK\n",
    "    b = min(b,len(image_embeddings))\n",
    "    print('chunk',a,'to',b)\n",
    "    distances, indices = model.kneighbors(image_embeddings[a:b,])\n",
    "    \n",
    "    for k in range(b-a):\n",
    "        IDX = np.where(distances[k,]<6.0)[0]\n",
    "        IDS = indices[k,IDX]\n",
    "        o = test.iloc[IDS].posting_id.values\n",
    "        preds.append(o)\n",
    "        \n",
    "del model, distances, indices, image_embeddings, embeds\n",
    "_ = gc.collect()"
   ]
  },
  {
   "cell_type": "code",
   "execution_count": 13,
   "metadata": {
    "execution": {
     "iopub.execute_input": "2021-03-11T01:49:23.594162Z",
     "iopub.status.busy": "2021-03-11T01:49:23.593353Z",
     "iopub.status.idle": "2021-03-11T01:49:23.598205Z",
     "shell.execute_reply": "2021-03-11T01:49:23.598628Z"
    },
    "papermill": {
     "duration": 0.316166,
     "end_time": "2021-03-11T01:49:23.598782",
     "exception": false,
     "start_time": "2021-03-11T01:49:23.282616",
     "status": "completed"
    },
    "tags": []
   },
   "outputs": [
    {
     "data": {
      "text/html": [
       "<div>\n",
       "<style scoped>\n",
       "    .dataframe tbody tr th:only-of-type {\n",
       "        vertical-align: middle;\n",
       "    }\n",
       "\n",
       "    .dataframe tbody tr th {\n",
       "        vertical-align: top;\n",
       "    }\n",
       "\n",
       "    .dataframe thead th {\n",
       "        text-align: right;\n",
       "    }\n",
       "</style>\n",
       "<table border=\"1\" class=\"dataframe\">\n",
       "  <thead>\n",
       "    <tr style=\"text-align: right;\">\n",
       "      <th></th>\n",
       "      <th>posting_id</th>\n",
       "      <th>image</th>\n",
       "      <th>image_phash</th>\n",
       "      <th>title</th>\n",
       "      <th>label_group</th>\n",
       "      <th>preds2</th>\n",
       "    </tr>\n",
       "  </thead>\n",
       "  <tbody>\n",
       "    <tr>\n",
       "      <th>0</th>\n",
       "      <td>train_129225211</td>\n",
       "      <td>0000a68812bc7e98c42888dfb1c07da0.jpg</td>\n",
       "      <td>94974f937d4c2433</td>\n",
       "      <td>Paper Bag Victoria Secret</td>\n",
       "      <td>249114794</td>\n",
       "      <td>[train_129225211]</td>\n",
       "    </tr>\n",
       "    <tr>\n",
       "      <th>1</th>\n",
       "      <td>train_3386243561</td>\n",
       "      <td>00039780dfc94d01db8676fe789ecd05.jpg</td>\n",
       "      <td>af3f9460c2838f0f</td>\n",
       "      <td>Double Tape 3M VHB 12 mm x 4,5 m ORIGINAL / DO...</td>\n",
       "      <td>2937985045</td>\n",
       "      <td>[train_3386243561, train_3423213080]</td>\n",
       "    </tr>\n",
       "    <tr>\n",
       "      <th>2</th>\n",
       "      <td>train_2288590299</td>\n",
       "      <td>000a190fdd715a2a36faed16e2c65df7.jpg</td>\n",
       "      <td>b94cb00ed3e50f78</td>\n",
       "      <td>Maling TTS Canned Pork Luncheon Meat 397 gr</td>\n",
       "      <td>2395904891</td>\n",
       "      <td>[train_2288590299]</td>\n",
       "    </tr>\n",
       "    <tr>\n",
       "      <th>3</th>\n",
       "      <td>train_2406599165</td>\n",
       "      <td>00117e4fc239b1b641ff08340b429633.jpg</td>\n",
       "      <td>8514fc58eafea283</td>\n",
       "      <td>Daster Batik Lengan pendek - Motif Acak / Camp...</td>\n",
       "      <td>4093212188</td>\n",
       "      <td>[train_2406599165]</td>\n",
       "    </tr>\n",
       "    <tr>\n",
       "      <th>4</th>\n",
       "      <td>train_3369186413</td>\n",
       "      <td>00136d1cf4edede0203f32f05f660588.jpg</td>\n",
       "      <td>a6f319f924ad708c</td>\n",
       "      <td>Nescafe \\xc3\\x89clair Latte 220ml</td>\n",
       "      <td>3648931069</td>\n",
       "      <td>[train_3369186413, train_921438619]</td>\n",
       "    </tr>\n",
       "  </tbody>\n",
       "</table>\n",
       "</div>"
      ],
      "text/plain": [
       "         posting_id                                 image       image_phash  \\\n",
       "0   train_129225211  0000a68812bc7e98c42888dfb1c07da0.jpg  94974f937d4c2433   \n",
       "1  train_3386243561  00039780dfc94d01db8676fe789ecd05.jpg  af3f9460c2838f0f   \n",
       "2  train_2288590299  000a190fdd715a2a36faed16e2c65df7.jpg  b94cb00ed3e50f78   \n",
       "3  train_2406599165  00117e4fc239b1b641ff08340b429633.jpg  8514fc58eafea283   \n",
       "4  train_3369186413  00136d1cf4edede0203f32f05f660588.jpg  a6f319f924ad708c   \n",
       "\n",
       "                                               title  label_group  \\\n",
       "0                          Paper Bag Victoria Secret    249114794   \n",
       "1  Double Tape 3M VHB 12 mm x 4,5 m ORIGINAL / DO...   2937985045   \n",
       "2        Maling TTS Canned Pork Luncheon Meat 397 gr   2395904891   \n",
       "3  Daster Batik Lengan pendek - Motif Acak / Camp...   4093212188   \n",
       "4                  Nescafe \\xc3\\x89clair Latte 220ml   3648931069   \n",
       "\n",
       "                                 preds2  \n",
       "0                     [train_129225211]  \n",
       "1  [train_3386243561, train_3423213080]  \n",
       "2                    [train_2288590299]  \n",
       "3                    [train_2406599165]  \n",
       "4   [train_3369186413, train_921438619]  "
      ]
     },
     "execution_count": 13,
     "metadata": {},
     "output_type": "execute_result"
    }
   ],
   "source": [
    "test['preds2'] = preds\n",
    "test.head()"
   ]
  },
  {
   "cell_type": "markdown",
   "metadata": {
    "papermill": {
     "duration": 0.468147,
     "end_time": "2021-03-11T01:49:24.443792",
     "exception": false,
     "start_time": "2021-03-11T01:49:23.975645",
     "status": "completed"
    },
    "tags": []
   },
   "source": [
    "# Use Text Embeddings\n",
    "To prevent memory errors, we will find similar titles in chunks. To faciliate this, we will use cosine similarity between text embeddings instead of KNN."
   ]
  },
  {
   "cell_type": "code",
   "execution_count": 14,
   "metadata": {
    "execution": {
     "iopub.execute_input": "2021-03-11T01:49:25.242512Z",
     "iopub.status.busy": "2021-03-11T01:49:25.241887Z",
     "iopub.status.idle": "2021-03-11T01:49:39.415675Z",
     "shell.execute_reply": "2021-03-11T01:49:39.415208Z"
    },
    "papermill": {
     "duration": 14.493766,
     "end_time": "2021-03-11T01:49:39.415812",
     "exception": false,
     "start_time": "2021-03-11T01:49:24.922046",
     "status": "completed"
    },
    "tags": []
   },
   "outputs": [
    {
     "name": "stdout",
     "output_type": "stream",
     "text": [
      "Computing text embeddings...\n",
      "text embeddings shape (34250, 24939)\n"
     ]
    }
   ],
   "source": [
    "print('Computing text embeddings...')\n",
    "model = TfidfVectorizer(stop_words='english', binary=True, max_features=25_000)\n",
    "text_embeddings = model.fit_transform(test_gf.title).toarray()\n",
    "print('text embeddings shape',text_embeddings.shape)"
   ]
  },
  {
   "cell_type": "code",
   "execution_count": 15,
   "metadata": {
    "execution": {
     "iopub.execute_input": "2021-03-11T01:49:40.013420Z",
     "iopub.status.busy": "2021-03-11T01:49:40.012559Z",
     "iopub.status.idle": "2021-03-11T01:50:09.953737Z",
     "shell.execute_reply": "2021-03-11T01:50:09.953220Z"
    },
    "papermill": {
     "duration": 30.244944,
     "end_time": "2021-03-11T01:50:09.953888",
     "exception": false,
     "start_time": "2021-03-11T01:49:39.708944",
     "status": "completed"
    },
    "tags": []
   },
   "outputs": [
    {
     "name": "stdout",
     "output_type": "stream",
     "text": [
      "Finding similar titles...\n",
      "chunk 0 to 4096\n",
      "chunk 4096 to 8192\n",
      "chunk 8192 to 12288\n",
      "chunk 12288 to 16384\n",
      "chunk 16384 to 20480\n",
      "chunk 20480 to 24576\n",
      "chunk 24576 to 28672\n",
      "chunk 28672 to 32768\n",
      "chunk 32768 to 34250\n"
     ]
    }
   ],
   "source": [
    "preds = []\n",
    "CHUNK = 1024*4\n",
    "\n",
    "print('Finding similar titles...')\n",
    "CTS = len(test)//CHUNK\n",
    "if len(test)%CHUNK!=0: CTS += 1\n",
    "for j in range( CTS ):\n",
    "    \n",
    "    a = j*CHUNK\n",
    "    b = (j+1)*CHUNK\n",
    "    b = min(b,len(test))\n",
    "    print('chunk',a,'to',b)\n",
    "    \n",
    "    # COSINE SIMILARITY DISTANCE\n",
    "    cts = cupy.matmul( text_embeddings, text_embeddings[a:b].T).T\n",
    "    \n",
    "    for k in range(b-a):\n",
    "        IDX = cupy.where(cts[k,]>0.7)[0]\n",
    "        o = test.iloc[cupy.asnumpy(IDX)].posting_id.values\n",
    "        preds.append(o)\n",
    "        \n",
    "del model, text_embeddings\n",
    "_ = gc.collect()"
   ]
  },
  {
   "cell_type": "code",
   "execution_count": 16,
   "metadata": {
    "execution": {
     "iopub.execute_input": "2021-03-11T01:50:10.605618Z",
     "iopub.status.busy": "2021-03-11T01:50:10.604670Z",
     "iopub.status.idle": "2021-03-11T01:50:10.609031Z",
     "shell.execute_reply": "2021-03-11T01:50:10.609407Z"
    },
    "papermill": {
     "duration": 0.358625,
     "end_time": "2021-03-11T01:50:10.609547",
     "exception": false,
     "start_time": "2021-03-11T01:50:10.250922",
     "status": "completed"
    },
    "tags": []
   },
   "outputs": [
    {
     "data": {
      "text/html": [
       "<div>\n",
       "<style scoped>\n",
       "    .dataframe tbody tr th:only-of-type {\n",
       "        vertical-align: middle;\n",
       "    }\n",
       "\n",
       "    .dataframe tbody tr th {\n",
       "        vertical-align: top;\n",
       "    }\n",
       "\n",
       "    .dataframe thead th {\n",
       "        text-align: right;\n",
       "    }\n",
       "</style>\n",
       "<table border=\"1\" class=\"dataframe\">\n",
       "  <thead>\n",
       "    <tr style=\"text-align: right;\">\n",
       "      <th></th>\n",
       "      <th>posting_id</th>\n",
       "      <th>image</th>\n",
       "      <th>image_phash</th>\n",
       "      <th>title</th>\n",
       "      <th>label_group</th>\n",
       "      <th>preds2</th>\n",
       "      <th>preds</th>\n",
       "    </tr>\n",
       "  </thead>\n",
       "  <tbody>\n",
       "    <tr>\n",
       "      <th>0</th>\n",
       "      <td>train_129225211</td>\n",
       "      <td>0000a68812bc7e98c42888dfb1c07da0.jpg</td>\n",
       "      <td>94974f937d4c2433</td>\n",
       "      <td>Paper Bag Victoria Secret</td>\n",
       "      <td>249114794</td>\n",
       "      <td>[train_129225211]</td>\n",
       "      <td>[train_129225211, train_2278313361]</td>\n",
       "    </tr>\n",
       "    <tr>\n",
       "      <th>1</th>\n",
       "      <td>train_3386243561</td>\n",
       "      <td>00039780dfc94d01db8676fe789ecd05.jpg</td>\n",
       "      <td>af3f9460c2838f0f</td>\n",
       "      <td>Double Tape 3M VHB 12 mm x 4,5 m ORIGINAL / DO...</td>\n",
       "      <td>2937985045</td>\n",
       "      <td>[train_3386243561, train_3423213080]</td>\n",
       "      <td>[train_3386243561]</td>\n",
       "    </tr>\n",
       "    <tr>\n",
       "      <th>2</th>\n",
       "      <td>train_2288590299</td>\n",
       "      <td>000a190fdd715a2a36faed16e2c65df7.jpg</td>\n",
       "      <td>b94cb00ed3e50f78</td>\n",
       "      <td>Maling TTS Canned Pork Luncheon Meat 397 gr</td>\n",
       "      <td>2395904891</td>\n",
       "      <td>[train_2288590299]</td>\n",
       "      <td>[train_2288590299]</td>\n",
       "    </tr>\n",
       "    <tr>\n",
       "      <th>3</th>\n",
       "      <td>train_2406599165</td>\n",
       "      <td>00117e4fc239b1b641ff08340b429633.jpg</td>\n",
       "      <td>8514fc58eafea283</td>\n",
       "      <td>Daster Batik Lengan pendek - Motif Acak / Camp...</td>\n",
       "      <td>4093212188</td>\n",
       "      <td>[train_2406599165]</td>\n",
       "      <td>[train_2406599165, train_3576714541, train_150...</td>\n",
       "    </tr>\n",
       "    <tr>\n",
       "      <th>4</th>\n",
       "      <td>train_3369186413</td>\n",
       "      <td>00136d1cf4edede0203f32f05f660588.jpg</td>\n",
       "      <td>a6f319f924ad708c</td>\n",
       "      <td>Nescafe \\xc3\\x89clair Latte 220ml</td>\n",
       "      <td>3648931069</td>\n",
       "      <td>[train_3369186413, train_921438619]</td>\n",
       "      <td>[train_3369186413]</td>\n",
       "    </tr>\n",
       "  </tbody>\n",
       "</table>\n",
       "</div>"
      ],
      "text/plain": [
       "         posting_id                                 image       image_phash  \\\n",
       "0   train_129225211  0000a68812bc7e98c42888dfb1c07da0.jpg  94974f937d4c2433   \n",
       "1  train_3386243561  00039780dfc94d01db8676fe789ecd05.jpg  af3f9460c2838f0f   \n",
       "2  train_2288590299  000a190fdd715a2a36faed16e2c65df7.jpg  b94cb00ed3e50f78   \n",
       "3  train_2406599165  00117e4fc239b1b641ff08340b429633.jpg  8514fc58eafea283   \n",
       "4  train_3369186413  00136d1cf4edede0203f32f05f660588.jpg  a6f319f924ad708c   \n",
       "\n",
       "                                               title  label_group  \\\n",
       "0                          Paper Bag Victoria Secret    249114794   \n",
       "1  Double Tape 3M VHB 12 mm x 4,5 m ORIGINAL / DO...   2937985045   \n",
       "2        Maling TTS Canned Pork Luncheon Meat 397 gr   2395904891   \n",
       "3  Daster Batik Lengan pendek - Motif Acak / Camp...   4093212188   \n",
       "4                  Nescafe \\xc3\\x89clair Latte 220ml   3648931069   \n",
       "\n",
       "                                 preds2  \\\n",
       "0                     [train_129225211]   \n",
       "1  [train_3386243561, train_3423213080]   \n",
       "2                    [train_2288590299]   \n",
       "3                    [train_2406599165]   \n",
       "4   [train_3369186413, train_921438619]   \n",
       "\n",
       "                                               preds  \n",
       "0                [train_129225211, train_2278313361]  \n",
       "1                                 [train_3386243561]  \n",
       "2                                 [train_2288590299]  \n",
       "3  [train_2406599165, train_3576714541, train_150...  \n",
       "4                                 [train_3369186413]  "
      ]
     },
     "execution_count": 16,
     "metadata": {},
     "output_type": "execute_result"
    }
   ],
   "source": [
    "test['preds'] = preds\n",
    "test.head()"
   ]
  },
  {
   "cell_type": "markdown",
   "metadata": {
    "papermill": {
     "duration": 0.295385,
     "end_time": "2021-03-11T01:50:11.200787",
     "exception": false,
     "start_time": "2021-03-11T01:50:10.905402",
     "status": "completed"
    },
    "tags": []
   },
   "source": [
    "# Use Phash Feature\n",
    "We will predict all items with the same phash as duplicates"
   ]
  },
  {
   "cell_type": "code",
   "execution_count": 17,
   "metadata": {
    "execution": {
     "iopub.execute_input": "2021-03-11T01:50:11.800519Z",
     "iopub.status.busy": "2021-03-11T01:50:11.799733Z",
     "iopub.status.idle": "2021-03-11T01:50:13.855646Z",
     "shell.execute_reply": "2021-03-11T01:50:13.854754Z"
    },
    "papermill": {
     "duration": 2.35757,
     "end_time": "2021-03-11T01:50:13.855788",
     "exception": false,
     "start_time": "2021-03-11T01:50:11.498218",
     "status": "completed"
    },
    "tags": []
   },
   "outputs": [
    {
     "data": {
      "text/html": [
       "<div>\n",
       "<style scoped>\n",
       "    .dataframe tbody tr th:only-of-type {\n",
       "        vertical-align: middle;\n",
       "    }\n",
       "\n",
       "    .dataframe tbody tr th {\n",
       "        vertical-align: top;\n",
       "    }\n",
       "\n",
       "    .dataframe thead th {\n",
       "        text-align: right;\n",
       "    }\n",
       "</style>\n",
       "<table border=\"1\" class=\"dataframe\">\n",
       "  <thead>\n",
       "    <tr style=\"text-align: right;\">\n",
       "      <th></th>\n",
       "      <th>posting_id</th>\n",
       "      <th>image</th>\n",
       "      <th>image_phash</th>\n",
       "      <th>title</th>\n",
       "      <th>label_group</th>\n",
       "      <th>preds2</th>\n",
       "      <th>preds</th>\n",
       "      <th>preds3</th>\n",
       "    </tr>\n",
       "  </thead>\n",
       "  <tbody>\n",
       "    <tr>\n",
       "      <th>0</th>\n",
       "      <td>train_129225211</td>\n",
       "      <td>0000a68812bc7e98c42888dfb1c07da0.jpg</td>\n",
       "      <td>94974f937d4c2433</td>\n",
       "      <td>Paper Bag Victoria Secret</td>\n",
       "      <td>249114794</td>\n",
       "      <td>[train_129225211]</td>\n",
       "      <td>[train_129225211, train_2278313361]</td>\n",
       "      <td>[train_129225211]</td>\n",
       "    </tr>\n",
       "    <tr>\n",
       "      <th>1</th>\n",
       "      <td>train_3386243561</td>\n",
       "      <td>00039780dfc94d01db8676fe789ecd05.jpg</td>\n",
       "      <td>af3f9460c2838f0f</td>\n",
       "      <td>Double Tape 3M VHB 12 mm x 4,5 m ORIGINAL / DO...</td>\n",
       "      <td>2937985045</td>\n",
       "      <td>[train_3386243561, train_3423213080]</td>\n",
       "      <td>[train_3386243561]</td>\n",
       "      <td>[train_3386243561]</td>\n",
       "    </tr>\n",
       "    <tr>\n",
       "      <th>2</th>\n",
       "      <td>train_2288590299</td>\n",
       "      <td>000a190fdd715a2a36faed16e2c65df7.jpg</td>\n",
       "      <td>b94cb00ed3e50f78</td>\n",
       "      <td>Maling TTS Canned Pork Luncheon Meat 397 gr</td>\n",
       "      <td>2395904891</td>\n",
       "      <td>[train_2288590299]</td>\n",
       "      <td>[train_2288590299]</td>\n",
       "      <td>[train_2288590299]</td>\n",
       "    </tr>\n",
       "    <tr>\n",
       "      <th>3</th>\n",
       "      <td>train_2406599165</td>\n",
       "      <td>00117e4fc239b1b641ff08340b429633.jpg</td>\n",
       "      <td>8514fc58eafea283</td>\n",
       "      <td>Daster Batik Lengan pendek - Motif Acak / Camp...</td>\n",
       "      <td>4093212188</td>\n",
       "      <td>[train_2406599165]</td>\n",
       "      <td>[train_2406599165, train_3576714541, train_150...</td>\n",
       "      <td>[train_2406599165]</td>\n",
       "    </tr>\n",
       "    <tr>\n",
       "      <th>4</th>\n",
       "      <td>train_3369186413</td>\n",
       "      <td>00136d1cf4edede0203f32f05f660588.jpg</td>\n",
       "      <td>a6f319f924ad708c</td>\n",
       "      <td>Nescafe \\xc3\\x89clair Latte 220ml</td>\n",
       "      <td>3648931069</td>\n",
       "      <td>[train_3369186413, train_921438619]</td>\n",
       "      <td>[train_3369186413]</td>\n",
       "      <td>[train_3369186413]</td>\n",
       "    </tr>\n",
       "  </tbody>\n",
       "</table>\n",
       "</div>"
      ],
      "text/plain": [
       "         posting_id                                 image       image_phash  \\\n",
       "0   train_129225211  0000a68812bc7e98c42888dfb1c07da0.jpg  94974f937d4c2433   \n",
       "1  train_3386243561  00039780dfc94d01db8676fe789ecd05.jpg  af3f9460c2838f0f   \n",
       "2  train_2288590299  000a190fdd715a2a36faed16e2c65df7.jpg  b94cb00ed3e50f78   \n",
       "3  train_2406599165  00117e4fc239b1b641ff08340b429633.jpg  8514fc58eafea283   \n",
       "4  train_3369186413  00136d1cf4edede0203f32f05f660588.jpg  a6f319f924ad708c   \n",
       "\n",
       "                                               title  label_group  \\\n",
       "0                          Paper Bag Victoria Secret    249114794   \n",
       "1  Double Tape 3M VHB 12 mm x 4,5 m ORIGINAL / DO...   2937985045   \n",
       "2        Maling TTS Canned Pork Luncheon Meat 397 gr   2395904891   \n",
       "3  Daster Batik Lengan pendek - Motif Acak / Camp...   4093212188   \n",
       "4                  Nescafe \\xc3\\x89clair Latte 220ml   3648931069   \n",
       "\n",
       "                                 preds2  \\\n",
       "0                     [train_129225211]   \n",
       "1  [train_3386243561, train_3423213080]   \n",
       "2                    [train_2288590299]   \n",
       "3                    [train_2406599165]   \n",
       "4   [train_3369186413, train_921438619]   \n",
       "\n",
       "                                               preds              preds3  \n",
       "0                [train_129225211, train_2278313361]   [train_129225211]  \n",
       "1                                 [train_3386243561]  [train_3386243561]  \n",
       "2                                 [train_2288590299]  [train_2288590299]  \n",
       "3  [train_2406599165, train_3576714541, train_150...  [train_2406599165]  \n",
       "4                                 [train_3369186413]  [train_3369186413]  "
      ]
     },
     "execution_count": 17,
     "metadata": {},
     "output_type": "execute_result"
    }
   ],
   "source": [
    "tmp = test.groupby('image_phash').posting_id.agg('unique').to_dict()\n",
    "test['preds3'] = test.image_phash.map(tmp)\n",
    "test.head()"
   ]
  },
  {
   "cell_type": "markdown",
   "metadata": {
    "papermill": {
     "duration": 0.299539,
     "end_time": "2021-03-11T01:50:14.451992",
     "exception": false,
     "start_time": "2021-03-11T01:50:14.152453",
     "status": "completed"
    },
    "tags": []
   },
   "source": [
    "# Compute CV Score\n",
    "This simple model scores a high CV of 0.700+!"
   ]
  },
  {
   "cell_type": "code",
   "execution_count": 18,
   "metadata": {
    "execution": {
     "iopub.execute_input": "2021-03-11T01:50:15.055227Z",
     "iopub.status.busy": "2021-03-11T01:50:15.053491Z",
     "iopub.status.idle": "2021-03-11T01:50:15.055807Z",
     "shell.execute_reply": "2021-03-11T01:50:15.056195Z"
    },
    "papermill": {
     "duration": 0.306166,
     "end_time": "2021-03-11T01:50:15.056338",
     "exception": false,
     "start_time": "2021-03-11T01:50:14.750172",
     "status": "completed"
    },
    "tags": []
   },
   "outputs": [],
   "source": [
    "def combine_for_sub(row):\n",
    "    x = np.concatenate([row.preds,row.preds2, row.preds3])\n",
    "    return ' '.join( np.unique(x) )\n",
    "\n",
    "def combine_for_cv(row):\n",
    "    x = np.concatenate([row.preds,row.preds2, row.preds3])\n",
    "    return np.unique(x)"
   ]
  },
  {
   "cell_type": "code",
   "execution_count": 19,
   "metadata": {
    "execution": {
     "iopub.execute_input": "2021-03-11T01:50:15.669724Z",
     "iopub.status.busy": "2021-03-11T01:50:15.668924Z",
     "iopub.status.idle": "2021-03-11T01:50:22.937322Z",
     "shell.execute_reply": "2021-03-11T01:50:22.936834Z"
    },
    "papermill": {
     "duration": 7.577056,
     "end_time": "2021-03-11T01:50:22.937454",
     "exception": false,
     "start_time": "2021-03-11T01:50:15.360398",
     "status": "completed"
    },
    "tags": []
   },
   "outputs": [
    {
     "name": "stdout",
     "output_type": "stream",
     "text": [
      "CV Score = 0.7248077230326005\n"
     ]
    }
   ],
   "source": [
    "if COMPUTE_CV:\n",
    "    tmp = test.groupby('label_group').posting_id.agg('unique').to_dict()\n",
    "    test['target'] = test.label_group.map(tmp)\n",
    "    test['oof'] = test.apply(combine_for_cv,axis=1)\n",
    "    test['f1'] = test.apply(getMetric('oof'),axis=1)\n",
    "    print('CV Score =', test.f1.mean() )\n",
    "\n",
    "test['matches'] = test.apply(combine_for_sub,axis=1)"
   ]
  },
  {
   "cell_type": "markdown",
   "metadata": {
    "papermill": {
     "duration": 0.29709,
     "end_time": "2021-03-11T01:50:23.537158",
     "exception": false,
     "start_time": "2021-03-11T01:50:23.240068",
     "status": "completed"
    },
    "tags": []
   },
   "source": [
    "# Write Submission CSV\n",
    "In this notebook, the submission file below looks funny containing train information. But when we submit this notebook, the size of `test.csv` dataframe will be longer than 3 rows and the variable `COMPUTE_CV` will subsequently set to `False`. Then our submission notebook will compute the correct matches using the real test dataset and our submission csv for LB will be ok."
   ]
  },
  {
   "cell_type": "code",
   "execution_count": 20,
   "metadata": {
    "execution": {
     "iopub.execute_input": "2021-03-11T01:50:24.136526Z",
     "iopub.status.busy": "2021-03-11T01:50:24.135740Z",
     "iopub.status.idle": "2021-03-11T01:50:24.590081Z",
     "shell.execute_reply": "2021-03-11T01:50:24.591139Z"
    },
    "papermill": {
     "duration": 0.758231,
     "end_time": "2021-03-11T01:50:24.591362",
     "exception": false,
     "start_time": "2021-03-11T01:50:23.833131",
     "status": "completed"
    },
    "tags": []
   },
   "outputs": [
    {
     "data": {
      "text/html": [
       "<div>\n",
       "<style scoped>\n",
       "    .dataframe tbody tr th:only-of-type {\n",
       "        vertical-align: middle;\n",
       "    }\n",
       "\n",
       "    .dataframe tbody tr th {\n",
       "        vertical-align: top;\n",
       "    }\n",
       "\n",
       "    .dataframe thead th {\n",
       "        text-align: right;\n",
       "    }\n",
       "</style>\n",
       "<table border=\"1\" class=\"dataframe\">\n",
       "  <thead>\n",
       "    <tr style=\"text-align: right;\">\n",
       "      <th></th>\n",
       "      <th>posting_id</th>\n",
       "      <th>matches</th>\n",
       "    </tr>\n",
       "  </thead>\n",
       "  <tbody>\n",
       "    <tr>\n",
       "      <th>0</th>\n",
       "      <td>train_129225211</td>\n",
       "      <td>train_129225211 train_2278313361</td>\n",
       "    </tr>\n",
       "    <tr>\n",
       "      <th>1</th>\n",
       "      <td>train_3386243561</td>\n",
       "      <td>train_3386243561 train_3423213080</td>\n",
       "    </tr>\n",
       "    <tr>\n",
       "      <th>2</th>\n",
       "      <td>train_2288590299</td>\n",
       "      <td>train_2288590299</td>\n",
       "    </tr>\n",
       "    <tr>\n",
       "      <th>3</th>\n",
       "      <td>train_2406599165</td>\n",
       "      <td>train_1508100548 train_1744956981 train_240659...</td>\n",
       "    </tr>\n",
       "    <tr>\n",
       "      <th>4</th>\n",
       "      <td>train_3369186413</td>\n",
       "      <td>train_3369186413 train_921438619</td>\n",
       "    </tr>\n",
       "  </tbody>\n",
       "</table>\n",
       "</div>"
      ],
      "text/plain": [
       "         posting_id                                            matches\n",
       "0   train_129225211                   train_129225211 train_2278313361\n",
       "1  train_3386243561                  train_3386243561 train_3423213080\n",
       "2  train_2288590299                                   train_2288590299\n",
       "3  train_2406599165  train_1508100548 train_1744956981 train_240659...\n",
       "4  train_3369186413                   train_3369186413 train_921438619"
      ]
     },
     "execution_count": 20,
     "metadata": {},
     "output_type": "execute_result"
    }
   ],
   "source": [
    "test[['posting_id','matches']].to_csv('submission.csv',index=False)\n",
    "sub = pd.read_csv('submission.csv')\n",
    "sub.head()"
   ]
  }
 ],
 "metadata": {
  "kernelspec": {
   "display_name": "Python 3",
   "language": "python",
   "name": "python3"
  },
  "language_info": {
   "codemirror_mode": {
    "name": "ipython",
    "version": 3
   },
   "file_extension": ".py",
   "mimetype": "text/x-python",
   "name": "python",
   "nbconvert_exporter": "python",
   "pygments_lexer": "ipython3",
   "version": "3.7.10"
  },
  "papermill": {
   "default_parameters": {},
   "duration": 420.837031,
   "end_time": "2021-03-11T01:50:27.311922",
   "environment_variables": {},
   "exception": null,
   "input_path": "__notebook__.ipynb",
   "output_path": "__notebook__.ipynb",
   "parameters": {},
   "start_time": "2021-03-11T01:43:26.474891",
   "version": "2.2.2"
  }
 },
 "nbformat": 4,
 "nbformat_minor": 4
}
