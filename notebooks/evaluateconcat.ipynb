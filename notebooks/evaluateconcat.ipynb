{
 "cells": [
  {
   "cell_type": "code",
   "execution_count": 1,
   "id": "classified-reach",
   "metadata": {},
   "outputs": [],
   "source": [
    "import numpy as np\n",
    "import pandas as pd\n",
    "import gc\n",
    "import os\n",
    "import sys\n",
    "import yaml\n",
    "import re\n",
    "import random\n",
    "import math\n",
    "import matplotlib.pyplot as plt\n",
    "import warnings\n",
    "import pickle\n",
    "from tqdm.notebook import tqdm\n",
    "from typing import *\n",
    "from pathlib import Path\n",
    "from dataclasses import dataclass, field, asdict\n",
    "from shutil import copyfile\n",
    "import cudf\n",
    "import cuml\n",
    "import cupy\n",
    "from cuml.neighbors import NearestNeighbors\n",
    "from cuml.feature_extraction.text import TfidfVectorizer\n",
    "warnings.simplefilter('ignore')"
   ]
  },
  {
   "cell_type": "code",
   "execution_count": 2,
   "id": "fancy-square",
   "metadata": {},
   "outputs": [],
   "source": [
    "@dataclass\n",
    "class Config:\n",
    "    outdir: str = \"../results/efficientnet-tpu\"\n",
    "    device: str = \"cuda:2\"\n",
    "    device_id: int = 2\n",
    "\n",
    "    datadir: str = '../data/tfrecord-gkf'\n",
    "    image_dir: str = '../data/shopee-product-matching/train_images'\n",
    "    seed: int = 42\n",
    "    n_splits: int = 1\n",
    "    tf_expt: int = -1\n",
    "    image_size: List[int] = field(default_factory=lambda: [512, 512])\n",
    "    \n",
    "    # Training config\n",
    "    batch_size: int = 20\n",
    "    epochs: int = 100\n",
    "    patience: int = 5\n",
    "    lr: float = 0.00001\n",
    "    emb_len: int = 2048\n",
    "\n",
    "    def update(self, param_dict: Dict) -> \"Config\":\n",
    "        # Overwrite by `param_dict`\n",
    "        for key, value in param_dict.items():\n",
    "            if not hasattr(self, key):\n",
    "                raise ValueError(f\"[ERROR] Unexpected key for flag = {key}\")\n",
    "            setattr(self, key, value)\n",
    "        return self\n",
    "    \n",
    "    def to_yaml(self, filepath: str, width: int = 120):\n",
    "        with open(filepath, 'w') as f:\n",
    "            yaml.dump(asdict(self), f, width=width)"
   ]
  },
  {
   "cell_type": "code",
   "execution_count": 3,
   "id": "arbitrary-thunder",
   "metadata": {},
   "outputs": [],
   "source": [
    "def seed_everything(seed):\n",
    "    random.seed(seed)\n",
    "    np.random.seed(seed)\n",
    "    os.environ['PYTHONHASHSEED'] = str(seed)\n",
    "    tf.random.set_seed(seed)"
   ]
  },
  {
   "cell_type": "code",
   "execution_count": 6,
   "id": "velvet-completion",
   "metadata": {},
   "outputs": [],
   "source": [
    "config = Config()\n",
    "os.environ[\"CUDA_VISIBLE_DEVICES\"] = str(config.device_id)\n",
    "\n",
    "base_dir = Path().resolve()\n",
    "sys.path.append(os.path.abspath(base_dir / '../'))\n",
    "\n",
    "import tensorflow as tf\n",
    "import tensorflow_hub as hub\n",
    "import tensorflow_addons as tfa\n",
    "import efficientnet.tfkeras as efn\n",
    "\n",
    "from src.tokenization import *\n",
    "from src.preprocess import *\n",
    "from src.image import *\n",
    "from src.model import *\n",
    "from src.diffussion import *"
   ]
  },
  {
   "cell_type": "code",
   "execution_count": 7,
   "id": "conditional-labor",
   "metadata": {},
   "outputs": [],
   "source": [
    "# Function to get our f1 score\n",
    "def f1_score(y_true, y_pred):\n",
    "    y_true = y_true.apply(lambda x: set(x.split()))\n",
    "    y_pred = y_pred.apply(lambda x: set(x.split()))\n",
    "    intersection = np.array([len(x[0] & x[1]) for x in zip(y_true, y_pred)])\n",
    "    len_y_pred = y_pred.apply(lambda x: len(x)).values\n",
    "    len_y_true = y_true.apply(lambda x: len(x)).values\n",
    "    f1 = 2 * intersection / (len_y_pred + len_y_true)\n",
    "    return f1\n",
    "\n",
    "\n",
    "def precision_score(y_true, y_pred):\n",
    "    y_true = y_true.apply(lambda x: set(x.split()))\n",
    "    y_pred = y_pred.apply(lambda x: set(x.split()))\n",
    "    intersection = np.array([len(x[0] & x[1]) for x in zip(y_true, y_pred)])\n",
    "    len_y_pred = y_pred.apply(lambda x: len(x)).values\n",
    "    return intersection / len_y_pred\n",
    "\n",
    "\n",
    "def recall_score(y_true, y_pred):\n",
    "    y_true = y_true.apply(lambda x: set(x.split()))\n",
    "    y_pred = y_pred.apply(lambda x: set(x.split()))\n",
    "    intersection = np.array([len(x[0] & x[1]) for x in zip(y_true, y_pred)])\n",
    "    len_y_true = y_true.apply(lambda x: len(x)).values\n",
    "    return intersection / len_y_true"
   ]
  },
  {
   "cell_type": "code",
   "execution_count": 8,
   "id": "unsigned-driving",
   "metadata": {},
   "outputs": [],
   "source": [
    "# Function to read our test image and return image\n",
    "def read_image(image, image_size):\n",
    "    image = tf.io.read_file(image)\n",
    "    image = decode_image(image, image_size)\n",
    "    return image\n",
    "\n",
    "\n",
    "# Function to get our dataset that read images\n",
    "def get_dataset(image, config):\n",
    "    dataset = tf.data.Dataset.from_tensor_slices(image)\n",
    "    dataset = dataset.map(lambda x: read_image(x, config.image_size), num_parallel_calls = config.tf_expt)\n",
    "    dataset = dataset.batch(config.batch_size)\n",
    "    dataset = dataset.prefetch(config.tf_expt)\n",
    "    return dataset"
   ]
  },
  {
   "cell_type": "code",
   "execution_count": 9,
   "id": "needed-attack",
   "metadata": {},
   "outputs": [
    {
     "data": {
      "text/plain": [
       "2203"
      ]
     },
     "execution_count": 9,
     "metadata": {},
     "output_type": "execute_result"
    }
   ],
   "source": [
    "train = pd.read_csv(base_dir / config.datadir / 'train_folds.csv')\n",
    "train_cu = cudf.DataFrame(train)\n",
    "n_classes = train.query('fold == 0')['label_group'].nunique()\n",
    "n_classes"
   ]
  },
  {
   "cell_type": "code",
   "execution_count": 10,
   "id": "preceding-kennedy",
   "metadata": {},
   "outputs": [],
   "source": [
    "def get_embeddings(df: pd.DataFrame, weight_path: Path, en_type: str):\n",
    "    image_paths = [str(base_dir / config.image_dir / filename) for filename in df['image']]\n",
    "    \n",
    "    model = build_efficientnet_model(\n",
    "        n_classes=n_classes,\n",
    "        image_size=config.image_size,\n",
    "        lr=config.lr,\n",
    "        en_type=en_type,\n",
    "        train=False,\n",
    "        emb_len=config.emb_len\n",
    "    )\n",
    "    model.load_weights(str(weight_path))\n",
    "    model = tf.keras.models.Model(inputs=model.input[0:3], outputs=model.layers[-4].output)\n",
    "    \n",
    "    chunk = 500\n",
    "    iterator = np.arange(np.ceil(len(df) / chunk))\n",
    "\n",
    "    embeds = []\n",
    "    for j in tqdm(iterator):\n",
    "        a = int(j * chunk)\n",
    "        b = int((j + 1) * chunk)\n",
    "\n",
    "        image_dataset = get_dataset(image_paths[a:b], config)\n",
    "        embeddings = model.predict(image_dataset)\n",
    "        \n",
    "        embeds.append(embeddings)\n",
    "    \n",
    "    del model\n",
    "    gc.collect()\n",
    "    tf.keras.backend.clear_session()\n",
    "    return np.concatenate(embeds)"
   ]
  },
  {
   "cell_type": "code",
   "execution_count": 11,
   "id": "flush-freeze",
   "metadata": {},
   "outputs": [],
   "source": [
    "def get_valid_df(fold: int):\n",
    "    valid_folds = [i for i in range(train.fold.unique().shape[0]) if (i % config.n_splits) == fold]\n",
    "    \n",
    "    valid_df = train.query(f'fold in {valid_folds}').copy()\n",
    "    return valid_df"
   ]
  },
  {
   "cell_type": "code",
   "execution_count": 12,
   "id": "collective-fraud",
   "metadata": {},
   "outputs": [],
   "source": [
    "def get_embeddings_list(epoch: int, en_type: str):\n",
    "    epoch = format(epoch, '02')\n",
    "    embeddings_list = list()\n",
    "    for i in range(config.n_splits):\n",
    "        if en_type:\n",
    "            outdir = base_dir / config.outdir / f'EfficientNet{en_type}_GKF_seed{config.seed}_fold{i}_emb{config.emb_len}'\n",
    "        else:\n",
    "            outdir = base_dir / config.outdir / f'resnext50_GKF_seed{config.seed}_fold{i}_emb{config.emb_len}'            \n",
    "        \n",
    "        weight_path = outdir / f'epoch{epoch}.h5'\n",
    "        emb_outpath = outdir / f'embeddings_epoch{epoch}.pkl'\n",
    "\n",
    "        if os.path.exists(emb_outpath):\n",
    "            print('get embeddings from the cache')\n",
    "            embeddings = pickle.load(open(str(emb_outpath), 'rb'))\n",
    "        else:\n",
    "            embeddings = get_embeddings(\n",
    "                df=train,\n",
    "                weight_path=weight_path,\n",
    "                en_type=en_type\n",
    "            )\n",
    "            pickle.dump(\n",
    "                embeddings,\n",
    "                open(str(emb_outpath), 'wb')\n",
    "            )\n",
    "        embeddings_list += [embeddings]\n",
    "                \n",
    "    return embeddings_list\n",
    "\n",
    "\n",
    "def get_embeddings(df: pd.DataFrame, weight_path: Path, en_type: str):\n",
    "    image_paths = [str(base_dir / config.image_dir / filename) for filename in df['image']]\n",
    "    \n",
    "    if en_type is None:\n",
    "        model = build_resnext_model(\n",
    "            n_classes=n_classes,\n",
    "            image_size=config.image_size,\n",
    "            lr=config.lr,\n",
    "            train=False,\n",
    "            emb_len=config.emb_len\n",
    "        )\n",
    "    else:\n",
    "        model = build_efficientnet_model(\n",
    "            n_classes=n_classes,\n",
    "            image_size=config.image_size,\n",
    "            lr=config.lr,\n",
    "            en_type=en_type,\n",
    "            train=False,\n",
    "            emb_len=config.emb_len\n",
    "        )\n",
    "        \n",
    "    model.load_weights(str(weight_path))\n",
    "    model = tf.keras.models.Model(inputs=model.input[0:3], outputs=model.layers[-4].output)\n",
    "    \n",
    "    chunk = 500\n",
    "    iterator = np.arange(np.ceil(len(df) / chunk))\n",
    "\n",
    "    embeds = []\n",
    "    cosines = []\n",
    "    for j in tqdm(iterator):\n",
    "        a = int(j * chunk)\n",
    "        b = int((j + 1) * chunk)\n",
    "\n",
    "        image_dataset = get_dataset(image_paths[a:b], config)\n",
    "        embeddings = model.predict(image_dataset)\n",
    "        \n",
    "        embeds.append(embeddings)\n",
    "    \n",
    "    del model\n",
    "    gc.collect()\n",
    "    tf.keras.backend.clear_session()\n",
    "    return np.concatenate(embeds)\n",
    "\n",
    "\n",
    "def get_ifidf_embeddings(df_cu, max_features: int, binary: bool = False):\n",
    "    model = TfidfVectorizer(stop_words='english', binary=binary, max_features=max_features)\n",
    "    embeddings = model.fit_transform(df_cu.title).toarray()\n",
    "    print('text embeddings shape',embeddings.shape)\n",
    "    del model\n",
    "    gc.collect()\n",
    "    \n",
    "    return embeddings"
   ]
  },
  {
   "cell_type": "code",
   "execution_count": 13,
   "id": "permanent-drill",
   "metadata": {},
   "outputs": [],
   "source": [
    "def get_matches(df: pd.DataFrame, distance: np.ndarray, indice: np.ndarray, thr: float) -> List[str]:\n",
    "        idx = np.where(distance < thr)[0]\n",
    "        ids = indice[idx]\n",
    "        return df['posting_id'].iloc[ids].values.tolist()\n",
    "    \n",
    "    \n",
    "def search_thresholds(df: pd.DataFrame, embeddings: np.ndarray, fold: int, knn: int = 50, metric='euclidean',\n",
    "                      thr_start: int = 3, thr_end: int = 5, thr_interval: float = 0.1, verbose=False):\n",
    "    # KNN\n",
    "    knn_model = NearestNeighbors(n_neighbors=knn, metric=metric)\n",
    "    knn_model.fit(embeddings)\n",
    "\n",
    "    valid_df = get_valid_df(fold=fold)\n",
    "    valid_embeddings = embeddings[valid_df.index, :]\n",
    "    distances, indices = knn_model.kneighbors(valid_embeddings)\n",
    "\n",
    "    # grid search\n",
    "    thresholds = list(np.arange(thr_start, thr_end, thr_interval))\n",
    "    scores = []\n",
    "    for threshold in thresholds:\n",
    "        predictions = []\n",
    "        for k in range(valid_embeddings.shape[0]):\n",
    "            matches = get_matches(df=df, distance=distances[k, ], indice=indices[k, ], thr=threshold)\n",
    "            posting_ids = ' '.join(matches)\n",
    "            predictions.append(posting_ids)\n",
    "        valid_df['pred_matches'] = predictions\n",
    "        valid_df['f1'] = f1_score(valid_df['matches'], valid_df['pred_matches'])\n",
    "        score = valid_df['f1'].mean()\n",
    "        if verbose:\n",
    "            print(f'Our f1 score for threshold {np.round(threshold, 2)} is {score}')\n",
    "        scores.append(score)\n",
    "    thresholds_scores = pd.DataFrame({'thresholds': thresholds, 'scores': scores})\n",
    "\n",
    "    max_score = thresholds_scores[thresholds_scores['scores'] == thresholds_scores['scores'].max()]\n",
    "    best_threshold = max_score['thresholds'].values[0]\n",
    "    best_score = max_score['scores'].values[0]\n",
    "    print(f'Our best score is {best_score} and has a threshold {best_threshold}')\n",
    "    \n",
    "    return best_score, best_threshold\n",
    "\n",
    "\n",
    "def database_augment(embeddings, n_aug):\n",
    "    weights = np.logspace(0, -1.5, n_aug)\n",
    "    model = NearestNeighbors(n_neighbors=n_aug, metric='cosine')\n",
    "    model.fit(embeddings)\n",
    "    \n",
    "    dba_embeddings = list()\n",
    "    \n",
    "    CHUNK = 1024*4\n",
    "    CTS = len(embeddings) // CHUNK\n",
    "    if len(embeddings) % CHUNK != 0: CTS += 1\n",
    "    for j in tqdm(range( CTS )):\n",
    "\n",
    "        a, b = j * CHUNK, (j + 1) * CHUNK\n",
    "        b = min(b, len(embeddings))\n",
    "\n",
    "        # COSINE SIMILARITY DISTANCE\n",
    "        distances, indices = model.kneighbors(embeddings[a:b, :])\n",
    "    \n",
    "        for k in range(b - a):\n",
    "            neighbor_embeddings = embeddings[indices[k, ]]\n",
    "            comb = np.dot(weights, neighbor_embeddings)\n",
    "            dba_embeddings.append(comb)\n",
    "        \n",
    "    del model, distances, indices\n",
    "    gc.collect()\n",
    "    return np.vstack(dba_embeddings)\n",
    "\n",
    "\n",
    "def get_prediction(embeddings, valid_idx, thr):\n",
    "    valid_embeddings = embeddings[valid_idx, :]\n",
    "    # KNN\n",
    "    knn_model = NearestNeighbors(n_neighbors=50, metric='cosine')\n",
    "    knn_model.fit(embeddings)\n",
    "    distances, indices = knn_model.kneighbors(valid_embeddings)\n",
    "    \n",
    "    predictions = []\n",
    "    for k in range(valid_embeddings.shape[0]):\n",
    "        matches = get_matches(df=train, distance=distances[k, ], indice=indices[k, ], thr=thr)\n",
    "        predictions.append(matches)\n",
    "    return predictions\n",
    "\n",
    "\n",
    "def get_neighbors_by_cts(df, embeddings, valid_idx, thr):\n",
    "    valid_embeddings = embeddings[cupy.asnumpy(valid_idx)]\n",
    "    \n",
    "    predictions = []\n",
    "    CHUNK = 1024*4\n",
    "\n",
    "    CTS = len(valid_embeddings) // CHUNK\n",
    "    if len(valid_embeddings) % CHUNK!=0: CTS += 1\n",
    "    for j in tqdm(range( CTS )):\n",
    "        a = j * CHUNK\n",
    "        b = (j + 1) * CHUNK\n",
    "        b = min(b, len(valid_embeddings))\n",
    "\n",
    "        # COSINE SIMILARITY DISTANCE\n",
    "        cts = cupy.matmul(embeddings, valid_embeddings[a:b].T).T\n",
    "\n",
    "        for k in range(b - a):\n",
    "            idx = cupy.where(cts[k,] > thr)[0]\n",
    "            o = df.iloc[cupy.asnumpy(idx)].posting_id.values\n",
    "            predictions.append(o)\n",
    "    \n",
    "    return predictions\n",
    "\n",
    "\n",
    "def concat_matches(row):\n",
    "    matches = np.concatenate([row['concat_predictions'], row['text_predictions']])\n",
    "    return ' '.join( np.unique(matches) )"
   ]
  },
  {
   "cell_type": "code",
   "execution_count": 69,
   "id": "stopped-pollution",
   "metadata": {
    "tags": []
   },
   "outputs": [
    {
     "name": "stdout",
     "output_type": "stream",
     "text": [
      "get embeddings from the cache\n",
      "get embeddings from the cache\n",
      "get embeddings from the cache\n"
     ]
    }
   ],
   "source": [
    "embs = list()\n",
    "for entype in ['B0', 'B3', 'B5']:\n",
    "    embs_bx = get_embeddings_list(epoch=20, en_type=entype)[0]\n",
    "    embs.append(embs_bx)"
   ]
  },
  {
   "cell_type": "code",
   "execution_count": 70,
   "id": "dynamic-detail",
   "metadata": {},
   "outputs": [
    {
     "data": {
      "text/plain": [
       "(34250, 6144)"
      ]
     },
     "execution_count": 70,
     "metadata": {},
     "output_type": "execute_result"
    }
   ],
   "source": [
    "# concat embeddings\n",
    "embeddings = np.hstack(embs)\n",
    "embeddings.shape"
   ]
  },
  {
   "cell_type": "code",
   "execution_count": 16,
   "id": "genuine-omega",
   "metadata": {},
   "outputs": [
    {
     "data": {
      "application/vnd.jupyter.widget-view+json": {
       "model_id": "d9f4538edfb842f290f63b45ba8e304b",
       "version_major": 2,
       "version_minor": 0
      },
      "text/plain": [
       "  0%|          | 0/9 [00:00<?, ?it/s]"
      ]
     },
     "metadata": {},
     "output_type": "display_data"
    },
    {
     "data": {
      "text/plain": [
       "(34250, 6144)"
      ]
     },
     "execution_count": 16,
     "metadata": {},
     "output_type": "execute_result"
    }
   ],
   "source": [
    "# dba\n",
    "dba_embeddings = database_augment(embeddings, n_aug=4)\n",
    "dba_embeddings.shape"
   ]
  },
  {
   "cell_type": "code",
   "execution_count": 73,
   "id": "every-checkout",
   "metadata": {
    "jupyter": {
     "source_hidden": true
    },
    "tags": []
   },
   "outputs": [
    {
     "data": {
      "text/plain": [
       "312"
      ]
     },
     "execution_count": 73,
     "metadata": {},
     "output_type": "execute_result"
    }
   ],
   "source": [
    "# knn_model = NearestNeighbors(n_neighbors=QUERYKNN, metric='cosine')\n",
    "# knn_model.fit(embeddings)\n",
    "# _, indices = knn_model.kneighbors(embeddings)\n",
    "# del knn_model\n",
    "# gc.collect()\n",
    "\n",
    "# W = np.zeros((embeddings.shape[0], embeddings.shape[0]))\n",
    "# for i in tqdm(range(embeddings.shape[0])):\n",
    "#     query = embeddings[i]\n",
    "#     neighbors = embeddings[indices[i], :]\n",
    "#     sim = np.dot(neighbors, query)\n",
    "#     qsim = sim_kernel(sim)\n",
    "#     W[i, indices[i]] = qsim\n",
    "\n",
    "# Wn = normalize_connection_graph(W)\n",
    "# cg_ranks = cg_diffusion(qsim, Wn, alpha)"
   ]
  },
  {
   "cell_type": "code",
   "execution_count": 105,
   "id": "architectural-medium",
   "metadata": {},
   "outputs": [
    {
     "name": "stdout",
     "output_type": "stream",
     "text": [
      "text embeddings shape (34250, 24939)\n"
     ]
    }
   ],
   "source": [
    "text_embeddings = get_ifidf_embeddings(train_cu, max_features=25000, binary=True)"
   ]
  },
  {
   "cell_type": "code",
   "execution_count": 106,
   "id": "provincial-resource",
   "metadata": {},
   "outputs": [
    {
     "data": {
      "text/html": [
       "<div>\n",
       "<style scoped>\n",
       "    .dataframe tbody tr th:only-of-type {\n",
       "        vertical-align: middle;\n",
       "    }\n",
       "\n",
       "    .dataframe tbody tr th {\n",
       "        vertical-align: top;\n",
       "    }\n",
       "\n",
       "    .dataframe thead th {\n",
       "        text-align: right;\n",
       "    }\n",
       "</style>\n",
       "<table border=\"1\" class=\"dataframe\">\n",
       "  <thead>\n",
       "    <tr style=\"text-align: right;\">\n",
       "      <th></th>\n",
       "      <th>posting_id</th>\n",
       "      <th>image</th>\n",
       "      <th>image_phash</th>\n",
       "      <th>title</th>\n",
       "      <th>label_group</th>\n",
       "      <th>matches</th>\n",
       "      <th>f1</th>\n",
       "      <th>fold</th>\n",
       "    </tr>\n",
       "  </thead>\n",
       "  <tbody>\n",
       "    <tr>\n",
       "      <th>1</th>\n",
       "      <td>train_3386243561</td>\n",
       "      <td>00039780dfc94d01db8676fe789ecd05.jpg</td>\n",
       "      <td>af3f9460c2838f0f</td>\n",
       "      <td>Double Tape 3M VHB 12 mm x 4,5 m ORIGINAL / DO...</td>\n",
       "      <td>1</td>\n",
       "      <td>train_3386243561 train_3423213080</td>\n",
       "      <td>0.666667</td>\n",
       "      <td>3</td>\n",
       "    </tr>\n",
       "    <tr>\n",
       "      <th>3</th>\n",
       "      <td>train_2406599165</td>\n",
       "      <td>00117e4fc239b1b641ff08340b429633.jpg</td>\n",
       "      <td>8514fc58eafea283</td>\n",
       "      <td>Daster Batik Lengan pendek - Motif Acak / Camp...</td>\n",
       "      <td>3</td>\n",
       "      <td>train_2406599165 train_3342059966</td>\n",
       "      <td>0.666667</td>\n",
       "      <td>2</td>\n",
       "    </tr>\n",
       "    <tr>\n",
       "      <th>4</th>\n",
       "      <td>train_3369186413</td>\n",
       "      <td>00136d1cf4edede0203f32f05f660588.jpg</td>\n",
       "      <td>a6f319f924ad708c</td>\n",
       "      <td>Nescafe \\xc3\\x89clair Latte 220ml</td>\n",
       "      <td>4</td>\n",
       "      <td>train_3369186413 train_921438619</td>\n",
       "      <td>0.666667</td>\n",
       "      <td>2</td>\n",
       "    </tr>\n",
       "    <tr>\n",
       "      <th>5</th>\n",
       "      <td>train_2464356923</td>\n",
       "      <td>0013e7355ffc5ff8fb1ccad3e42d92fe.jpg</td>\n",
       "      <td>bbd097a7870f4a50</td>\n",
       "      <td>CELANA WANITA  (BB 45-84 KG)Harem wanita (bisa...</td>\n",
       "      <td>5</td>\n",
       "      <td>train_2464356923 train_2753295474 train_305884580</td>\n",
       "      <td>0.500000</td>\n",
       "      <td>3</td>\n",
       "    </tr>\n",
       "    <tr>\n",
       "      <th>6</th>\n",
       "      <td>train_1802986387</td>\n",
       "      <td>00144a49c56599d45354a1c28104c039.jpg</td>\n",
       "      <td>f815c9bb833ab4c8</td>\n",
       "      <td>Jubah anak size 1-12 thn</td>\n",
       "      <td>6</td>\n",
       "      <td>train_1802986387 train_1396161074 train_713073...</td>\n",
       "      <td>0.250000</td>\n",
       "      <td>2</td>\n",
       "    </tr>\n",
       "  </tbody>\n",
       "</table>\n",
       "</div>"
      ],
      "text/plain": [
       "         posting_id                                 image       image_phash  \\\n",
       "1  train_3386243561  00039780dfc94d01db8676fe789ecd05.jpg  af3f9460c2838f0f   \n",
       "3  train_2406599165  00117e4fc239b1b641ff08340b429633.jpg  8514fc58eafea283   \n",
       "4  train_3369186413  00136d1cf4edede0203f32f05f660588.jpg  a6f319f924ad708c   \n",
       "5  train_2464356923  0013e7355ffc5ff8fb1ccad3e42d92fe.jpg  bbd097a7870f4a50   \n",
       "6  train_1802986387  00144a49c56599d45354a1c28104c039.jpg  f815c9bb833ab4c8   \n",
       "\n",
       "                                               title  label_group  \\\n",
       "1  Double Tape 3M VHB 12 mm x 4,5 m ORIGINAL / DO...            1   \n",
       "3  Daster Batik Lengan pendek - Motif Acak / Camp...            3   \n",
       "4                  Nescafe \\xc3\\x89clair Latte 220ml            4   \n",
       "5  CELANA WANITA  (BB 45-84 KG)Harem wanita (bisa...            5   \n",
       "6                           Jubah anak size 1-12 thn            6   \n",
       "\n",
       "                                             matches        f1  fold  \n",
       "1                  train_3386243561 train_3423213080  0.666667     3  \n",
       "3                  train_2406599165 train_3342059966  0.666667     2  \n",
       "4                   train_3369186413 train_921438619  0.666667     2  \n",
       "5  train_2464356923 train_2753295474 train_305884580  0.500000     3  \n",
       "6  train_1802986387 train_1396161074 train_713073...  0.250000     2  "
      ]
     },
     "execution_count": 106,
     "metadata": {},
     "output_type": "execute_result"
    }
   ],
   "source": [
    "valid_df = train.query('fold != 0')\n",
    "valid_df.head()"
   ]
  },
  {
   "cell_type": "code",
   "execution_count": 16,
   "id": "standing-radius",
   "metadata": {},
   "outputs": [
    {
     "name": "stdout",
     "output_type": "stream",
     "text": [
      "0.2 : 0.7339109650603931\n",
      "0.225 : 0.7370929116205313\n",
      "0.25 : 0.737830192552384\n",
      "0.275 : 0.7358674239358488\n",
      "0.3 : 0.7317523425132847\n"
     ]
    }
   ],
   "source": [
    "for thr in np.linspace(0.2, 0.3, 5):\n",
    "    valid_df['pred_matches'] = get_prediction(dba_embeddings, valid_df.index, thr=thr)\n",
    "    valid_df['pred_matches'] = valid_df['pred_matches'].apply(lambda x: ' '.join(x))\n",
    "    score = f1_score(valid_df['matches'], valid_df['pred_matches']).mean()\n",
    "    print(thr, ':', score)"
   ]
  },
  {
   "cell_type": "code",
   "execution_count": 24,
   "id": "laughing-aggregate",
   "metadata": {},
   "outputs": [
    {
     "data": {
      "application/vnd.jupyter.widget-view+json": {
       "model_id": "a677c93624874ef0ba3579b5c7ef4178",
       "version_major": 2,
       "version_minor": 0
      },
      "text/plain": [
       "  0%|          | 0/7 [00:00<?, ?it/s]"
      ]
     },
     "metadata": {},
     "output_type": "display_data"
    },
    {
     "data": {
      "application/vnd.jupyter.widget-view+json": {
       "model_id": "5869c5eec6f74e7dbd827e93bac2e4bc",
       "version_major": 2,
       "version_minor": 0
      },
      "text/plain": [
       "  0%|          | 0/7 [00:00<?, ?it/s]"
      ]
     },
     "metadata": {},
     "output_type": "display_data"
    },
    {
     "data": {
      "application/vnd.jupyter.widget-view+json": {
       "model_id": "2856fba94f0b45d6bd0dcd5965fd5b6c",
       "version_major": 2,
       "version_minor": 0
      },
      "text/plain": [
       "  0%|          | 0/7 [00:00<?, ?it/s]"
      ]
     },
     "metadata": {},
     "output_type": "display_data"
    },
    {
     "data": {
      "application/vnd.jupyter.widget-view+json": {
       "model_id": "a726d13cebc14e3da19ced60981474f9",
       "version_major": 2,
       "version_minor": 0
      },
      "text/plain": [
       "  0%|          | 0/7 [00:00<?, ?it/s]"
      ]
     },
     "metadata": {},
     "output_type": "display_data"
    },
    {
     "data": {
      "application/vnd.jupyter.widget-view+json": {
       "model_id": "8c8b4867b98e46fabf83f43be44efae5",
       "version_major": 2,
       "version_minor": 0
      },
      "text/plain": [
       "  0%|          | 0/7 [00:00<?, ?it/s]"
      ]
     },
     "metadata": {},
     "output_type": "display_data"
    },
    {
     "data": {
      "application/vnd.jupyter.widget-view+json": {
       "model_id": "886890bf76a44061a10396b6564da610",
       "version_major": 2,
       "version_minor": 0
      },
      "text/plain": [
       "  0%|          | 0/7 [00:00<?, ?it/s]"
      ]
     },
     "metadata": {},
     "output_type": "display_data"
    },
    {
     "data": {
      "application/vnd.jupyter.widget-view+json": {
       "model_id": "34d5509a92cd491184c7a67787dd60ca",
       "version_major": 2,
       "version_minor": 0
      },
      "text/plain": [
       "  0%|          | 0/7 [00:00<?, ?it/s]"
      ]
     },
     "metadata": {},
     "output_type": "display_data"
    },
    {
     "data": {
      "application/vnd.jupyter.widget-view+json": {
       "model_id": "f84d6b2e7d2c42bdacdbf62fa2b5ba0b",
       "version_major": 2,
       "version_minor": 0
      },
      "text/plain": [
       "  0%|          | 0/7 [00:00<?, ?it/s]"
      ]
     },
     "metadata": {},
     "output_type": "display_data"
    },
    {
     "data": {
      "application/vnd.jupyter.widget-view+json": {
       "model_id": "e37993ec19ed4ddc906413b93ce3e25a",
       "version_major": 2,
       "version_minor": 0
      },
      "text/plain": [
       "  0%|          | 0/7 [00:00<?, ?it/s]"
      ]
     },
     "metadata": {},
     "output_type": "display_data"
    },
    {
     "data": {
      "application/vnd.jupyter.widget-view+json": {
       "model_id": "b5c280810fcd44a7b478ad4179a66d00",
       "version_major": 2,
       "version_minor": 0
      },
      "text/plain": [
       "  0%|          | 0/7 [00:00<?, ?it/s]"
      ]
     },
     "metadata": {},
     "output_type": "display_data"
    },
    {
     "data": {
      "application/vnd.jupyter.widget-view+json": {
       "model_id": "4669c26f48b54e89b9aa97022781d958",
       "version_major": 2,
       "version_minor": 0
      },
      "text/plain": [
       "  0%|          | 0/7 [00:00<?, ?it/s]"
      ]
     },
     "metadata": {},
     "output_type": "display_data"
    },
    {
     "data": {
      "application/vnd.jupyter.widget-view+json": {
       "model_id": "17aceb3069eb47e99ac0d63115f89ec7",
       "version_major": 2,
       "version_minor": 0
      },
      "text/plain": [
       "  0%|          | 0/7 [00:00<?, ?it/s]"
      ]
     },
     "metadata": {},
     "output_type": "display_data"
    },
    {
     "data": {
      "application/vnd.jupyter.widget-view+json": {
       "model_id": "c4e901505462484e81ca6b29a8a64095",
       "version_major": 2,
       "version_minor": 0
      },
      "text/plain": [
       "  0%|          | 0/7 [00:00<?, ?it/s]"
      ]
     },
     "metadata": {},
     "output_type": "display_data"
    },
    {
     "data": {
      "application/vnd.jupyter.widget-view+json": {
       "model_id": "6034126bc81f4ed7ad91ed637ae72a9d",
       "version_major": 2,
       "version_minor": 0
      },
      "text/plain": [
       "  0%|          | 0/7 [00:00<?, ?it/s]"
      ]
     },
     "metadata": {},
     "output_type": "display_data"
    },
    {
     "data": {
      "application/vnd.jupyter.widget-view+json": {
       "model_id": "c0ea4f28ffd2412b83620ee212845f4a",
       "version_major": 2,
       "version_minor": 0
      },
      "text/plain": [
       "  0%|          | 0/7 [00:00<?, ?it/s]"
      ]
     },
     "metadata": {},
     "output_type": "display_data"
    },
    {
     "data": {
      "application/vnd.jupyter.widget-view+json": {
       "model_id": "28a818bbd2a54532b9d327280e72c201",
       "version_major": 2,
       "version_minor": 0
      },
      "text/plain": [
       "  0%|          | 0/7 [00:00<?, ?it/s]"
      ]
     },
     "metadata": {},
     "output_type": "display_data"
    },
    {
     "data": {
      "application/vnd.jupyter.widget-view+json": {
       "model_id": "3d85b100bc824cfe9d50e24ee72797e4",
       "version_major": 2,
       "version_minor": 0
      },
      "text/plain": [
       "  0%|          | 0/7 [00:00<?, ?it/s]"
      ]
     },
     "metadata": {},
     "output_type": "display_data"
    },
    {
     "data": {
      "application/vnd.jupyter.widget-view+json": {
       "model_id": "33f8233ca1054ac1885895c36c302754",
       "version_major": 2,
       "version_minor": 0
      },
      "text/plain": [
       "  0%|          | 0/7 [00:00<?, ?it/s]"
      ]
     },
     "metadata": {},
     "output_type": "display_data"
    },
    {
     "data": {
      "application/vnd.jupyter.widget-view+json": {
       "model_id": "18221861d30e4e13a5fc0fe437cf740e",
       "version_major": 2,
       "version_minor": 0
      },
      "text/plain": [
       "  0%|          | 0/7 [00:00<?, ?it/s]"
      ]
     },
     "metadata": {},
     "output_type": "display_data"
    },
    {
     "data": {
      "application/vnd.jupyter.widget-view+json": {
       "model_id": "d0f49524128f4b1e953697b7716118f3",
       "version_major": 2,
       "version_minor": 0
      },
      "text/plain": [
       "  0%|          | 0/7 [00:00<?, ?it/s]"
      ]
     },
     "metadata": {},
     "output_type": "display_data"
    },
    {
     "data": {
      "application/vnd.jupyter.widget-view+json": {
       "model_id": "104d0cf119264c8cbbcc6cf65436a414",
       "version_major": 2,
       "version_minor": 0
      },
      "text/plain": [
       "  0%|          | 0/7 [00:00<?, ?it/s]"
      ]
     },
     "metadata": {},
     "output_type": "display_data"
    },
    {
     "data": {
      "application/vnd.jupyter.widget-view+json": {
       "model_id": "ffa11959e14b43adbdb7093c21e57fee",
       "version_major": 2,
       "version_minor": 0
      },
      "text/plain": [
       "  0%|          | 0/7 [00:00<?, ?it/s]"
      ]
     },
     "metadata": {},
     "output_type": "display_data"
    },
    {
     "data": {
      "application/vnd.jupyter.widget-view+json": {
       "model_id": "584db566cf974a439af6258b001e2919",
       "version_major": 2,
       "version_minor": 0
      },
      "text/plain": [
       "  0%|          | 0/7 [00:00<?, ?it/s]"
      ]
     },
     "metadata": {},
     "output_type": "display_data"
    },
    {
     "data": {
      "application/vnd.jupyter.widget-view+json": {
       "model_id": "80ff863fe68940899f38547b0dfe7b4f",
       "version_major": 2,
       "version_minor": 0
      },
      "text/plain": [
       "  0%|          | 0/7 [00:00<?, ?it/s]"
      ]
     },
     "metadata": {},
     "output_type": "display_data"
    },
    {
     "data": {
      "application/vnd.jupyter.widget-view+json": {
       "model_id": "635e3daf51d643a3ac0aebbabf5f4d72",
       "version_major": 2,
       "version_minor": 0
      },
      "text/plain": [
       "  0%|          | 0/7 [00:00<?, ?it/s]"
      ]
     },
     "metadata": {},
     "output_type": "display_data"
    },
    {
     "data": {
      "application/vnd.jupyter.widget-view+json": {
       "model_id": "650e0328e76a46168a1c4a4c13db9dcb",
       "version_major": 2,
       "version_minor": 0
      },
      "text/plain": [
       "  0%|          | 0/7 [00:00<?, ?it/s]"
      ]
     },
     "metadata": {},
     "output_type": "display_data"
    },
    {
     "data": {
      "application/vnd.jupyter.widget-view+json": {
       "model_id": "dc57bfc910eb480a82ef5bb9e206298c",
       "version_major": 2,
       "version_minor": 0
      },
      "text/plain": [
       "  0%|          | 0/7 [00:00<?, ?it/s]"
      ]
     },
     "metadata": {},
     "output_type": "display_data"
    },
    {
     "data": {
      "application/vnd.jupyter.widget-view+json": {
       "model_id": "81a4aaba9bf44ee0bab3cfeb3f493ec5",
       "version_major": 2,
       "version_minor": 0
      },
      "text/plain": [
       "  0%|          | 0/7 [00:00<?, ?it/s]"
      ]
     },
     "metadata": {},
     "output_type": "display_data"
    },
    {
     "data": {
      "application/vnd.jupyter.widget-view+json": {
       "model_id": "bcc96e1e66f34a25b80d0bd56e73447f",
       "version_major": 2,
       "version_minor": 0
      },
      "text/plain": [
       "  0%|          | 0/7 [00:00<?, ?it/s]"
      ]
     },
     "metadata": {},
     "output_type": "display_data"
    },
    {
     "data": {
      "application/vnd.jupyter.widget-view+json": {
       "model_id": "59593e516bed42c88fcd56a53f44b666",
       "version_major": 2,
       "version_minor": 0
      },
      "text/plain": [
       "  0%|          | 0/7 [00:00<?, ?it/s]"
      ]
     },
     "metadata": {},
     "output_type": "display_data"
    },
    {
     "data": {
      "application/vnd.jupyter.widget-view+json": {
       "model_id": "9b5ffbfacad540b0b0f49592b39f77bb",
       "version_major": 2,
       "version_minor": 0
      },
      "text/plain": [
       "  0%|          | 0/7 [00:00<?, ?it/s]"
      ]
     },
     "metadata": {},
     "output_type": "display_data"
    },
    {
     "data": {
      "application/vnd.jupyter.widget-view+json": {
       "model_id": "9501c51fc4ca496a8c4e96d1fe7da7bc",
       "version_major": 2,
       "version_minor": 0
      },
      "text/plain": [
       "  0%|          | 0/7 [00:00<?, ?it/s]"
      ]
     },
     "metadata": {},
     "output_type": "display_data"
    },
    {
     "data": {
      "application/vnd.jupyter.widget-view+json": {
       "model_id": "41c8e08c65ae4bdc8f8c59c2001b87ac",
       "version_major": 2,
       "version_minor": 0
      },
      "text/plain": [
       "  0%|          | 0/7 [00:00<?, ?it/s]"
      ]
     },
     "metadata": {},
     "output_type": "display_data"
    },
    {
     "data": {
      "application/vnd.jupyter.widget-view+json": {
       "model_id": "51d52ffe0d564614ba8c1bb55e3ff26d",
       "version_major": 2,
       "version_minor": 0
      },
      "text/plain": [
       "  0%|          | 0/7 [00:00<?, ?it/s]"
      ]
     },
     "metadata": {},
     "output_type": "display_data"
    },
    {
     "data": {
      "application/vnd.jupyter.widget-view+json": {
       "model_id": "0c38086631e1426399b1568c956411ed",
       "version_major": 2,
       "version_minor": 0
      },
      "text/plain": [
       "  0%|          | 0/7 [00:00<?, ?it/s]"
      ]
     },
     "metadata": {},
     "output_type": "display_data"
    },
    {
     "data": {
      "application/vnd.jupyter.widget-view+json": {
       "model_id": "74fd18ad0bd54d03857c3a6ca6540ecc",
       "version_major": 2,
       "version_minor": 0
      },
      "text/plain": [
       "  0%|          | 0/7 [00:00<?, ?it/s]"
      ]
     },
     "metadata": {},
     "output_type": "display_data"
    },
    {
     "data": {
      "application/vnd.jupyter.widget-view+json": {
       "model_id": "b717bf6e1bc84f77b27042dc18fc1856",
       "version_major": 2,
       "version_minor": 0
      },
      "text/plain": [
       "  0%|          | 0/7 [00:00<?, ?it/s]"
      ]
     },
     "metadata": {},
     "output_type": "display_data"
    },
    {
     "data": {
      "application/vnd.jupyter.widget-view+json": {
       "model_id": "b4370d43194d4c2bab2fd94342d2fa7c",
       "version_major": 2,
       "version_minor": 0
      },
      "text/plain": [
       "  0%|          | 0/7 [00:00<?, ?it/s]"
      ]
     },
     "metadata": {},
     "output_type": "display_data"
    },
    {
     "data": {
      "application/vnd.jupyter.widget-view+json": {
       "model_id": "2c0bc07dfbe04c7598cbdf18d519a830",
       "version_major": 2,
       "version_minor": 0
      },
      "text/plain": [
       "  0%|          | 0/7 [00:00<?, ?it/s]"
      ]
     },
     "metadata": {},
     "output_type": "display_data"
    },
    {
     "data": {
      "application/vnd.jupyter.widget-view+json": {
       "model_id": "22978e9159b643fc98b34731245a4354",
       "version_major": 2,
       "version_minor": 0
      },
      "text/plain": [
       "  0%|          | 0/7 [00:00<?, ?it/s]"
      ]
     },
     "metadata": {},
     "output_type": "display_data"
    },
    {
     "data": {
      "application/vnd.jupyter.widget-view+json": {
       "model_id": "9f8aea1a5fb9432ba874d6bf1a5e9f70",
       "version_major": 2,
       "version_minor": 0
      },
      "text/plain": [
       "  0%|          | 0/7 [00:00<?, ?it/s]"
      ]
     },
     "metadata": {},
     "output_type": "display_data"
    },
    {
     "data": {
      "application/vnd.jupyter.widget-view+json": {
       "model_id": "8b452637272d44f5a3b74db3920fbb24",
       "version_major": 2,
       "version_minor": 0
      },
      "text/plain": [
       "  0%|          | 0/7 [00:00<?, ?it/s]"
      ]
     },
     "metadata": {},
     "output_type": "display_data"
    },
    {
     "data": {
      "application/vnd.jupyter.widget-view+json": {
       "model_id": "c242ff8beb744aeb8b3d7b0533b8cda1",
       "version_major": 2,
       "version_minor": 0
      },
      "text/plain": [
       "  0%|          | 0/7 [00:00<?, ?it/s]"
      ]
     },
     "metadata": {},
     "output_type": "display_data"
    },
    {
     "data": {
      "application/vnd.jupyter.widget-view+json": {
       "model_id": "9f630d91f7904efbb76bd8944cd76f1e",
       "version_major": 2,
       "version_minor": 0
      },
      "text/plain": [
       "  0%|          | 0/7 [00:00<?, ?it/s]"
      ]
     },
     "metadata": {},
     "output_type": "display_data"
    },
    {
     "data": {
      "application/vnd.jupyter.widget-view+json": {
       "model_id": "037f17ebe20748e8b97ec5653f68175c",
       "version_major": 2,
       "version_minor": 0
      },
      "text/plain": [
       "  0%|          | 0/7 [00:00<?, ?it/s]"
      ]
     },
     "metadata": {},
     "output_type": "display_data"
    },
    {
     "data": {
      "application/vnd.jupyter.widget-view+json": {
       "model_id": "87118eeb70f24985a7c1e27e8e2c5727",
       "version_major": 2,
       "version_minor": 0
      },
      "text/plain": [
       "  0%|          | 0/7 [00:00<?, ?it/s]"
      ]
     },
     "metadata": {},
     "output_type": "display_data"
    },
    {
     "data": {
      "application/vnd.jupyter.widget-view+json": {
       "model_id": "7cb634d83d2b44c2857e61938591cc29",
       "version_major": 2,
       "version_minor": 0
      },
      "text/plain": [
       "  0%|          | 0/7 [00:00<?, ?it/s]"
      ]
     },
     "metadata": {},
     "output_type": "display_data"
    },
    {
     "data": {
      "application/vnd.jupyter.widget-view+json": {
       "model_id": "59cfbbe743bc4e8fbb5ed27b3c7c0ef3",
       "version_major": 2,
       "version_minor": 0
      },
      "text/plain": [
       "  0%|          | 0/7 [00:00<?, ?it/s]"
      ]
     },
     "metadata": {},
     "output_type": "display_data"
    },
    {
     "data": {
      "application/vnd.jupyter.widget-view+json": {
       "model_id": "7e71d62f22a04ca29f2ebf1014a60216",
       "version_major": 2,
       "version_minor": 0
      },
      "text/plain": [
       "  0%|          | 0/7 [00:00<?, ?it/s]"
      ]
     },
     "metadata": {},
     "output_type": "display_data"
    },
    {
     "data": {
      "application/vnd.jupyter.widget-view+json": {
       "model_id": "8bb2d7f113354e48a123607b6be8a1d0",
       "version_major": 2,
       "version_minor": 0
      },
      "text/plain": [
       "  0%|          | 0/7 [00:00<?, ?it/s]"
      ]
     },
     "metadata": {},
     "output_type": "display_data"
    },
    {
     "data": {
      "application/vnd.jupyter.widget-view+json": {
       "model_id": "34a298a934d746feb1a0c05ae819c3a4",
       "version_major": 2,
       "version_minor": 0
      },
      "text/plain": [
       "  0%|          | 0/7 [00:00<?, ?it/s]"
      ]
     },
     "metadata": {},
     "output_type": "display_data"
    },
    {
     "data": {
      "application/vnd.jupyter.widget-view+json": {
       "model_id": "4ee91bed91c14e39a435b37127c19f49",
       "version_major": 2,
       "version_minor": 0
      },
      "text/plain": [
       "  0%|          | 0/7 [00:00<?, ?it/s]"
      ]
     },
     "metadata": {},
     "output_type": "display_data"
    },
    {
     "data": {
      "application/vnd.jupyter.widget-view+json": {
       "model_id": "953f537319204aa8ad6028e0c59245e4",
       "version_major": 2,
       "version_minor": 0
      },
      "text/plain": [
       "  0%|          | 0/7 [00:00<?, ?it/s]"
      ]
     },
     "metadata": {},
     "output_type": "display_data"
    },
    {
     "data": {
      "application/vnd.jupyter.widget-view+json": {
       "model_id": "cc1aaa6e5bba4894b923a1cae79839e8",
       "version_major": 2,
       "version_minor": 0
      },
      "text/plain": [
       "  0%|          | 0/7 [00:00<?, ?it/s]"
      ]
     },
     "metadata": {},
     "output_type": "display_data"
    },
    {
     "data": {
      "application/vnd.jupyter.widget-view+json": {
       "model_id": "6a6c6e9727bc4e8b82f21b52ab43de0b",
       "version_major": 2,
       "version_minor": 0
      },
      "text/plain": [
       "  0%|          | 0/7 [00:00<?, ?it/s]"
      ]
     },
     "metadata": {},
     "output_type": "display_data"
    },
    {
     "data": {
      "application/vnd.jupyter.widget-view+json": {
       "model_id": "d6fa7afa8d034bdca29b4aeb39a87e96",
       "version_major": 2,
       "version_minor": 0
      },
      "text/plain": [
       "  0%|          | 0/7 [00:00<?, ?it/s]"
      ]
     },
     "metadata": {},
     "output_type": "display_data"
    },
    {
     "data": {
      "application/vnd.jupyter.widget-view+json": {
       "model_id": "75f9df3af4914a179439aaf659ab0de2",
       "version_major": 2,
       "version_minor": 0
      },
      "text/plain": [
       "  0%|          | 0/7 [00:00<?, ?it/s]"
      ]
     },
     "metadata": {},
     "output_type": "display_data"
    },
    {
     "data": {
      "application/vnd.jupyter.widget-view+json": {
       "model_id": "710931bcf61b452db658a7e6feaec297",
       "version_major": 2,
       "version_minor": 0
      },
      "text/plain": [
       "  0%|          | 0/7 [00:00<?, ?it/s]"
      ]
     },
     "metadata": {},
     "output_type": "display_data"
    },
    {
     "data": {
      "application/vnd.jupyter.widget-view+json": {
       "model_id": "c31ad4dbacb24aa7a0160b09dc17c368",
       "version_major": 2,
       "version_minor": 0
      },
      "text/plain": [
       "  0%|          | 0/7 [00:00<?, ?it/s]"
      ]
     },
     "metadata": {},
     "output_type": "display_data"
    },
    {
     "data": {
      "application/vnd.jupyter.widget-view+json": {
       "model_id": "3c60e2a83d1d429cb096b1425a47fb77",
       "version_major": 2,
       "version_minor": 0
      },
      "text/plain": [
       "  0%|          | 0/7 [00:00<?, ?it/s]"
      ]
     },
     "metadata": {},
     "output_type": "display_data"
    },
    {
     "data": {
      "application/vnd.jupyter.widget-view+json": {
       "model_id": "1f2b5f21bf7a45e8a1a78fe1ffc247f5",
       "version_major": 2,
       "version_minor": 0
      },
      "text/plain": [
       "  0%|          | 0/7 [00:00<?, ?it/s]"
      ]
     },
     "metadata": {},
     "output_type": "display_data"
    },
    {
     "data": {
      "application/vnd.jupyter.widget-view+json": {
       "model_id": "d87aa116a73648519a234369e294b7b0",
       "version_major": 2,
       "version_minor": 0
      },
      "text/plain": [
       "  0%|          | 0/7 [00:00<?, ?it/s]"
      ]
     },
     "metadata": {},
     "output_type": "display_data"
    },
    {
     "data": {
      "application/vnd.jupyter.widget-view+json": {
       "model_id": "4ae5869d01a6422c8e1c3de2269e492a",
       "version_major": 2,
       "version_minor": 0
      },
      "text/plain": [
       "  0%|          | 0/7 [00:00<?, ?it/s]"
      ]
     },
     "metadata": {},
     "output_type": "display_data"
    },
    {
     "data": {
      "application/vnd.jupyter.widget-view+json": {
       "model_id": "b75445b69d204495b50132951c8d6747",
       "version_major": 2,
       "version_minor": 0
      },
      "text/plain": [
       "  0%|          | 0/7 [00:00<?, ?it/s]"
      ]
     },
     "metadata": {},
     "output_type": "display_data"
    },
    {
     "data": {
      "application/vnd.jupyter.widget-view+json": {
       "model_id": "b16407ae51624eb680ad0f188bc03205",
       "version_major": 2,
       "version_minor": 0
      },
      "text/plain": [
       "  0%|          | 0/7 [00:00<?, ?it/s]"
      ]
     },
     "metadata": {},
     "output_type": "display_data"
    },
    {
     "data": {
      "application/vnd.jupyter.widget-view+json": {
       "model_id": "344d074005fe472486dbee45baf41ff0",
       "version_major": 2,
       "version_minor": 0
      },
      "text/plain": [
       "  0%|          | 0/7 [00:00<?, ?it/s]"
      ]
     },
     "metadata": {},
     "output_type": "display_data"
    },
    {
     "data": {
      "application/vnd.jupyter.widget-view+json": {
       "model_id": "7846e38fb0824b1282e7f2dcc2bf4c3c",
       "version_major": 2,
       "version_minor": 0
      },
      "text/plain": [
       "  0%|          | 0/7 [00:00<?, ?it/s]"
      ]
     },
     "metadata": {},
     "output_type": "display_data"
    },
    {
     "data": {
      "application/vnd.jupyter.widget-view+json": {
       "model_id": "130c56d78279490cbe5231ded4c77276",
       "version_major": 2,
       "version_minor": 0
      },
      "text/plain": [
       "  0%|          | 0/7 [00:00<?, ?it/s]"
      ]
     },
     "metadata": {},
     "output_type": "display_data"
    },
    {
     "data": {
      "application/vnd.jupyter.widget-view+json": {
       "model_id": "333bdf1840704dcf8ad6ef743a681433",
       "version_major": 2,
       "version_minor": 0
      },
      "text/plain": [
       "  0%|          | 0/7 [00:00<?, ?it/s]"
      ]
     },
     "metadata": {},
     "output_type": "display_data"
    },
    {
     "data": {
      "application/vnd.jupyter.widget-view+json": {
       "model_id": "b576199d8ef842e59fe2f3a55c5390e1",
       "version_major": 2,
       "version_minor": 0
      },
      "text/plain": [
       "  0%|          | 0/7 [00:00<?, ?it/s]"
      ]
     },
     "metadata": {},
     "output_type": "display_data"
    },
    {
     "data": {
      "application/vnd.jupyter.widget-view+json": {
       "model_id": "bd6cab81a40c484a91a9dc23f6249a0a",
       "version_major": 2,
       "version_minor": 0
      },
      "text/plain": [
       "  0%|          | 0/7 [00:00<?, ?it/s]"
      ]
     },
     "metadata": {},
     "output_type": "display_data"
    },
    {
     "data": {
      "application/vnd.jupyter.widget-view+json": {
       "model_id": "e250a38892c54c009a6990349d909e31",
       "version_major": 2,
       "version_minor": 0
      },
      "text/plain": [
       "  0%|          | 0/7 [00:00<?, ?it/s]"
      ]
     },
     "metadata": {},
     "output_type": "display_data"
    },
    {
     "data": {
      "application/vnd.jupyter.widget-view+json": {
       "model_id": "b7da9a956e0548649586b6f24980a0e5",
       "version_major": 2,
       "version_minor": 0
      },
      "text/plain": [
       "  0%|          | 0/7 [00:00<?, ?it/s]"
      ]
     },
     "metadata": {},
     "output_type": "display_data"
    },
    {
     "data": {
      "application/vnd.jupyter.widget-view+json": {
       "model_id": "477d7c1964e54df48add4a4c5a0da67f",
       "version_major": 2,
       "version_minor": 0
      },
      "text/plain": [
       "  0%|          | 0/7 [00:00<?, ?it/s]"
      ]
     },
     "metadata": {},
     "output_type": "display_data"
    },
    {
     "data": {
      "application/vnd.jupyter.widget-view+json": {
       "model_id": "4fa6de34f9d6414f95616eac322d1373",
       "version_major": 2,
       "version_minor": 0
      },
      "text/plain": [
       "  0%|          | 0/7 [00:00<?, ?it/s]"
      ]
     },
     "metadata": {},
     "output_type": "display_data"
    },
    {
     "data": {
      "application/vnd.jupyter.widget-view+json": {
       "model_id": "ec195bda875d4f93a1d72b4090c63a2e",
       "version_major": 2,
       "version_minor": 0
      },
      "text/plain": [
       "  0%|          | 0/7 [00:00<?, ?it/s]"
      ]
     },
     "metadata": {},
     "output_type": "display_data"
    },
    {
     "data": {
      "application/vnd.jupyter.widget-view+json": {
       "model_id": "25294380f6f5466189bde706a968fad2",
       "version_major": 2,
       "version_minor": 0
      },
      "text/plain": [
       "  0%|          | 0/7 [00:00<?, ?it/s]"
      ]
     },
     "metadata": {},
     "output_type": "display_data"
    },
    {
     "data": {
      "application/vnd.jupyter.widget-view+json": {
       "model_id": "29fcf21cad054a3795b03724bfb486a5",
       "version_major": 2,
       "version_minor": 0
      },
      "text/plain": [
       "  0%|          | 0/7 [00:00<?, ?it/s]"
      ]
     },
     "metadata": {},
     "output_type": "display_data"
    },
    {
     "data": {
      "application/vnd.jupyter.widget-view+json": {
       "model_id": "9b0dd98ff3944239aeb9124e677228b9",
       "version_major": 2,
       "version_minor": 0
      },
      "text/plain": [
       "  0%|          | 0/7 [00:00<?, ?it/s]"
      ]
     },
     "metadata": {},
     "output_type": "display_data"
    },
    {
     "data": {
      "application/vnd.jupyter.widget-view+json": {
       "model_id": "2136d3fbd5e8464fa4d2ce4b639acbf7",
       "version_major": 2,
       "version_minor": 0
      },
      "text/plain": [
       "  0%|          | 0/7 [00:00<?, ?it/s]"
      ]
     },
     "metadata": {},
     "output_type": "display_data"
    },
    {
     "data": {
      "application/vnd.jupyter.widget-view+json": {
       "model_id": "89fa3b06fcc140558ed3b4d79c2aaf31",
       "version_major": 2,
       "version_minor": 0
      },
      "text/plain": [
       "  0%|          | 0/7 [00:00<?, ?it/s]"
      ]
     },
     "metadata": {},
     "output_type": "display_data"
    },
    {
     "data": {
      "application/vnd.jupyter.widget-view+json": {
       "model_id": "4c7f500b00d9484ab155c42a8d997c94",
       "version_major": 2,
       "version_minor": 0
      },
      "text/plain": [
       "  0%|          | 0/7 [00:00<?, ?it/s]"
      ]
     },
     "metadata": {},
     "output_type": "display_data"
    },
    {
     "data": {
      "application/vnd.jupyter.widget-view+json": {
       "model_id": "ba1fe702d7e8495c84e7302d31418817",
       "version_major": 2,
       "version_minor": 0
      },
      "text/plain": [
       "  0%|          | 0/7 [00:00<?, ?it/s]"
      ]
     },
     "metadata": {},
     "output_type": "display_data"
    },
    {
     "data": {
      "application/vnd.jupyter.widget-view+json": {
       "model_id": "56aee09339d24c12a67fa62b90571002",
       "version_major": 2,
       "version_minor": 0
      },
      "text/plain": [
       "  0%|          | 0/7 [00:00<?, ?it/s]"
      ]
     },
     "metadata": {},
     "output_type": "display_data"
    },
    {
     "data": {
      "application/vnd.jupyter.widget-view+json": {
       "model_id": "fea0ddf1100c413c811d2d4e98c212ae",
       "version_major": 2,
       "version_minor": 0
      },
      "text/plain": [
       "  0%|          | 0/7 [00:00<?, ?it/s]"
      ]
     },
     "metadata": {},
     "output_type": "display_data"
    },
    {
     "data": {
      "application/vnd.jupyter.widget-view+json": {
       "model_id": "0df84ee2f5f44a79922c68b5c13349ac",
       "version_major": 2,
       "version_minor": 0
      },
      "text/plain": [
       "  0%|          | 0/7 [00:00<?, ?it/s]"
      ]
     },
     "metadata": {},
     "output_type": "display_data"
    },
    {
     "data": {
      "application/vnd.jupyter.widget-view+json": {
       "model_id": "92021bf0af9f4ab7bfd0033632625067",
       "version_major": 2,
       "version_minor": 0
      },
      "text/plain": [
       "  0%|          | 0/7 [00:00<?, ?it/s]"
      ]
     },
     "metadata": {},
     "output_type": "display_data"
    },
    {
     "data": {
      "application/vnd.jupyter.widget-view+json": {
       "model_id": "9a228d8c2ed3461dbdb8313f8eae2760",
       "version_major": 2,
       "version_minor": 0
      },
      "text/plain": [
       "  0%|          | 0/7 [00:00<?, ?it/s]"
      ]
     },
     "metadata": {},
     "output_type": "display_data"
    },
    {
     "data": {
      "application/vnd.jupyter.widget-view+json": {
       "model_id": "70a579f2107f4f7cbd5060da6b622692",
       "version_major": 2,
       "version_minor": 0
      },
      "text/plain": [
       "  0%|          | 0/7 [00:00<?, ?it/s]"
      ]
     },
     "metadata": {},
     "output_type": "display_data"
    },
    {
     "data": {
      "application/vnd.jupyter.widget-view+json": {
       "model_id": "082de1cf68144f719fc5ca458826b1af",
       "version_major": 2,
       "version_minor": 0
      },
      "text/plain": [
       "  0%|          | 0/7 [00:00<?, ?it/s]"
      ]
     },
     "metadata": {},
     "output_type": "display_data"
    }
   ],
   "source": [
    "scores = list()\n",
    "concat_thrs = np.arange(0.15, 0.25, 0.01)\n",
    "text_thrs = np.arange(0.6, 0.8, 0.025)\n",
    "\n",
    "for concat_thr in concat_thrs:\n",
    "    scores_ = list()\n",
    "    for text_thr in text_thrs:\n",
    "        valid_df['concat_predictions'] = get_prediction(dba_embeddings, valid_df.index, thr=concat_thr)\n",
    "        valid_df['text_predictions'] = get_neighbors_by_cts(train, text_embeddings, valid_df.index, thr=text_thr)\n",
    "\n",
    "        valid_df['pred_matches'] = valid_df.apply(concat_matches, axis=1)\n",
    "        score = f1_score(valid_df['matches'], valid_df['pred_matches']).mean()\n",
    "        scores_.append(score)\n",
    "    scores.append(scores_)"
   ]
  },
  {
   "cell_type": "code",
   "execution_count": 30,
   "id": "demographic-smith",
   "metadata": {},
   "outputs": [
    {
     "data": {
      "text/html": [
       "<style  type=\"text/css\" >\n",
       "#T_3c9b5810_ae1a_11eb_9c11_ac1f6bbc6e22row0_col0{\n",
       "            background-color:  #167bb6;\n",
       "            color:  #000000;\n",
       "        }#T_3c9b5810_ae1a_11eb_9c11_ac1f6bbc6e22row0_col1,#T_3c9b5810_ae1a_11eb_9c11_ac1f6bbc6e22row0_col2,#T_3c9b5810_ae1a_11eb_9c11_ac1f6bbc6e22row9_col4{\n",
       "            background-color:  #0566a0;\n",
       "            color:  #f1f1f1;\n",
       "        }#T_3c9b5810_ae1a_11eb_9c11_ac1f6bbc6e22row0_col3{\n",
       "            background-color:  #056fae;\n",
       "            color:  #f1f1f1;\n",
       "        }#T_3c9b5810_ae1a_11eb_9c11_ac1f6bbc6e22row0_col4{\n",
       "            background-color:  #197db7;\n",
       "            color:  #000000;\n",
       "        }#T_3c9b5810_ae1a_11eb_9c11_ac1f6bbc6e22row0_col5{\n",
       "            background-color:  #5ea0ca;\n",
       "            color:  #000000;\n",
       "        }#T_3c9b5810_ae1a_11eb_9c11_ac1f6bbc6e22row0_col6{\n",
       "            background-color:  #a1bbda;\n",
       "            color:  #000000;\n",
       "        }#T_3c9b5810_ae1a_11eb_9c11_ac1f6bbc6e22row0_col7{\n",
       "            background-color:  #e0deed;\n",
       "            color:  #000000;\n",
       "        }#T_3c9b5810_ae1a_11eb_9c11_ac1f6bbc6e22row0_col8{\n",
       "            background-color:  #fff7fb;\n",
       "            color:  #000000;\n",
       "        }#T_3c9b5810_ae1a_11eb_9c11_ac1f6bbc6e22row1_col0{\n",
       "            background-color:  #056ba9;\n",
       "            color:  #f1f1f1;\n",
       "        }#T_3c9b5810_ae1a_11eb_9c11_ac1f6bbc6e22row1_col1{\n",
       "            background-color:  #04588a;\n",
       "            color:  #f1f1f1;\n",
       "        }#T_3c9b5810_ae1a_11eb_9c11_ac1f6bbc6e22row1_col2,#T_3c9b5810_ae1a_11eb_9c11_ac1f6bbc6e22row7_col1{\n",
       "            background-color:  #045687;\n",
       "            color:  #f1f1f1;\n",
       "        }#T_3c9b5810_ae1a_11eb_9c11_ac1f6bbc6e22row1_col3,#T_3c9b5810_ae1a_11eb_9c11_ac1f6bbc6e22row8_col2{\n",
       "            background-color:  #045d92;\n",
       "            color:  #f1f1f1;\n",
       "        }#T_3c9b5810_ae1a_11eb_9c11_ac1f6bbc6e22row1_col4,#T_3c9b5810_ae1a_11eb_9c11_ac1f6bbc6e22row8_col1,#T_3c9b5810_ae1a_11eb_9c11_ac1f6bbc6e22row8_col5{\n",
       "            background-color:  #0567a2;\n",
       "            color:  #f1f1f1;\n",
       "        }#T_3c9b5810_ae1a_11eb_9c11_ac1f6bbc6e22row1_col5{\n",
       "            background-color:  #2987bc;\n",
       "            color:  #000000;\n",
       "        }#T_3c9b5810_ae1a_11eb_9c11_ac1f6bbc6e22row1_col6{\n",
       "            background-color:  #6fa7ce;\n",
       "            color:  #000000;\n",
       "        }#T_3c9b5810_ae1a_11eb_9c11_ac1f6bbc6e22row1_col7{\n",
       "            background-color:  #bbc7e0;\n",
       "            color:  #000000;\n",
       "        }#T_3c9b5810_ae1a_11eb_9c11_ac1f6bbc6e22row1_col8{\n",
       "            background-color:  #e8e4f0;\n",
       "            color:  #000000;\n",
       "        }#T_3c9b5810_ae1a_11eb_9c11_ac1f6bbc6e22row2_col0{\n",
       "            background-color:  #04649e;\n",
       "            color:  #f1f1f1;\n",
       "        }#T_3c9b5810_ae1a_11eb_9c11_ac1f6bbc6e22row2_col1,#T_3c9b5810_ae1a_11eb_9c11_ac1f6bbc6e22row6_col1{\n",
       "            background-color:  #034c78;\n",
       "            color:  #f1f1f1;\n",
       "        }#T_3c9b5810_ae1a_11eb_9c11_ac1f6bbc6e22row2_col2,#T_3c9b5810_ae1a_11eb_9c11_ac1f6bbc6e22row3_col4,#T_3c9b5810_ae1a_11eb_9c11_ac1f6bbc6e22row5_col1,#T_3c9b5810_ae1a_11eb_9c11_ac1f6bbc6e22row7_col2,#T_3c9b5810_ae1a_11eb_9c11_ac1f6bbc6e22row7_col4{\n",
       "            background-color:  #03466e;\n",
       "            color:  #f1f1f1;\n",
       "        }#T_3c9b5810_ae1a_11eb_9c11_ac1f6bbc6e22row2_col3{\n",
       "            background-color:  #034d79;\n",
       "            color:  #f1f1f1;\n",
       "        }#T_3c9b5810_ae1a_11eb_9c11_ac1f6bbc6e22row2_col4,#T_3c9b5810_ae1a_11eb_9c11_ac1f6bbc6e22row5_col5{\n",
       "            background-color:  #045a8d;\n",
       "            color:  #f1f1f1;\n",
       "        }#T_3c9b5810_ae1a_11eb_9c11_ac1f6bbc6e22row2_col5{\n",
       "            background-color:  #0570b0;\n",
       "            color:  #f1f1f1;\n",
       "        }#T_3c9b5810_ae1a_11eb_9c11_ac1f6bbc6e22row2_col6{\n",
       "            background-color:  #4094c3;\n",
       "            color:  #000000;\n",
       "        }#T_3c9b5810_ae1a_11eb_9c11_ac1f6bbc6e22row2_col7{\n",
       "            background-color:  #96b6d7;\n",
       "            color:  #000000;\n",
       "        }#T_3c9b5810_ae1a_11eb_9c11_ac1f6bbc6e22row2_col8{\n",
       "            background-color:  #cccfe5;\n",
       "            color:  #000000;\n",
       "        }#T_3c9b5810_ae1a_11eb_9c11_ac1f6bbc6e22row3_col0{\n",
       "            background-color:  #045f95;\n",
       "            color:  #f1f1f1;\n",
       "        }#T_3c9b5810_ae1a_11eb_9c11_ac1f6bbc6e22row3_col1,#T_3c9b5810_ae1a_11eb_9c11_ac1f6bbc6e22row4_col4{\n",
       "            background-color:  #034267;\n",
       "            color:  #f1f1f1;\n",
       "        }#T_3c9b5810_ae1a_11eb_9c11_ac1f6bbc6e22row3_col2,#T_3c9b5810_ae1a_11eb_9c11_ac1f6bbc6e22row4_col2{\n",
       "            background-color:  #023858;\n",
       "            color:  #f1f1f1;\n",
       "        }#T_3c9b5810_ae1a_11eb_9c11_ac1f6bbc6e22row3_col3,#T_3c9b5810_ae1a_11eb_9c11_ac1f6bbc6e22row6_col2{\n",
       "            background-color:  #023d60;\n",
       "            color:  #f1f1f1;\n",
       "        }#T_3c9b5810_ae1a_11eb_9c11_ac1f6bbc6e22row3_col5,#T_3c9b5810_ae1a_11eb_9c11_ac1f6bbc6e22row4_col0{\n",
       "            background-color:  #046198;\n",
       "            color:  #f1f1f1;\n",
       "        }#T_3c9b5810_ae1a_11eb_9c11_ac1f6bbc6e22row3_col6,#T_3c9b5810_ae1a_11eb_9c11_ac1f6bbc6e22row8_col6{\n",
       "            background-color:  #187cb6;\n",
       "            color:  #000000;\n",
       "        }#T_3c9b5810_ae1a_11eb_9c11_ac1f6bbc6e22row3_col7{\n",
       "            background-color:  #67a4cc;\n",
       "            color:  #000000;\n",
       "        }#T_3c9b5810_ae1a_11eb_9c11_ac1f6bbc6e22row3_col8{\n",
       "            background-color:  #a4bcda;\n",
       "            color:  #000000;\n",
       "        }#T_3c9b5810_ae1a_11eb_9c11_ac1f6bbc6e22row4_col1{\n",
       "            background-color:  #03446a;\n",
       "            color:  #f1f1f1;\n",
       "        }#T_3c9b5810_ae1a_11eb_9c11_ac1f6bbc6e22row4_col3,#T_3c9b5810_ae1a_11eb_9c11_ac1f6bbc6e22row5_col3{\n",
       "            background-color:  #023a5b;\n",
       "            color:  #f1f1f1;\n",
       "        }#T_3c9b5810_ae1a_11eb_9c11_ac1f6bbc6e22row4_col5{\n",
       "            background-color:  #045c90;\n",
       "            color:  #f1f1f1;\n",
       "        }#T_3c9b5810_ae1a_11eb_9c11_ac1f6bbc6e22row4_col6{\n",
       "            background-color:  #0c74b2;\n",
       "            color:  #f1f1f1;\n",
       "        }#T_3c9b5810_ae1a_11eb_9c11_ac1f6bbc6e22row4_col7,#T_3c9b5810_ae1a_11eb_9c11_ac1f6bbc6e22row8_col7{\n",
       "            background-color:  #529bc7;\n",
       "            color:  #000000;\n",
       "        }#T_3c9b5810_ae1a_11eb_9c11_ac1f6bbc6e22row4_col8{\n",
       "            background-color:  #8fb4d6;\n",
       "            color:  #000000;\n",
       "        }#T_3c9b5810_ae1a_11eb_9c11_ac1f6bbc6e22row5_col0{\n",
       "            background-color:  #04649d;\n",
       "            color:  #f1f1f1;\n",
       "        }#T_3c9b5810_ae1a_11eb_9c11_ac1f6bbc6e22row5_col2{\n",
       "            background-color:  #02395a;\n",
       "            color:  #f1f1f1;\n",
       "        }#T_3c9b5810_ae1a_11eb_9c11_ac1f6bbc6e22row5_col4,#T_3c9b5810_ae1a_11eb_9c11_ac1f6bbc6e22row6_col4{\n",
       "            background-color:  #023f64;\n",
       "            color:  #f1f1f1;\n",
       "        }#T_3c9b5810_ae1a_11eb_9c11_ac1f6bbc6e22row5_col6{\n",
       "            background-color:  #056ead;\n",
       "            color:  #f1f1f1;\n",
       "        }#T_3c9b5810_ae1a_11eb_9c11_ac1f6bbc6e22row5_col7{\n",
       "            background-color:  #3f93c2;\n",
       "            color:  #000000;\n",
       "        }#T_3c9b5810_ae1a_11eb_9c11_ac1f6bbc6e22row5_col8{\n",
       "            background-color:  #80aed2;\n",
       "            color:  #000000;\n",
       "        }#T_3c9b5810_ae1a_11eb_9c11_ac1f6bbc6e22row6_col0,#T_3c9b5810_ae1a_11eb_9c11_ac1f6bbc6e22row6_col6{\n",
       "            background-color:  #056ba7;\n",
       "            color:  #f1f1f1;\n",
       "        }#T_3c9b5810_ae1a_11eb_9c11_ac1f6bbc6e22row6_col3{\n",
       "            background-color:  #023c5f;\n",
       "            color:  #f1f1f1;\n",
       "        }#T_3c9b5810_ae1a_11eb_9c11_ac1f6bbc6e22row6_col5{\n",
       "            background-color:  #045788;\n",
       "            color:  #f1f1f1;\n",
       "        }#T_3c9b5810_ae1a_11eb_9c11_ac1f6bbc6e22row6_col7{\n",
       "            background-color:  #358fc0;\n",
       "            color:  #000000;\n",
       "        }#T_3c9b5810_ae1a_11eb_9c11_ac1f6bbc6e22row6_col8,#T_3c9b5810_ae1a_11eb_9c11_ac1f6bbc6e22row7_col8{\n",
       "            background-color:  #75a9cf;\n",
       "            color:  #000000;\n",
       "        }#T_3c9b5810_ae1a_11eb_9c11_ac1f6bbc6e22row7_col0{\n",
       "            background-color:  #0771b1;\n",
       "            color:  #f1f1f1;\n",
       "        }#T_3c9b5810_ae1a_11eb_9c11_ac1f6bbc6e22row7_col3{\n",
       "            background-color:  #03456c;\n",
       "            color:  #f1f1f1;\n",
       "        }#T_3c9b5810_ae1a_11eb_9c11_ac1f6bbc6e22row7_col5,#T_3c9b5810_ae1a_11eb_9c11_ac1f6bbc6e22row8_col3,#T_3c9b5810_ae1a_11eb_9c11_ac1f6bbc6e22row8_col4{\n",
       "            background-color:  #045b8e;\n",
       "            color:  #f1f1f1;\n",
       "        }#T_3c9b5810_ae1a_11eb_9c11_ac1f6bbc6e22row7_col6{\n",
       "            background-color:  #056dab;\n",
       "            color:  #f1f1f1;\n",
       "        }#T_3c9b5810_ae1a_11eb_9c11_ac1f6bbc6e22row7_col7{\n",
       "            background-color:  #3790c0;\n",
       "            color:  #000000;\n",
       "        }#T_3c9b5810_ae1a_11eb_9c11_ac1f6bbc6e22row8_col0{\n",
       "            background-color:  #2a88bc;\n",
       "            color:  #000000;\n",
       "        }#T_3c9b5810_ae1a_11eb_9c11_ac1f6bbc6e22row8_col8{\n",
       "            background-color:  #89b1d4;\n",
       "            color:  #000000;\n",
       "        }#T_3c9b5810_ae1a_11eb_9c11_ac1f6bbc6e22row9_col0{\n",
       "            background-color:  #4e9ac6;\n",
       "            color:  #000000;\n",
       "        }#T_3c9b5810_ae1a_11eb_9c11_ac1f6bbc6e22row9_col1{\n",
       "            background-color:  #1077b4;\n",
       "            color:  #f1f1f1;\n",
       "        }#T_3c9b5810_ae1a_11eb_9c11_ac1f6bbc6e22row9_col2{\n",
       "            background-color:  #0569a5;\n",
       "            color:  #f1f1f1;\n",
       "        }#T_3c9b5810_ae1a_11eb_9c11_ac1f6bbc6e22row9_col3{\n",
       "            background-color:  #0567a1;\n",
       "            color:  #f1f1f1;\n",
       "        }#T_3c9b5810_ae1a_11eb_9c11_ac1f6bbc6e22row9_col5{\n",
       "            background-color:  #0872b1;\n",
       "            color:  #f1f1f1;\n",
       "        }#T_3c9b5810_ae1a_11eb_9c11_ac1f6bbc6e22row9_col6{\n",
       "            background-color:  #2d8abd;\n",
       "            color:  #000000;\n",
       "        }#T_3c9b5810_ae1a_11eb_9c11_ac1f6bbc6e22row9_col7{\n",
       "            background-color:  #69a5cc;\n",
       "            color:  #000000;\n",
       "        }#T_3c9b5810_ae1a_11eb_9c11_ac1f6bbc6e22row9_col8{\n",
       "            background-color:  #9ab8d8;\n",
       "            color:  #000000;\n",
       "        }</style><table id=\"T_3c9b5810_ae1a_11eb_9c11_ac1f6bbc6e22\" ><thead>    <tr>        <th class=\"blank level0\" ></th>        <th class=\"col_heading level0 col0\" >0.6</th>        <th class=\"col_heading level0 col1\" >0.625</th>        <th class=\"col_heading level0 col2\" >0.65</th>        <th class=\"col_heading level0 col3\" >0.675</th>        <th class=\"col_heading level0 col4\" >0.7000000000000001</th>        <th class=\"col_heading level0 col5\" >0.7250000000000001</th>        <th class=\"col_heading level0 col6\" >0.7500000000000001</th>        <th class=\"col_heading level0 col7\" >0.7750000000000001</th>        <th class=\"col_heading level0 col8\" >0.8000000000000002</th>    </tr></thead><tbody>\n",
       "                <tr>\n",
       "                        <th id=\"T_3c9b5810_ae1a_11eb_9c11_ac1f6bbc6e22level0_row0\" class=\"row_heading level0 row0\" >0.15</th>\n",
       "                        <td id=\"T_3c9b5810_ae1a_11eb_9c11_ac1f6bbc6e22row0_col0\" class=\"data row0 col0\" >0.769086</td>\n",
       "                        <td id=\"T_3c9b5810_ae1a_11eb_9c11_ac1f6bbc6e22row0_col1\" class=\"data row0 col1\" >0.770694</td>\n",
       "                        <td id=\"T_3c9b5810_ae1a_11eb_9c11_ac1f6bbc6e22row0_col2\" class=\"data row0 col2\" >0.770708</td>\n",
       "                        <td id=\"T_3c9b5810_ae1a_11eb_9c11_ac1f6bbc6e22row0_col3\" class=\"data row0 col3\" >0.769908</td>\n",
       "                        <td id=\"T_3c9b5810_ae1a_11eb_9c11_ac1f6bbc6e22row0_col4\" class=\"data row0 col4\" >0.768970</td>\n",
       "                        <td id=\"T_3c9b5810_ae1a_11eb_9c11_ac1f6bbc6e22row0_col5\" class=\"data row0 col5\" >0.766524</td>\n",
       "                        <td id=\"T_3c9b5810_ae1a_11eb_9c11_ac1f6bbc6e22row0_col6\" class=\"data row0 col6\" >0.764062</td>\n",
       "                        <td id=\"T_3c9b5810_ae1a_11eb_9c11_ac1f6bbc6e22row0_col7\" class=\"data row0 col7\" >0.760671</td>\n",
       "                        <td id=\"T_3c9b5810_ae1a_11eb_9c11_ac1f6bbc6e22row0_col8\" class=\"data row0 col8\" >0.757852</td>\n",
       "            </tr>\n",
       "            <tr>\n",
       "                        <th id=\"T_3c9b5810_ae1a_11eb_9c11_ac1f6bbc6e22level0_row1\" class=\"row_heading level0 row1\" >0.16</th>\n",
       "                        <td id=\"T_3c9b5810_ae1a_11eb_9c11_ac1f6bbc6e22row1_col0\" class=\"data row1 col0\" >0.770214</td>\n",
       "                        <td id=\"T_3c9b5810_ae1a_11eb_9c11_ac1f6bbc6e22row1_col1\" class=\"data row1 col1\" >0.771858</td>\n",
       "                        <td id=\"T_3c9b5810_ae1a_11eb_9c11_ac1f6bbc6e22row1_col2\" class=\"data row1 col2\" >0.772023</td>\n",
       "                        <td id=\"T_3c9b5810_ae1a_11eb_9c11_ac1f6bbc6e22row1_col3\" class=\"data row1 col3\" >0.771490</td>\n",
       "                        <td id=\"T_3c9b5810_ae1a_11eb_9c11_ac1f6bbc6e22row1_col4\" class=\"data row1 col4\" >0.770591</td>\n",
       "                        <td id=\"T_3c9b5810_ae1a_11eb_9c11_ac1f6bbc6e22row1_col5\" class=\"data row1 col5\" >0.768350</td>\n",
       "                        <td id=\"T_3c9b5810_ae1a_11eb_9c11_ac1f6bbc6e22row1_col6\" class=\"data row1 col6\" >0.765959</td>\n",
       "                        <td id=\"T_3c9b5810_ae1a_11eb_9c11_ac1f6bbc6e22row1_col7\" class=\"data row1 col7\" >0.762830</td>\n",
       "                        <td id=\"T_3c9b5810_ae1a_11eb_9c11_ac1f6bbc6e22row1_col8\" class=\"data row1 col8\" >0.760144</td>\n",
       "            </tr>\n",
       "            <tr>\n",
       "                        <th id=\"T_3c9b5810_ae1a_11eb_9c11_ac1f6bbc6e22level0_row2\" class=\"row_heading level0 row2\" >0.17</th>\n",
       "                        <td id=\"T_3c9b5810_ae1a_11eb_9c11_ac1f6bbc6e22row2_col0\" class=\"data row2 col0\" >0.770829</td>\n",
       "                        <td id=\"T_3c9b5810_ae1a_11eb_9c11_ac1f6bbc6e22row2_col1\" class=\"data row2 col1\" >0.772539</td>\n",
       "                        <td id=\"T_3c9b5810_ae1a_11eb_9c11_ac1f6bbc6e22row2_col2\" class=\"data row2 col2\" >0.772927</td>\n",
       "                        <td id=\"T_3c9b5810_ae1a_11eb_9c11_ac1f6bbc6e22row2_col3\" class=\"data row2 col3\" >0.772474</td>\n",
       "                        <td id=\"T_3c9b5810_ae1a_11eb_9c11_ac1f6bbc6e22row2_col4\" class=\"data row2 col4\" >0.771736</td>\n",
       "                        <td id=\"T_3c9b5810_ae1a_11eb_9c11_ac1f6bbc6e22row2_col5\" class=\"data row2 col5\" >0.769749</td>\n",
       "                        <td id=\"T_3c9b5810_ae1a_11eb_9c11_ac1f6bbc6e22row2_col6\" class=\"data row2 col6\" >0.767460</td>\n",
       "                        <td id=\"T_3c9b5810_ae1a_11eb_9c11_ac1f6bbc6e22row2_col7\" class=\"data row2 col7\" >0.764506</td>\n",
       "                        <td id=\"T_3c9b5810_ae1a_11eb_9c11_ac1f6bbc6e22row2_col8\" class=\"data row2 col8\" >0.762043</td>\n",
       "            </tr>\n",
       "            <tr>\n",
       "                        <th id=\"T_3c9b5810_ae1a_11eb_9c11_ac1f6bbc6e22level0_row3\" class=\"row_heading level0 row3\" >0.18000000000000002</th>\n",
       "                        <td id=\"T_3c9b5810_ae1a_11eb_9c11_ac1f6bbc6e22row3_col0\" class=\"data row3 col0\" >0.771346</td>\n",
       "                        <td id=\"T_3c9b5810_ae1a_11eb_9c11_ac1f6bbc6e22row3_col1\" class=\"data row3 col1\" >0.773167</td>\n",
       "                        <td id=\"T_3c9b5810_ae1a_11eb_9c11_ac1f6bbc6e22row3_col2\" class=\"data row3 col2\" >0.773723</td>\n",
       "                        <td id=\"T_3c9b5810_ae1a_11eb_9c11_ac1f6bbc6e22row3_col3\" class=\"data row3 col3\" >0.773444</td>\n",
       "                        <td id=\"T_3c9b5810_ae1a_11eb_9c11_ac1f6bbc6e22row3_col4\" class=\"data row3 col4\" >0.772930</td>\n",
       "                        <td id=\"T_3c9b5810_ae1a_11eb_9c11_ac1f6bbc6e22row3_col5\" class=\"data row3 col5\" >0.771122</td>\n",
       "                        <td id=\"T_3c9b5810_ae1a_11eb_9c11_ac1f6bbc6e22row3_col6\" class=\"data row3 col6\" >0.769033</td>\n",
       "                        <td id=\"T_3c9b5810_ae1a_11eb_9c11_ac1f6bbc6e22row3_col7\" class=\"data row3 col7\" >0.766208</td>\n",
       "                        <td id=\"T_3c9b5810_ae1a_11eb_9c11_ac1f6bbc6e22row3_col8\" class=\"data row3 col8\" >0.763905</td>\n",
       "            </tr>\n",
       "            <tr>\n",
       "                        <th id=\"T_3c9b5810_ae1a_11eb_9c11_ac1f6bbc6e22level0_row4\" class=\"row_heading level0 row4\" >0.19000000000000003</th>\n",
       "                        <td id=\"T_3c9b5810_ae1a_11eb_9c11_ac1f6bbc6e22row4_col0\" class=\"data row4 col0\" >0.771159</td>\n",
       "                        <td id=\"T_3c9b5810_ae1a_11eb_9c11_ac1f6bbc6e22row4_col1\" class=\"data row4 col1\" >0.773085</td>\n",
       "                        <td id=\"T_3c9b5810_ae1a_11eb_9c11_ac1f6bbc6e22row4_col2\" class=\"data row4 col2\" >0.773773</td>\n",
       "                        <td id=\"T_3c9b5810_ae1a_11eb_9c11_ac1f6bbc6e22row4_col3\" class=\"data row4 col3\" >0.773610</td>\n",
       "                        <td id=\"T_3c9b5810_ae1a_11eb_9c11_ac1f6bbc6e22row4_col4\" class=\"data row4 col4\" >0.773205</td>\n",
       "                        <td id=\"T_3c9b5810_ae1a_11eb_9c11_ac1f6bbc6e22row4_col5\" class=\"data row4 col5\" >0.771540</td>\n",
       "                        <td id=\"T_3c9b5810_ae1a_11eb_9c11_ac1f6bbc6e22row4_col6\" class=\"data row4 col6\" >0.769510</td>\n",
       "                        <td id=\"T_3c9b5810_ae1a_11eb_9c11_ac1f6bbc6e22row4_col7\" class=\"data row4 col7\" >0.766918</td>\n",
       "                        <td id=\"T_3c9b5810_ae1a_11eb_9c11_ac1f6bbc6e22row4_col8\" class=\"data row4 col8\" >0.764701</td>\n",
       "            </tr>\n",
       "            <tr>\n",
       "                        <th id=\"T_3c9b5810_ae1a_11eb_9c11_ac1f6bbc6e22level0_row5\" class=\"row_heading level0 row5\" >0.20000000000000004</th>\n",
       "                        <td id=\"T_3c9b5810_ae1a_11eb_9c11_ac1f6bbc6e22row5_col0\" class=\"data row5 col0\" >0.770875</td>\n",
       "                        <td id=\"T_3c9b5810_ae1a_11eb_9c11_ac1f6bbc6e22row5_col1\" class=\"data row5 col1\" >0.772904</td>\n",
       "                        <td id=\"T_3c9b5810_ae1a_11eb_9c11_ac1f6bbc6e22row5_col2\" class=\"data row5 col2\" >0.773656</td>\n",
       "                        <td id=\"T_3c9b5810_ae1a_11eb_9c11_ac1f6bbc6e22row5_col3\" class=\"data row5 col3\" >0.773596</td>\n",
       "                        <td id=\"T_3c9b5810_ae1a_11eb_9c11_ac1f6bbc6e22row5_col4\" class=\"data row5 col4\" >0.773314</td>\n",
       "                        <td id=\"T_3c9b5810_ae1a_11eb_9c11_ac1f6bbc6e22row5_col5\" class=\"data row5 col5\" >0.771751</td>\n",
       "                        <td id=\"T_3c9b5810_ae1a_11eb_9c11_ac1f6bbc6e22row5_col6\" class=\"data row5 col6\" >0.769926</td>\n",
       "                        <td id=\"T_3c9b5810_ae1a_11eb_9c11_ac1f6bbc6e22row5_col7\" class=\"data row5 col7\" >0.767496</td>\n",
       "                        <td id=\"T_3c9b5810_ae1a_11eb_9c11_ac1f6bbc6e22row5_col8\" class=\"data row5 col8\" >0.765347</td>\n",
       "            </tr>\n",
       "            <tr>\n",
       "                        <th id=\"T_3c9b5810_ae1a_11eb_9c11_ac1f6bbc6e22level0_row6\" class=\"row_heading level0 row6\" >0.21000000000000005</th>\n",
       "                        <td id=\"T_3c9b5810_ae1a_11eb_9c11_ac1f6bbc6e22row6_col0\" class=\"data row6 col0\" >0.770287</td>\n",
       "                        <td id=\"T_3c9b5810_ae1a_11eb_9c11_ac1f6bbc6e22row6_col1\" class=\"data row6 col1\" >0.772532</td>\n",
       "                        <td id=\"T_3c9b5810_ae1a_11eb_9c11_ac1f6bbc6e22row6_col2\" class=\"data row6 col2\" >0.773458</td>\n",
       "                        <td id=\"T_3c9b5810_ae1a_11eb_9c11_ac1f6bbc6e22row6_col3\" class=\"data row6 col3\" >0.773490</td>\n",
       "                        <td id=\"T_3c9b5810_ae1a_11eb_9c11_ac1f6bbc6e22row6_col4\" class=\"data row6 col4\" >0.773332</td>\n",
       "                        <td id=\"T_3c9b5810_ae1a_11eb_9c11_ac1f6bbc6e22row6_col5\" class=\"data row6 col5\" >0.771913</td>\n",
       "                        <td id=\"T_3c9b5810_ae1a_11eb_9c11_ac1f6bbc6e22row6_col6\" class=\"data row6 col6\" >0.770240</td>\n",
       "                        <td id=\"T_3c9b5810_ae1a_11eb_9c11_ac1f6bbc6e22row6_col7\" class=\"data row6 col7\" >0.767848</td>\n",
       "                        <td id=\"T_3c9b5810_ae1a_11eb_9c11_ac1f6bbc6e22row6_col8\" class=\"data row6 col8\" >0.765801</td>\n",
       "            </tr>\n",
       "            <tr>\n",
       "                        <th id=\"T_3c9b5810_ae1a_11eb_9c11_ac1f6bbc6e22level0_row7\" class=\"row_heading level0 row7\" >0.22000000000000006</th>\n",
       "                        <td id=\"T_3c9b5810_ae1a_11eb_9c11_ac1f6bbc6e22row7_col0\" class=\"data row7 col0\" >0.769704</td>\n",
       "                        <td id=\"T_3c9b5810_ae1a_11eb_9c11_ac1f6bbc6e22row7_col1\" class=\"data row7 col1\" >0.772009</td>\n",
       "                        <td id=\"T_3c9b5810_ae1a_11eb_9c11_ac1f6bbc6e22row7_col2\" class=\"data row7 col2\" >0.772926</td>\n",
       "                        <td id=\"T_3c9b5810_ae1a_11eb_9c11_ac1f6bbc6e22row7_col3\" class=\"data row7 col3\" >0.772984</td>\n",
       "                        <td id=\"T_3c9b5810_ae1a_11eb_9c11_ac1f6bbc6e22row7_col4\" class=\"data row7 col4\" >0.772928</td>\n",
       "                        <td id=\"T_3c9b5810_ae1a_11eb_9c11_ac1f6bbc6e22row7_col5\" class=\"data row7 col5\" >0.771686</td>\n",
       "                        <td id=\"T_3c9b5810_ae1a_11eb_9c11_ac1f6bbc6e22row7_col6\" class=\"data row7 col6\" >0.770066</td>\n",
       "                        <td id=\"T_3c9b5810_ae1a_11eb_9c11_ac1f6bbc6e22row7_col7\" class=\"data row7 col7\" >0.767785</td>\n",
       "                        <td id=\"T_3c9b5810_ae1a_11eb_9c11_ac1f6bbc6e22row7_col8\" class=\"data row7 col8\" >0.765802</td>\n",
       "            </tr>\n",
       "            <tr>\n",
       "                        <th id=\"T_3c9b5810_ae1a_11eb_9c11_ac1f6bbc6e22level0_row8\" class=\"row_heading level0 row8\" >0.23000000000000007</th>\n",
       "                        <td id=\"T_3c9b5810_ae1a_11eb_9c11_ac1f6bbc6e22row8_col0\" class=\"data row8 col0\" >0.768260</td>\n",
       "                        <td id=\"T_3c9b5810_ae1a_11eb_9c11_ac1f6bbc6e22row8_col1\" class=\"data row8 col1\" >0.770578</td>\n",
       "                        <td id=\"T_3c9b5810_ae1a_11eb_9c11_ac1f6bbc6e22row8_col2\" class=\"data row8 col2\" >0.771508</td>\n",
       "                        <td id=\"T_3c9b5810_ae1a_11eb_9c11_ac1f6bbc6e22row8_col3\" class=\"data row8 col3\" >0.771677</td>\n",
       "                        <td id=\"T_3c9b5810_ae1a_11eb_9c11_ac1f6bbc6e22row8_col4\" class=\"data row8 col4\" >0.771673</td>\n",
       "                        <td id=\"T_3c9b5810_ae1a_11eb_9c11_ac1f6bbc6e22row8_col5\" class=\"data row8 col5\" >0.770583</td>\n",
       "                        <td id=\"T_3c9b5810_ae1a_11eb_9c11_ac1f6bbc6e22row8_col6\" class=\"data row8 col6\" >0.769025</td>\n",
       "                        <td id=\"T_3c9b5810_ae1a_11eb_9c11_ac1f6bbc6e22row8_col7\" class=\"data row8 col7\" >0.766873</td>\n",
       "                        <td id=\"T_3c9b5810_ae1a_11eb_9c11_ac1f6bbc6e22row8_col8\" class=\"data row8 col8\" >0.764967</td>\n",
       "            </tr>\n",
       "            <tr>\n",
       "                        <th id=\"T_3c9b5810_ae1a_11eb_9c11_ac1f6bbc6e22level0_row9\" class=\"row_heading level0 row9\" >0.24000000000000007</th>\n",
       "                        <td id=\"T_3c9b5810_ae1a_11eb_9c11_ac1f6bbc6e22row9_col0\" class=\"data row9 col0\" >0.767048</td>\n",
       "                        <td id=\"T_3c9b5810_ae1a_11eb_9c11_ac1f6bbc6e22row9_col1\" class=\"data row9 col1\" >0.769344</td>\n",
       "                        <td id=\"T_3c9b5810_ae1a_11eb_9c11_ac1f6bbc6e22row9_col2\" class=\"data row9 col2\" >0.770383</td>\n",
       "                        <td id=\"T_3c9b5810_ae1a_11eb_9c11_ac1f6bbc6e22row9_col3\" class=\"data row9 col3\" >0.770632</td>\n",
       "                        <td id=\"T_3c9b5810_ae1a_11eb_9c11_ac1f6bbc6e22row9_col4\" class=\"data row9 col4\" >0.770688</td>\n",
       "                        <td id=\"T_3c9b5810_ae1a_11eb_9c11_ac1f6bbc6e22row9_col5\" class=\"data row9 col5\" >0.769646</td>\n",
       "                        <td id=\"T_3c9b5810_ae1a_11eb_9c11_ac1f6bbc6e22row9_col6\" class=\"data row9 col6\" >0.768130</td>\n",
       "                        <td id=\"T_3c9b5810_ae1a_11eb_9c11_ac1f6bbc6e22row9_col7\" class=\"data row9 col7\" >0.766126</td>\n",
       "                        <td id=\"T_3c9b5810_ae1a_11eb_9c11_ac1f6bbc6e22row9_col8\" class=\"data row9 col8\" >0.764273</td>\n",
       "            </tr>\n",
       "    </tbody></table>"
      ],
      "text/plain": [
       "<pandas.io.formats.style.Styler at 0x7f3714d90a50>"
      ]
     },
     "execution_count": 30,
     "metadata": {},
     "output_type": "execute_result"
    }
   ],
   "source": [
    "score_df = pd.DataFrame(scores, columns=text_thrs, index=concat_thrs)\n",
    "score_df.style.background_gradient(vmax=score_df.values.max(), vmin=score_df.values.min())"
   ]
  },
  {
   "cell_type": "code",
   "execution_count": null,
   "id": "advanced-major",
   "metadata": {},
   "outputs": [],
   "source": []
  }
 ],
 "metadata": {
  "kernelspec": {
   "display_name": "Python 3",
   "language": "python",
   "name": "python3"
  },
  "language_info": {
   "codemirror_mode": {
    "name": "ipython",
    "version": 3
   },
   "file_extension": ".py",
   "mimetype": "text/x-python",
   "name": "python",
   "nbconvert_exporter": "python",
   "pygments_lexer": "ipython3",
   "version": "3.7.10"
  }
 },
 "nbformat": 4,
 "nbformat_minor": 5
}
