{
 "cells": [
  {
   "cell_type": "code",
   "execution_count": 1,
   "id": "specific-mouth",
   "metadata": {},
   "outputs": [],
   "source": [
    "import numpy as np\n",
    "import pandas as pd\n",
    "import gc\n",
    "import os\n",
    "import sys\n",
    "import yaml\n",
    "import re\n",
    "import random\n",
    "import math\n",
    "import matplotlib.pyplot as plt\n",
    "import warnings\n",
    "import pickle\n",
    "from tqdm.notebook import tqdm\n",
    "from typing import *\n",
    "from pathlib import Path\n",
    "from dataclasses import dataclass, field, asdict\n",
    "from shutil import copyfile\n",
    "from cuml.neighbors import NearestNeighbors\n",
    "warnings.simplefilter('ignore')"
   ]
  },
  {
   "cell_type": "code",
   "execution_count": 2,
   "id": "anonymous-science",
   "metadata": {},
   "outputs": [],
   "source": [
    "@dataclass\n",
    "class Config:\n",
    "    outdir: str = \"../results/efficientnet-tpu\"\n",
    "    device: str = \"cuda:0\"\n",
    "    device_id: int = 0\n",
    "\n",
    "    datadir: str = '../data/tfrecord-gkf'\n",
    "    image_dir: str = '../data/shopee-product-matching/train_images'\n",
    "    seed: int = 42\n",
    "    n_splits: int = 1\n",
    "    tf_expt: int = -1\n",
    "    image_size: List[int] = field(default_factory=lambda: [512, 512])\n",
    "    emb_len: int = 2048\n",
    "\n",
    "    # Training config\n",
    "    batch_size: int = 20\n",
    "    epochs: int = 100\n",
    "    patience: int = 5\n",
    "    lr: float = 0.00001\n",
    "\n",
    "    def update(self, param_dict: Dict) -> \"Config\":\n",
    "        # Overwrite by `param_dict`\n",
    "        for key, value in param_dict.items():\n",
    "            if not hasattr(self, key):\n",
    "                raise ValueError(f\"[ERROR] Unexpected key for flag = {key}\")\n",
    "            setattr(self, key, value)\n",
    "        return self\n",
    "    \n",
    "    def to_yaml(self, filepath: str, width: int = 120):\n",
    "        with open(filepath, 'w') as f:\n",
    "            yaml.dump(asdict(self), f, width=width)"
   ]
  },
  {
   "cell_type": "code",
   "execution_count": 3,
   "id": "approved-scoop",
   "metadata": {},
   "outputs": [],
   "source": [
    "def seed_everything(seed):\n",
    "    random.seed(seed)\n",
    "    np.random.seed(seed)\n",
    "    os.environ['PYTHONHASHSEED'] = str(seed)\n",
    "    tf.random.set_seed(seed)"
   ]
  },
  {
   "cell_type": "code",
   "execution_count": 4,
   "id": "abroad-bookmark",
   "metadata": {},
   "outputs": [],
   "source": [
    "config = Config()\n",
    "os.environ[\"CUDA_VISIBLE_DEVICES\"] = str(config.device_id)\n",
    "\n",
    "base_dir = Path().resolve()\n",
    "sys.path.append(os.path.abspath(base_dir / '../'))\n",
    "\n",
    "import tensorflow as tf\n",
    "import tensorflow_hub as hub\n",
    "import tensorflow_addons as tfa\n",
    "import efficientnet.tfkeras as efn\n",
    "\n",
    "from src.tokenization import *\n",
    "from src.preprocess import *\n",
    "from src.image import *\n",
    "from src.model import *"
   ]
  },
  {
   "cell_type": "code",
   "execution_count": 5,
   "id": "mathematical-blind",
   "metadata": {},
   "outputs": [],
   "source": [
    "# Function to get our f1 score\n",
    "def f1_score(y_true, y_pred):\n",
    "    y_true = y_true.apply(lambda x: set(x.split()))\n",
    "    y_pred = y_pred.apply(lambda x: set(x.split()))\n",
    "    intersection = np.array([len(x[0] & x[1]) for x in zip(y_true, y_pred)])\n",
    "    len_y_pred = y_pred.apply(lambda x: len(x)).values\n",
    "    len_y_true = y_true.apply(lambda x: len(x)).values\n",
    "    f1 = 2 * intersection / (len_y_pred + len_y_true)\n",
    "    return f1\n",
    "\n",
    "\n",
    "def precision_score(y_true, y_pred):\n",
    "    y_true = y_true.apply(lambda x: set(x.split()))\n",
    "    y_pred = y_pred.apply(lambda x: set(x.split()))\n",
    "    intersection = np.array([len(x[0] & x[1]) for x in zip(y_true, y_pred)])\n",
    "    len_y_pred = y_pred.apply(lambda x: len(x)).values\n",
    "    return intersection / len_y_pred\n",
    "\n",
    "\n",
    "def recall_score(y_true, y_pred):\n",
    "    y_true = y_true.apply(lambda x: set(x.split()))\n",
    "    y_pred = y_pred.apply(lambda x: set(x.split()))\n",
    "    intersection = np.array([len(x[0] & x[1]) for x in zip(y_true, y_pred)])\n",
    "    len_y_true = y_true.apply(lambda x: len(x)).values\n",
    "    return intersection / len_y_true"
   ]
  },
  {
   "cell_type": "code",
   "execution_count": 6,
   "id": "urban-single",
   "metadata": {},
   "outputs": [],
   "source": [
    "# Function to read our test image and return image\n",
    "def read_image(image, image_size):\n",
    "    image = tf.io.read_file(image)\n",
    "    image = decode_image(image, image_size)\n",
    "    return image\n",
    "\n",
    "\n",
    "# Function to get our dataset that read images\n",
    "def get_dataset(image, config):\n",
    "    dataset = tf.data.Dataset.from_tensor_slices(image)\n",
    "    dataset = dataset.map(lambda x: read_image(x, config.image_size), num_parallel_calls = config.tf_expt)\n",
    "    dataset = dataset.batch(config.batch_size)\n",
    "    dataset = dataset.prefetch(config.tf_expt)\n",
    "    return dataset"
   ]
  },
  {
   "cell_type": "code",
   "execution_count": 7,
   "id": "tested-thesaurus",
   "metadata": {},
   "outputs": [
    {
     "data": {
      "text/html": [
       "<div>\n",
       "<style scoped>\n",
       "    .dataframe tbody tr th:only-of-type {\n",
       "        vertical-align: middle;\n",
       "    }\n",
       "\n",
       "    .dataframe tbody tr th {\n",
       "        vertical-align: top;\n",
       "    }\n",
       "\n",
       "    .dataframe thead th {\n",
       "        text-align: right;\n",
       "    }\n",
       "</style>\n",
       "<table border=\"1\" class=\"dataframe\">\n",
       "  <thead>\n",
       "    <tr style=\"text-align: right;\">\n",
       "      <th></th>\n",
       "      <th>posting_id</th>\n",
       "      <th>image</th>\n",
       "      <th>image_phash</th>\n",
       "      <th>title</th>\n",
       "      <th>label_group</th>\n",
       "      <th>matches</th>\n",
       "      <th>f1</th>\n",
       "      <th>fold</th>\n",
       "    </tr>\n",
       "  </thead>\n",
       "  <tbody>\n",
       "    <tr>\n",
       "      <th>0</th>\n",
       "      <td>train_129225211</td>\n",
       "      <td>0000a68812bc7e98c42888dfb1c07da0.jpg</td>\n",
       "      <td>94974f937d4c2433</td>\n",
       "      <td>Paper Bag Victoria Secret</td>\n",
       "      <td>0</td>\n",
       "      <td>train_129225211 train_2278313361</td>\n",
       "      <td>0.666667</td>\n",
       "      <td>0</td>\n",
       "    </tr>\n",
       "    <tr>\n",
       "      <th>1</th>\n",
       "      <td>train_3386243561</td>\n",
       "      <td>00039780dfc94d01db8676fe789ecd05.jpg</td>\n",
       "      <td>af3f9460c2838f0f</td>\n",
       "      <td>Double Tape 3M VHB 12 mm x 4,5 m ORIGINAL / DO...</td>\n",
       "      <td>1</td>\n",
       "      <td>train_3386243561 train_3423213080</td>\n",
       "      <td>0.666667</td>\n",
       "      <td>3</td>\n",
       "    </tr>\n",
       "    <tr>\n",
       "      <th>2</th>\n",
       "      <td>train_2288590299</td>\n",
       "      <td>000a190fdd715a2a36faed16e2c65df7.jpg</td>\n",
       "      <td>b94cb00ed3e50f78</td>\n",
       "      <td>Maling TTS Canned Pork Luncheon Meat 397 gr</td>\n",
       "      <td>1</td>\n",
       "      <td>train_2288590299 train_3803689425</td>\n",
       "      <td>0.666667</td>\n",
       "      <td>0</td>\n",
       "    </tr>\n",
       "    <tr>\n",
       "      <th>3</th>\n",
       "      <td>train_2406599165</td>\n",
       "      <td>00117e4fc239b1b641ff08340b429633.jpg</td>\n",
       "      <td>8514fc58eafea283</td>\n",
       "      <td>Daster Batik Lengan pendek - Motif Acak / Camp...</td>\n",
       "      <td>3</td>\n",
       "      <td>train_2406599165 train_3342059966</td>\n",
       "      <td>0.666667</td>\n",
       "      <td>2</td>\n",
       "    </tr>\n",
       "    <tr>\n",
       "      <th>4</th>\n",
       "      <td>train_3369186413</td>\n",
       "      <td>00136d1cf4edede0203f32f05f660588.jpg</td>\n",
       "      <td>a6f319f924ad708c</td>\n",
       "      <td>Nescafe \\xc3\\x89clair Latte 220ml</td>\n",
       "      <td>4</td>\n",
       "      <td>train_3369186413 train_921438619</td>\n",
       "      <td>0.666667</td>\n",
       "      <td>2</td>\n",
       "    </tr>\n",
       "  </tbody>\n",
       "</table>\n",
       "</div>"
      ],
      "text/plain": [
       "         posting_id                                 image       image_phash  \\\n",
       "0   train_129225211  0000a68812bc7e98c42888dfb1c07da0.jpg  94974f937d4c2433   \n",
       "1  train_3386243561  00039780dfc94d01db8676fe789ecd05.jpg  af3f9460c2838f0f   \n",
       "2  train_2288590299  000a190fdd715a2a36faed16e2c65df7.jpg  b94cb00ed3e50f78   \n",
       "3  train_2406599165  00117e4fc239b1b641ff08340b429633.jpg  8514fc58eafea283   \n",
       "4  train_3369186413  00136d1cf4edede0203f32f05f660588.jpg  a6f319f924ad708c   \n",
       "\n",
       "                                               title  label_group  \\\n",
       "0                          Paper Bag Victoria Secret            0   \n",
       "1  Double Tape 3M VHB 12 mm x 4,5 m ORIGINAL / DO...            1   \n",
       "2        Maling TTS Canned Pork Luncheon Meat 397 gr            1   \n",
       "3  Daster Batik Lengan pendek - Motif Acak / Camp...            3   \n",
       "4                  Nescafe \\xc3\\x89clair Latte 220ml            4   \n",
       "\n",
       "                             matches        f1  fold  \n",
       "0   train_129225211 train_2278313361  0.666667     0  \n",
       "1  train_3386243561 train_3423213080  0.666667     3  \n",
       "2  train_2288590299 train_3803689425  0.666667     0  \n",
       "3  train_2406599165 train_3342059966  0.666667     2  \n",
       "4   train_3369186413 train_921438619  0.666667     2  "
      ]
     },
     "execution_count": 7,
     "metadata": {},
     "output_type": "execute_result"
    }
   ],
   "source": [
    "train = pd.read_csv(base_dir / config.datadir / 'train_folds.csv')\n",
    "train.head()"
   ]
  },
  {
   "cell_type": "code",
   "execution_count": 8,
   "id": "equipped-duncan",
   "metadata": {},
   "outputs": [],
   "source": [
    "def get_embeddings(df: pd.DataFrame, weight_path: Path, en_type: str, n_classes: int):\n",
    "    image_paths = [str(base_dir / config.image_dir / filename) for filename in df['image']]\n",
    "    \n",
    "    model = build_efficientnet_model(\n",
    "        n_classes=n_classes,\n",
    "        image_size=config.image_size,\n",
    "        lr=config.lr,\n",
    "        en_type=en_type,\n",
    "        train=False,\n",
    "        emb_len=config.emb_len\n",
    "    )\n",
    "    model.load_weights(str(weight_path))\n",
    "    model1 = tf.keras.models.Model(inputs=model.input[0:3], outputs=model.layers[-4].output)\n",
    "    arc_W = model.layers[-2].W\n",
    "    get_cosine = lambda X: tf.matmul(tf.math.l2_normalize(X, axis=1), tf.math.l2_normalize(arc_W, axis=0)).numpy()\n",
    "    \n",
    "    del model\n",
    "    gc.collect()\n",
    "    \n",
    "    chunk = 500\n",
    "    iterator = np.arange(np.ceil(len(df) / chunk))\n",
    "\n",
    "    embeds = []\n",
    "    cosines = []\n",
    "    for j in tqdm(iterator):\n",
    "        a = int(j * chunk)\n",
    "        b = int((j + 1) * chunk)\n",
    "\n",
    "        image_dataset = get_dataset(image_paths[a:b], config)\n",
    "        embeddings = model1.predict(image_dataset)\n",
    "        cosine = get_cosine(embeddings)\n",
    "        \n",
    "        embeds.append(embeddings)\n",
    "        cosines.append(cosine)\n",
    "    \n",
    "    del model1\n",
    "    gc.collect()\n",
    "    tf.keras.backend.clear_session()\n",
    "    return np.concatenate(embeds), np.concatenate(cosines)"
   ]
  },
  {
   "cell_type": "code",
   "execution_count": 9,
   "id": "chief-light",
   "metadata": {},
   "outputs": [],
   "source": [
    "def get_valid_df(fold: int):\n",
    "    return train.query(f'fold != {fold}')"
   ]
  },
  {
   "cell_type": "code",
   "execution_count": 10,
   "id": "military-opera",
   "metadata": {},
   "outputs": [],
   "source": [
    "def get_embeddings_list(epoch: int, en_type: str, n_classes: int):\n",
    "    epoch = format(epoch, '02')\n",
    "    embeddings_list = list()\n",
    "    \n",
    "    for i in range(config.n_splits):\n",
    "        outdir = base_dir / config.outdir / f'EfficientNet{en_type}_GKF_seed{config.seed}_fold{i}_emb{config.emb_len}'\n",
    "        weight_path = outdir / f'epoch{epoch}.h5'\n",
    "        emb_outpath = outdir / f'embeddings_epoch{epoch}.pkl'\n",
    "\n",
    "        if os.path.exists(emb_outpath):\n",
    "            print('get embeddings and cosines from the cashe')\n",
    "            embeddings = pickle.load(open(str(emb_outpath), 'rb'))\n",
    "\n",
    "        else:\n",
    "            embeddings, cosines = get_embeddings(\n",
    "                df=train,\n",
    "                weight_path=weight_path,\n",
    "                en_type=en_type,\n",
    "                n_classes=n_classes\n",
    "            )\n",
    "            pickle.dump(\n",
    "                embeddings,\n",
    "                open(str(emb_outpath), 'wb')\n",
    "            )\n",
    "            \n",
    "        embeddings_list += [embeddings]\n",
    "                \n",
    "    return embeddings_list"
   ]
  },
  {
   "cell_type": "code",
   "execution_count": 11,
   "id": "banned-brighton",
   "metadata": {},
   "outputs": [],
   "source": [
    "def get_matches(df: pd.DataFrame, distance: np.ndarray, indice: np.ndarray, thr: float) -> List[str]:\n",
    "    idx = np.where(distance < thr)[0]\n",
    "    ids = indice[idx]\n",
    "    return df['posting_id'].iloc[ids].values.tolist()\n",
    "    \n",
    "    \n",
    "def search_thresholds(df: pd.DataFrame, embeddings: np.ndarray, fold: int, knn: int = 50, metric='euclidean', \n",
    "                      thr_start: int = 3, thr_end: int = 5, thr_interval: float = 0.1, same_cls: bool = True):\n",
    "    valid_df = train.query(f'fold != {fold}')\n",
    "    valid_embeddings = embeddings[valid_df.index, :]\n",
    "    # KNN\n",
    "    knn_model = NearestNeighbors(n_neighbors=knn, metric=metric)\n",
    "    knn_model.fit(valid_embeddings)\n",
    "    \n",
    "    distances, indices = knn_model.kneighbors(valid_embeddings)\n",
    "\n",
    "    # grid search\n",
    "    thresholds = list(np.arange(thr_start, thr_end, thr_interval))\n",
    "    scores = []\n",
    "    for threshold in thresholds:\n",
    "        predictions = []\n",
    "        for k in range(valid_embeddings.shape[0]):\n",
    "            matches = get_matches(df=valid_df, distance=distances[k, ], indice=indices[k, ], thr=threshold)\n",
    "            posting_ids = ' '.join(matches)\n",
    "            predictions.append(posting_ids)\n",
    "        valid_df['pred_matches'] = predictions\n",
    "        valid_df['f1'] = f1_score(valid_df['matches'], valid_df['pred_matches'])\n",
    "        score = valid_df['f1'].mean()\n",
    "        print(f'Our f1 score for threshold {np.round(threshold, 2)} is {score}')\n",
    "        scores.append(score)\n",
    "    thresholds_scores = pd.DataFrame({'thresholds': thresholds, 'scores': scores})\n",
    "\n",
    "    max_score = thresholds_scores[thresholds_scores['scores'] == thresholds_scores['scores'].max()]\n",
    "    best_threshold = max_score['thresholds'].values[0]\n",
    "    best_score = max_score['scores'].values[0]\n",
    "    print(f'Our best score is {best_score} and has a threshold {best_threshold}')\n",
    "    \n",
    "    del knn_model, valid_embeddings, distances, indices\n",
    "    gc.collect()\n",
    "    \n",
    "    return best_score, best_threshold, thresholds_scores\n",
    "\n",
    "\n",
    "def database_augment(embeddings, n_aug):\n",
    "    weights = np.logspace(0, -1.5, n_aug)\n",
    "    model = NearestNeighbors(n_neighbors=n_aug, metric='cosine')\n",
    "    model.fit(embeddings)\n",
    "    distances, indices = model.kneighbors(embeddings)\n",
    "    \n",
    "    dba_embeddings = list()\n",
    "    for k in range(embeddings.shape[0]):\n",
    "        neighbor_embeddings = embeddings[indices[k, ]]\n",
    "        comb = np.dot(weights, neighbor_embeddings)\n",
    "        dba_embeddings.append(comb)\n",
    "    dba_embeddings = np.vstack(dba_embeddings)\n",
    "    \n",
    "    del model, distances, indices\n",
    "    gc.collect()\n",
    "    return dba_embeddings"
   ]
  },
  {
   "cell_type": "code",
   "execution_count": 24,
   "id": "continuous-thumb",
   "metadata": {},
   "outputs": [],
   "source": [
    "en_type = 'B0'\n",
    "fold = 0\n",
    "historyb0 = pickle.load(open(\n",
    "    base_dir / config.outdir / f'EfficientNetB0_GKF_seed{config.seed}_fold{fold}_emb{config.emb_len}' / 'history.pkl', \n",
    "    'rb'))\n",
    "historyb3 = pickle.load(open(\n",
    "    base_dir / config.outdir / f'EfficientNetB3_GKF_seed{config.seed}_fold{fold}_emb{config.emb_len}' / 'history.pkl', \n",
    "    'rb'))\n",
    "historyb5 = pickle.load(open(\n",
    "    base_dir / config.outdir / f'EfficientNetB5_GKF_seed{config.seed}_fold{fold}_emb{config.emb_len}' / 'history.pkl', \n",
    "    'rb'))"
   ]
  },
  {
   "cell_type": "code",
   "execution_count": 16,
   "id": "competitive-mentor",
   "metadata": {},
   "outputs": [],
   "source": [
    "n_classes = train.query(f'fold == {fold}').label_group.unique().shape[0]"
   ]
  },
  {
   "cell_type": "code",
   "execution_count": 18,
   "id": "julian-executive",
   "metadata": {},
   "outputs": [
    {
     "name": "stdout",
     "output_type": "stream",
     "text": [
      "get embeddings and cosines from the cashe\n",
      "Our f1 score for threshold 0.0 is 0.20856544815567327\n",
      "Our f1 score for threshold 0.1 is 0.627941310041503\n",
      "Our f1 score for threshold 0.2 is 0.6724243761407896\n",
      "Our f1 score for threshold 0.3 is 0.7042371212307542\n",
      "Our f1 score for threshold 0.4 is 0.7229675701347901\n",
      "Our f1 score for threshold 0.5 is 0.6960564983298336\n",
      "Our f1 score for threshold 0.6 is 0.5263405070525186\n",
      "Our f1 score for threshold 0.7 is 0.2080702630617587\n",
      "Our f1 score for threshold 0.8 is 0.16031574386063532\n",
      "Our f1 score for threshold 0.9 is 0.16031562688088405\n",
      "Our best score is 0.7229675701347901 and has a threshold 0.4\n",
      "Our f1 score for threshold 0.0 is 0.20857540130166702\n",
      "Our f1 score for threshold 0.1 is 0.6557026850409182\n",
      "Our f1 score for threshold 0.2 is 0.7087834433226491\n",
      "Our f1 score for threshold 0.3 is 0.7382156534798772\n",
      "Our f1 score for threshold 0.4 is 0.7306942297583153\n",
      "Our f1 score for threshold 0.5 is 0.6610400711662727\n",
      "Our f1 score for threshold 0.6 is 0.46900046329020895\n",
      "Our f1 score for threshold 0.7 is 0.1933711941441897\n",
      "Our f1 score for threshold 0.8 is 0.16170816185269238\n",
      "Our f1 score for threshold 0.9 is 0.16170816185269238\n",
      "Our best score is 0.7382156534798772 and has a threshold 0.30000000000000004\n"
     ]
    }
   ],
   "source": [
    "en_type = 'B0'\n",
    "embeddingsb0 = get_embeddings_list(epoch=20, en_type=en_type, n_classes=n_classes)[0]\n",
    "_, _, scoresb0 = search_thresholds(train, embeddingsb0, 0, 50, 'cosine', 0, 1, 0.1)\n",
    "dba_embeddingsb0 = database_augment(embeddingsb0, n_aug=3)\n",
    "_, _, dba_scoresb0 = search_thresholds(train, dba_embeddingsb0, 0, 50, 'cosine', 0, 1, 0.1)"
   ]
  },
  {
   "cell_type": "code",
   "execution_count": 19,
   "id": "exciting-polls",
   "metadata": {
    "tags": []
   },
   "outputs": [
    {
     "name": "stdout",
     "output_type": "stream",
     "text": [
      "get embeddings and cosines from the cashe\n",
      "Our f1 score for threshold 0.0 is 0.2116099907574869\n",
      "Our f1 score for threshold 0.1 is 0.6373048667281968\n",
      "Our f1 score for threshold 0.2 is 0.6807889644418782\n",
      "Our f1 score for threshold 0.3 is 0.7112571563788362\n",
      "Our f1 score for threshold 0.4 is 0.7235001952892217\n",
      "Our f1 score for threshold 0.5 is 0.6746450266033281\n",
      "Our f1 score for threshold 0.6 is 0.48452713284889015\n",
      "Our f1 score for threshold 0.7 is 0.1992404784841083\n",
      "Our f1 score for threshold 0.8 is 0.16147446853476627\n",
      "Our f1 score for threshold 0.9 is 0.16147446853476627\n",
      "Our best score is 0.7235001952892217 and has a threshold 0.4\n",
      "Our f1 score for threshold 0.0 is 0.21317578867545636\n",
      "Our f1 score for threshold 0.1 is 0.6652786180285001\n",
      "Our f1 score for threshold 0.2 is 0.7166155497440825\n",
      "Our f1 score for threshold 0.3 is 0.740936342569165\n",
      "Our f1 score for threshold 0.4 is 0.7225053807049848\n",
      "Our f1 score for threshold 0.5 is 0.6365756207256044\n",
      "Our f1 score for threshold 0.6 is 0.4315927351036792\n",
      "Our f1 score for threshold 0.7 is 0.18792626369582743\n",
      "Our f1 score for threshold 0.8 is 0.16274507520471104\n",
      "Our f1 score for threshold 0.9 is 0.16274507520471104\n",
      "Our best score is 0.740936342569165 and has a threshold 0.30000000000000004\n"
     ]
    }
   ],
   "source": [
    "en_type = 'B3'\n",
    "embeddingsb3 = get_embeddings_list(epoch=20, en_type=en_type, n_classes=n_classes)[0]\n",
    "_, _, scoresb3 = search_thresholds(train, embeddingsb3, 0, 50, 'cosine', 0, 1, 0.1)\n",
    "dba_embeddingsb3 = database_augment(embeddingsb3, n_aug=3)\n",
    "_, _, dba_scoresb3 = search_thresholds(train, dba_embeddingsb3, 0, 50, 'cosine', 0, 1, 0.1)"
   ]
  },
  {
   "cell_type": "code",
   "execution_count": 20,
   "id": "flying-passion",
   "metadata": {},
   "outputs": [
    {
     "name": "stdout",
     "output_type": "stream",
     "text": [
      "get embeddings and cosines from the cashe\n",
      "Our f1 score for threshold 0.0 is 0.21110822814771335\n",
      "Our f1 score for threshold 0.1 is 0.6416734103679534\n",
      "Our f1 score for threshold 0.2 is 0.6839369649694947\n",
      "Our f1 score for threshold 0.3 is 0.7118180358940576\n",
      "Our f1 score for threshold 0.4 is 0.7211070318430641\n",
      "Our f1 score for threshold 0.5 is 0.6780555115559282\n",
      "Our f1 score for threshold 0.6 is 0.5029110288248978\n",
      "Our f1 score for threshold 0.7 is 0.21535052246966\n",
      "Our f1 score for threshold 0.8 is 0.16252132853550533\n",
      "Our f1 score for threshold 0.9 is 0.16252113498718962\n",
      "Our best score is 0.7211070318430641 and has a threshold 0.4\n",
      "Our f1 score for threshold 0.0 is 0.21244457383061385\n",
      "Our f1 score for threshold 0.1 is 0.6691289019828252\n",
      "Our f1 score for threshold 0.2 is 0.7181328714386596\n",
      "Our f1 score for threshold 0.3 is 0.7410016452311067\n",
      "Our f1 score for threshold 0.4 is 0.721617674652501\n",
      "Our f1 score for threshold 0.5 is 0.6428066692385365\n",
      "Our f1 score for threshold 0.6 is 0.4523313484862784\n",
      "Our f1 score for threshold 0.7 is 0.20124635377254546\n",
      "Our f1 score for threshold 0.8 is 0.16374886521300872\n",
      "Our f1 score for threshold 0.9 is 0.16374881016371398\n",
      "Our best score is 0.7410016452311067 and has a threshold 0.30000000000000004\n"
     ]
    }
   ],
   "source": [
    "en_type = 'B5'\n",
    "embeddingsb5 = get_embeddings_list(epoch=20, en_type=en_type, n_classes=n_classes)[0]\n",
    "_, _, scoresb5 = search_thresholds(train, embeddingsb5, 0, 50, 'cosine', 0, 1, 0.1)\n",
    "dba_embeddingsb5 = database_augment(embeddingsb5, n_aug=3)\n",
    "_, _, dba_scoresb5 = search_thresholds(train, dba_embeddingsb5, 0, 50, 'cosine', 0, 1, 0.1)"
   ]
  },
  {
   "cell_type": "code",
   "execution_count": 26,
   "id": "sharp-radiation",
   "metadata": {},
   "outputs": [
    {
     "data": {
      "text/plain": [
       "dict_keys(['loss', 'sparse_categorical_accuracy', 'val_loss', 'val_sparse_categorical_accuracy', 'lr'])"
      ]
     },
     "execution_count": 26,
     "metadata": {},
     "output_type": "execute_result"
    }
   ],
   "source": [
    "historyb0.keys()"
   ]
  },
  {
   "cell_type": "code",
   "execution_count": 44,
   "id": "casual-dining",
   "metadata": {},
   "outputs": [
    {
     "data": {
      "image/png": "[encoded data removed]",
      "text/plain": [
       "<Figure size 1800x432 with 6 Axes>"
      ]
     },
     "metadata": {
      "needs_background": "light"
     },
     "output_type": "display_data"
    }
   ],
   "source": [
    "fig, axes = plt.subplots(1, 6, figsize=(25, 6))\n",
    "for b0, b3, b5, ax, title in zip(\n",
    "    [scoresb0, dba_scoresb0], \n",
    "    [scoresb3, dba_scoresb3], \n",
    "    [scoresb5, dba_scoresb5], \n",
    "    axes[:2],\n",
    "    ['plane', 'dba']\n",
    "):\n",
    "    ax.plot(b0.thresholds, b0.scores, label='b0')\n",
    "    ax.plot(b3.thresholds, b3.scores, label='b3')\n",
    "    ax.plot(b5.thresholds, b5.scores, label='b5')\n",
    "    ax.set_title(title)\n",
    "    ax.set_ylim(0.65, 0.75)\n",
    "    ax.legend()\n",
    "    \n",
    "for i, (ax, title, rng) in enumerate(zip(\n",
    "    axes[2:], \n",
    "    ['loss', 'sparse_categorical_accuracy', 'val_loss', 'val_sparse_categorical_accuracy'],\n",
    "    [(0, 1), (0.9, 1.1), (0, 0.2), (0.9, 1.1)]\n",
    ")):\n",
    "    ax.plot(historyb0[title], label='b0')\n",
    "    ax.plot(historyb3[title], label='b3')\n",
    "    ax.plot(historyb5[title], label='b5')\n",
    "    ax.set_title(title)\n",
    "    ax.set_ylim(rng)\n",
    "    ax.legend()\n",
    "plt.show()"
   ]
  },
  {
   "cell_type": "code",
   "execution_count": 46,
   "id": "false-hughes",
   "metadata": {},
   "outputs": [
    {
     "data": {
      "image/png": "[encoded data removed]",
      "text/plain": [
       "<Figure size 1152x432 with 2 Axes>"
      ]
     },
     "metadata": {
      "needs_background": "light"
     },
     "output_type": "display_data"
    }
   ],
   "source": [
    "fig, axes = plt.subplots(1, 2, figsize=(16, 6))\n",
    "\n",
    "for postfix in ['b0', 'b3', 'b5']:\n",
    "    history = pickle.load(open(base_dir / config.outdir / f'history{postfix}.pkl', 'rb'))\n",
    "    axes[0].plot(history['val_loss'], label=postfix)\n",
    "    axes[0].legend()\n",
    "    axes[1].plot(history['val_sparse_categorical_accuracy'], label=postfix)\n",
    "    axes[1].legend()\n",
    "plt.show()"
   ]
  },
  {
   "cell_type": "code",
   "execution_count": 15,
   "id": "federal-patch",
   "metadata": {
    "tags": []
   },
   "outputs": [
    {
     "name": "stdout",
     "output_type": "stream",
     "text": [
      "Our f1 score for threshold 0.0 is 0.21136501056874615\n",
      "Our f1 score for threshold 0.1 is 0.6318436088035322\n",
      "Our f1 score for threshold 0.2 is 0.6732567539655672\n",
      "Our f1 score for threshold 0.3 is 0.7052853458667269\n",
      "Our f1 score for threshold 0.4 is 0.7236437799205924\n",
      "Our f1 score for threshold 0.5 is 0.7020545829531672\n",
      "Our f1 score for threshold 0.6 is 0.5675567797880232\n",
      "Our f1 score for threshold 0.7 is 0.2668932268081943\n",
      "Our f1 score for threshold 0.8 is 0.16249199899616787\n",
      "Our f1 score for threshold 0.9 is 0.16244502206718642\n",
      "Our best score is 0.7236437799205924 and has a threshold 0.4\n"
     ]
    },
    {
     "data": {
      "text/plain": [
       "(0.7236437799205924, 0.4)"
      ]
     },
     "execution_count": 15,
     "metadata": {},
     "output_type": "execute_result"
    }
   ],
   "source": [
    "# epoch 20, original emb length\n",
    "embeddings = pickle.load(open(\n",
    "    base_dir / config.outdir / 'EfficientNetB3_GKF_seed42_fold0' / 'embeddings_epoch20.pkl',\n",
    "    'rb'\n",
    "))\n",
    "search_thresholds(train, embeddings, 0, 50, 'cosine', 0, 1, 0.1)"
   ]
  },
  {
   "cell_type": "code",
   "execution_count": 18,
   "id": "needed-macedonia",
   "metadata": {},
   "outputs": [
    {
     "name": "stdout",
     "output_type": "stream",
     "text": [
      "Our f1 score for threshold 0.0 is 0.21248453574956677\n",
      "Our f1 score for threshold 0.1 is 0.6887800339608241\n",
      "Our f1 score for threshold 0.2 is 0.7381979034440679\n",
      "Our f1 score for threshold 0.3 is 0.741598896607282\n",
      "Our f1 score for threshold 0.4 is 0.7081099215317337\n",
      "Our f1 score for threshold 0.5 is 0.625942343253889\n",
      "Our f1 score for threshold 0.6 is 0.45095603715176513\n",
      "Our f1 score for threshold 0.7 is 0.21611419373766388\n",
      "Our f1 score for threshold 0.8 is 0.164078589608325\n",
      "Our f1 score for threshold 0.9 is 0.16407179863335883\n",
      "Our best score is 0.741598896607282 and has a threshold 0.30000000000000004\n"
     ]
    },
    {
     "data": {
      "text/plain": [
       "(0.741598896607282, 0.30000000000000004)"
      ]
     },
     "execution_count": 18,
     "metadata": {},
     "output_type": "execute_result"
    }
   ],
   "source": [
    "dba_embeddings = database_augment(embeddings, n_aug=3)\n",
    "search_thresholds(train, dba_embeddings, 0, 50, 'cosine', 0, 1, 0.1)"
   ]
  },
  {
   "cell_type": "code",
   "execution_count": null,
   "id": "moving-sword",
   "metadata": {},
   "outputs": [],
   "source": []
  }
 ],
 "metadata": {
  "kernelspec": {
   "display_name": "Python 3",
   "language": "python",
   "name": "python3"
  },
  "language_info": {
   "codemirror_mode": {
    "name": "ipython",
    "version": 3
   },
   "file_extension": ".py",
   "mimetype": "text/x-python",
   "name": "python",
   "nbconvert_exporter": "python",
   "pygments_lexer": "ipython3",
   "version": "3.7.10"
  }
 },
 "nbformat": 4,
 "nbformat_minor": 5
}
