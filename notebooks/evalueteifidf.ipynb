{
 "cells": [
  {
   "cell_type": "code",
   "execution_count": 1,
   "id": "facial-relation",
   "metadata": {},
   "outputs": [],
   "source": [
    "import numpy as np\n",
    "import pandas as pd\n",
    "import gc\n",
    "import os\n",
    "import sys\n",
    "import yaml\n",
    "import re\n",
    "import random\n",
    "import math\n",
    "import matplotlib.pyplot as plt\n",
    "import warnings\n",
    "import pickle\n",
    "from tqdm.notebook import tqdm\n",
    "from typing import *\n",
    "from pathlib import Path\n",
    "from dataclasses import dataclass, field, asdict\n",
    "from shutil import copyfile\n",
    "from cuml.neighbors import NearestNeighbors\n",
    "import cudf\n",
    "import cuml\n",
    "import cupy\n",
    "from cuml.feature_extraction.text import TfidfVectorizer\n",
    "from cuml import PCA\n",
    "from cuml.neighbors import NearestNeighbors\n",
    "warnings.simplefilter('ignore')"
   ]
  },
  {
   "cell_type": "code",
   "execution_count": 2,
   "id": "impressed-syracuse",
   "metadata": {},
   "outputs": [],
   "source": [
    "base_dir = Path().resolve()\n",
    "data_dir = base_dir / '../data/tfrecord-skf'"
   ]
  },
  {
   "cell_type": "code",
   "execution_count": 3,
   "id": "nasty-prior",
   "metadata": {},
   "outputs": [],
   "source": [
    "# Function to get our f1 score\n",
    "def f1_score(y_true, y_pred):\n",
    "    y_true = y_true.apply(lambda x: set(x.split()))\n",
    "    y_pred = y_pred.apply(lambda x: set(x.split()))\n",
    "    intersection = np.array([len(x[0] & x[1]) for x in zip(y_true, y_pred)])\n",
    "    len_y_pred = y_pred.apply(lambda x: len(x)).values\n",
    "    len_y_true = y_true.apply(lambda x: len(x)).values\n",
    "    f1 = 2 * intersection / (len_y_pred + len_y_true)\n",
    "    return f1"
   ]
  },
  {
   "cell_type": "code",
   "execution_count": 4,
   "id": "exempt-inventory",
   "metadata": {},
   "outputs": [
    {
     "data": {
      "text/html": [
       "<div>\n",
       "<style scoped>\n",
       "    .dataframe tbody tr th:only-of-type {\n",
       "        vertical-align: middle;\n",
       "    }\n",
       "\n",
       "    .dataframe tbody tr th {\n",
       "        vertical-align: top;\n",
       "    }\n",
       "\n",
       "    .dataframe thead th {\n",
       "        text-align: right;\n",
       "    }\n",
       "</style>\n",
       "<table border=\"1\" class=\"dataframe\">\n",
       "  <thead>\n",
       "    <tr style=\"text-align: right;\">\n",
       "      <th></th>\n",
       "      <th>posting_id</th>\n",
       "      <th>image</th>\n",
       "      <th>image_phash</th>\n",
       "      <th>title</th>\n",
       "      <th>label_group</th>\n",
       "      <th>matches</th>\n",
       "      <th>f1</th>\n",
       "      <th>fold</th>\n",
       "    </tr>\n",
       "  </thead>\n",
       "  <tbody>\n",
       "    <tr>\n",
       "      <th>0</th>\n",
       "      <td>train_129225211</td>\n",
       "      <td>0000a68812bc7e98c42888dfb1c07da0.jpg</td>\n",
       "      <td>94974f937d4c2433</td>\n",
       "      <td>Paper Bag Victoria Secret</td>\n",
       "      <td>0</td>\n",
       "      <td>train_129225211 train_2278313361</td>\n",
       "      <td>0.666667</td>\n",
       "      <td>1</td>\n",
       "    </tr>\n",
       "    <tr>\n",
       "      <th>1</th>\n",
       "      <td>train_3386243561</td>\n",
       "      <td>00039780dfc94d01db8676fe789ecd05.jpg</td>\n",
       "      <td>af3f9460c2838f0f</td>\n",
       "      <td>Double Tape 3M VHB 12 mm x 4,5 m ORIGINAL / DO...</td>\n",
       "      <td>1</td>\n",
       "      <td>train_3386243561 train_3423213080</td>\n",
       "      <td>0.666667</td>\n",
       "      <td>2</td>\n",
       "    </tr>\n",
       "    <tr>\n",
       "      <th>2</th>\n",
       "      <td>train_2288590299</td>\n",
       "      <td>000a190fdd715a2a36faed16e2c65df7.jpg</td>\n",
       "      <td>b94cb00ed3e50f78</td>\n",
       "      <td>Maling TTS Canned Pork Luncheon Meat 397 gr</td>\n",
       "      <td>2</td>\n",
       "      <td>train_2288590299 train_3803689425</td>\n",
       "      <td>0.666667</td>\n",
       "      <td>5</td>\n",
       "    </tr>\n",
       "    <tr>\n",
       "      <th>3</th>\n",
       "      <td>train_2406599165</td>\n",
       "      <td>00117e4fc239b1b641ff08340b429633.jpg</td>\n",
       "      <td>8514fc58eafea283</td>\n",
       "      <td>Daster Batik Lengan pendek - Motif Acak / Camp...</td>\n",
       "      <td>3</td>\n",
       "      <td>train_2406599165 train_3342059966</td>\n",
       "      <td>0.666667</td>\n",
       "      <td>7</td>\n",
       "    </tr>\n",
       "    <tr>\n",
       "      <th>4</th>\n",
       "      <td>train_3369186413</td>\n",
       "      <td>00136d1cf4edede0203f32f05f660588.jpg</td>\n",
       "      <td>a6f319f924ad708c</td>\n",
       "      <td>Nescafe \\xc3\\x89clair Latte 220ml</td>\n",
       "      <td>4</td>\n",
       "      <td>train_3369186413 train_921438619</td>\n",
       "      <td>0.666667</td>\n",
       "      <td>9</td>\n",
       "    </tr>\n",
       "  </tbody>\n",
       "</table>\n",
       "</div>"
      ],
      "text/plain": [
       "         posting_id                                 image       image_phash  \\\n",
       "0   train_129225211  0000a68812bc7e98c42888dfb1c07da0.jpg  94974f937d4c2433   \n",
       "1  train_3386243561  00039780dfc94d01db8676fe789ecd05.jpg  af3f9460c2838f0f   \n",
       "2  train_2288590299  000a190fdd715a2a36faed16e2c65df7.jpg  b94cb00ed3e50f78   \n",
       "3  train_2406599165  00117e4fc239b1b641ff08340b429633.jpg  8514fc58eafea283   \n",
       "4  train_3369186413  00136d1cf4edede0203f32f05f660588.jpg  a6f319f924ad708c   \n",
       "\n",
       "                                               title  label_group  \\\n",
       "0                          Paper Bag Victoria Secret            0   \n",
       "1  Double Tape 3M VHB 12 mm x 4,5 m ORIGINAL / DO...            1   \n",
       "2        Maling TTS Canned Pork Luncheon Meat 397 gr            2   \n",
       "3  Daster Batik Lengan pendek - Motif Acak / Camp...            3   \n",
       "4                  Nescafe \\xc3\\x89clair Latte 220ml            4   \n",
       "\n",
       "                             matches        f1  fold  \n",
       "0   train_129225211 train_2278313361  0.666667     1  \n",
       "1  train_3386243561 train_3423213080  0.666667     2  \n",
       "2  train_2288590299 train_3803689425  0.666667     5  \n",
       "3  train_2406599165 train_3342059966  0.666667     7  \n",
       "4   train_3369186413 train_921438619  0.666667     9  "
      ]
     },
     "execution_count": 4,
     "metadata": {},
     "output_type": "execute_result"
    }
   ],
   "source": [
    "df = pd.read_csv(data_dir / 'train_folds.csv')\n",
    "df_cu = cudf.DataFrame(df)\n",
    "df_cu.head()"
   ]
  },
  {
   "cell_type": "code",
   "execution_count": 28,
   "id": "removable-protocol",
   "metadata": {},
   "outputs": [],
   "source": [
    "def get_embeddings(df_cu, max_features: int, binary: bool = False):\n",
    "    model = TfidfVectorizer(stop_words='english', binary=False, max_features=25000)\n",
    "    embeddings = model.fit_transform(df_cu.title).toarray()\n",
    "    print('text embeddings shape',embeddings.shape)\n",
    "    del model\n",
    "    gc.collect()\n",
    "    \n",
    "    return embeddings\n",
    "\n",
    "\n",
    "def get_neighbors(df, embeddings, thr):\n",
    "    predictions = []\n",
    "    CHUNK = 1024*4\n",
    "\n",
    "    CTS = len(df) // CHUNK\n",
    "    if len(df) % CHUNK!=0: CTS += 1\n",
    "    for j in tqdm(range( CTS )):\n",
    "        a = j * CHUNK\n",
    "        b = (j + 1) * CHUNK\n",
    "        b = min(b, len(df))\n",
    "\n",
    "        # COSINE SIMILARITY DISTANCE\n",
    "        cts = cupy.matmul(embeddings, embeddings[a:b].T).T\n",
    "\n",
    "        for k in range(b - a):\n",
    "            idx = cupy.where(cts[k,] > thr)[0]\n",
    "            o = df.iloc[cupy.asnumpy(idx)].posting_id.values\n",
    "            predictions.append(o)\n",
    "    \n",
    "    return predictions\n",
    "\n",
    "\n",
    "def evaluate_by_knn(df, embeddings):\n",
    "    model = NearestNeighbors(n_neighbors = 50, metric='cosine')\n",
    "    model.fit(embeddings)\n",
    "    distances, indices = model.kneighbors(embeddings)\n",
    "    \n",
    "    for threshold in np.arange(0, 1, 0.1):\n",
    "        predictions = []\n",
    "        for k in range(embeddings.shape[0]):\n",
    "            idx = np.where(distances[k, ] < threshold)[0]\n",
    "            ids = indices[k, ][idx]\n",
    "            posting_ids = ' '.join(df['posting_id'].iloc[ids].values)\n",
    "            predictions.append(posting_ids)\n",
    "        df['pred_matches'] = predictions\n",
    "        df['f1'] = f1_score(df['matches'], df['pred_matches'])\n",
    "        score = df['f1'].mean()\n",
    "        print(f'Our f1 score for threshold {np.round(threshold, 2)} is {score}')\n",
    "\n",
    "\n",
    "def pca(embeddings, n_comp: int, white: bool):\n",
    "    model = PCA(n_components = n_comp)\n",
    "    reduced = model.fit_transform(embeddings)\n",
    "    del model\n",
    "    gc.collect()\n",
    "    \n",
    "    return reduced\n",
    "\n",
    "\n",
    "def database_augment(embeddings, n_aug):\n",
    "    weights = np.logspace(0, -1.5, n_aug)\n",
    "    model = NearestNeighbors(n_neighbors=n_aug, metric='cosine')\n",
    "    model.fit(embeddings)\n",
    "    distances, indices = model.kneighbors(embeddings)\n",
    "    \n",
    "    dba_embeddings = list()\n",
    "    for k in range(embeddings.shape[0]):\n",
    "        neighbor_embeddings = embeddings[indices[k, ]]\n",
    "        comb = np.dot(weights, neighbor_embeddings)\n",
    "        dba_embeddings.append(comb)\n",
    "    dba_embeddings = np.vstack(dba_embeddings)\n",
    "    \n",
    "    del model, distances, indices\n",
    "    gc.collect()\n",
    "    return dba_embeddings"
   ]
  },
  {
   "cell_type": "code",
   "execution_count": 6,
   "id": "excess-legislation",
   "metadata": {},
   "outputs": [
    {
     "name": "stdout",
     "output_type": "stream",
     "text": [
      "text embeddings shape (34250, 24939)\n"
     ]
    }
   ],
   "source": [
    "embeddings = get_embeddings(df_cu, 25000, False)"
   ]
  },
  {
   "cell_type": "code",
   "execution_count": 31,
   "id": "documented-diploma",
   "metadata": {},
   "outputs": [
    {
     "name": "stdout",
     "output_type": "stream",
     "text": [
      "Our f1 score for threshold 0.0 is 0.1748018195626768\n",
      "Our f1 score for threshold 0.1 is 0.5546234806194882\n",
      "Our f1 score for threshold 0.2 is 0.610764417071245\n",
      "Our f1 score for threshold 0.3 is 0.6364847301378191\n",
      "Our f1 score for threshold 0.4 is 0.6188215230696176\n",
      "Our f1 score for threshold 0.5 is 0.5495850365348961\n",
      "Our f1 score for threshold 0.6 is 0.4279197346084608\n",
      "Our f1 score for threshold 0.7 is 0.28269289712171003\n",
      "Our f1 score for threshold 0.8 is 0.18201920554358691\n",
      "Our f1 score for threshold 0.9 is 0.165951774064816\n",
      "Our f1 score for threshold 0.0 is 0.17429207040444483\n",
      "Our f1 score for threshold 0.1 is 0.5852107090801242\n",
      "Our f1 score for threshold 0.2 is 0.6379684915971255\n",
      "Our f1 score for threshold 0.3 is 0.6424564199489113\n",
      "Our f1 score for threshold 0.4 is 0.606578511766547\n",
      "Our f1 score for threshold 0.5 is 0.5267126581609337\n",
      "Our f1 score for threshold 0.6 is 0.41040511578503797\n",
      "Our f1 score for threshold 0.7 is 0.27895245390284384\n",
      "Our f1 score for threshold 0.8 is 0.18490291879207454\n",
      "Our f1 score for threshold 0.9 is 0.16715112462515128\n",
      "Our f1 score for threshold 0.0 is 0.17031218722853175\n",
      "Our f1 score for threshold 0.1 is 0.6164939283410723\n",
      "Our f1 score for threshold 0.2 is 0.646942424393185\n",
      "Our f1 score for threshold 0.3 is 0.6308326202228984\n",
      "Our f1 score for threshold 0.4 is 0.579082234425071\n",
      "Our f1 score for threshold 0.5 is 0.49581189362802197\n",
      "Our f1 score for threshold 0.6 is 0.3886572382334506\n",
      "Our f1 score for threshold 0.7 is 0.27293962289798374\n",
      "Our f1 score for threshold 0.8 is 0.18733448227528607\n",
      "Our f1 score for threshold 0.9 is 0.16748794255266608\n"
     ]
    }
   ],
   "source": [
    "for n_aug in [2, 3, 4]:\n",
    "    emb = database_augment(reduced_embeddings.get(), n_aug)\n",
    "    evaluate_by_knn(df, emb)"
   ]
  },
  {
   "cell_type": "code",
   "execution_count": 19,
   "id": "enabling-theater",
   "metadata": {},
   "outputs": [
    {
     "data": {
      "application/vnd.jupyter.widget-view+json": {
       "model_id": "8c36f18090e5419d8e8ebf34cfb56049",
       "version_major": 2,
       "version_minor": 0
      },
      "text/plain": [
       "  0%|          | 0/9 [00:00<?, ?it/s]"
      ]
     },
     "metadata": {},
     "output_type": "display_data"
    },
    {
     "name": "stdout",
     "output_type": "stream",
     "text": [
      "threshold=0.2: 0.19789823267595805\n"
     ]
    },
    {
     "data": {
      "application/vnd.jupyter.widget-view+json": {
       "model_id": "3050c09d1cfb400ba59d29911d4a0185",
       "version_major": 2,
       "version_minor": 0
      },
      "text/plain": [
       "  0%|          | 0/9 [00:00<?, ?it/s]"
      ]
     },
     "metadata": {},
     "output_type": "display_data"
    },
    {
     "name": "stdout",
     "output_type": "stream",
     "text": [
      "threshold=0.4: 0.5356746950309523\n"
     ]
    },
    {
     "data": {
      "application/vnd.jupyter.widget-view+json": {
       "model_id": "423d979f07c54f4ca998f4707d06b427",
       "version_major": 2,
       "version_minor": 0
      },
      "text/plain": [
       "  0%|          | 0/9 [00:00<?, ?it/s]"
      ]
     },
     "metadata": {},
     "output_type": "display_data"
    },
    {
     "name": "stdout",
     "output_type": "stream",
     "text": [
      "threshold=0.6: 0.5579984684456785\n"
     ]
    },
    {
     "data": {
      "application/vnd.jupyter.widget-view+json": {
       "model_id": "f076ec9f9840410e904654ef45b896c1",
       "version_major": 2,
       "version_minor": 0
      },
      "text/plain": [
       "  0%|          | 0/9 [00:00<?, ?it/s]"
      ]
     },
     "metadata": {},
     "output_type": "display_data"
    },
    {
     "name": "stdout",
     "output_type": "stream",
     "text": [
      "threshold=0.8: 0.31206072376184635\n"
     ]
    }
   ],
   "source": [
    "for thr in np.arange(0.2, 1, 0.2):\n",
    "    predictions = get_neighbors(df, reduced_embeddings, thr)\n",
    "    df['pred_matches'] = list(map(lambda x: ' '.join(x), predictions))\n",
    "    df['f1'] = f1_score(df['matches'], df['pred_matches'])\n",
    "    print(f\"threshold={np.round(thr, 3)}: {df['f1'].mean()}\")"
   ]
  },
  {
   "cell_type": "code",
   "execution_count": null,
   "id": "elementary-digit",
   "metadata": {},
   "outputs": [],
   "source": []
  }
 ],
 "metadata": {
  "kernelspec": {
   "display_name": "Python 3",
   "language": "python",
   "name": "python3"
  },
  "language_info": {
   "codemirror_mode": {
    "name": "ipython",
    "version": 3
   },
   "file_extension": ".py",
   "mimetype": "text/x-python",
   "name": "python",
   "nbconvert_exporter": "python",
   "pygments_lexer": "ipython3",
   "version": "3.7.10"
  }
 },
 "nbformat": 4,
 "nbformat_minor": 5
}