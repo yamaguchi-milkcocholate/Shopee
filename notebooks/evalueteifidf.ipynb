{
 "cells": [
  {
   "cell_type": "code",
   "execution_count": 1,
   "id": "consecutive-apple",
   "metadata": {},
   "outputs": [],
   "source": [
    "import numpy as np\n",
    "import pandas as pd\n",
    "import gc\n",
    "import os\n",
    "import sys\n",
    "import yaml\n",
    "import re\n",
    "import random\n",
    "import math\n",
    "import matplotlib.pyplot as plt\n",
    "import warnings\n",
    "import pickle\n",
    "from tqdm.notebook import tqdm\n",
    "from typing import *\n",
    "from pathlib import Path\n",
    "from dataclasses import dataclass, field, asdict\n",
    "from shutil import copyfile\n",
    "from cuml.neighbors import NearestNeighbors\n",
    "import cudf\n",
    "import cuml\n",
    "import cupy\n",
    "from cuml.feature_extraction.text import TfidfVectorizer\n",
    "from cuml import PCA\n",
    "from cuml.neighbors import NearestNeighbors\n",
    "warnings.simplefilter('ignore')"
   ]
  },
  {
   "cell_type": "code",
   "execution_count": 2,
   "id": "artistic-matrix",
   "metadata": {},
   "outputs": [],
   "source": [
    "base_dir = Path().resolve()\n",
    "data_dir = base_dir / '../data/tfrecord-skf'"
   ]
  },
  {
   "cell_type": "code",
   "execution_count": 3,
   "id": "multiple-registration",
   "metadata": {},
   "outputs": [],
   "source": [
    "# Function to get our f1 score\n",
    "def f1_score(y_true, y_pred):\n",
    "    y_true = y_true.apply(lambda x: set(x.split()))\n",
    "    y_pred = y_pred.apply(lambda x: set(x.split()))\n",
    "    intersection = np.array([len(x[0] & x[1]) for x in zip(y_true, y_pred)])\n",
    "    len_y_pred = y_pred.apply(lambda x: len(x)).values\n",
    "    len_y_true = y_true.apply(lambda x: len(x)).values\n",
    "    f1 = 2 * intersection / (len_y_pred + len_y_true)\n",
    "    return f1"
   ]
  },
  {
   "cell_type": "code",
   "execution_count": 4,
   "id": "facial-texas",
   "metadata": {},
   "outputs": [
    {
     "data": {
      "text/html": [
       "<div>\n",
       "<style scoped>\n",
       "    .dataframe tbody tr th:only-of-type {\n",
       "        vertical-align: middle;\n",
       "    }\n",
       "\n",
       "    .dataframe tbody tr th {\n",
       "        vertical-align: top;\n",
       "    }\n",
       "\n",
       "    .dataframe thead th {\n",
       "        text-align: right;\n",
       "    }\n",
       "</style>\n",
       "<table border=\"1\" class=\"dataframe\">\n",
       "  <thead>\n",
       "    <tr style=\"text-align: right;\">\n",
       "      <th></th>\n",
       "      <th>posting_id</th>\n",
       "      <th>image</th>\n",
       "      <th>image_phash</th>\n",
       "      <th>title</th>\n",
       "      <th>label_group</th>\n",
       "      <th>matches</th>\n",
       "      <th>f1</th>\n",
       "      <th>fold</th>\n",
       "    </tr>\n",
       "  </thead>\n",
       "  <tbody>\n",
       "    <tr>\n",
       "      <th>0</th>\n",
       "      <td>train_129225211</td>\n",
       "      <td>0000a68812bc7e98c42888dfb1c07da0.jpg</td>\n",
       "      <td>94974f937d4c2433</td>\n",
       "      <td>Paper Bag Victoria Secret</td>\n",
       "      <td>0</td>\n",
       "      <td>train_129225211 train_2278313361</td>\n",
       "      <td>0.666667</td>\n",
       "      <td>1</td>\n",
       "    </tr>\n",
       "    <tr>\n",
       "      <th>1</th>\n",
       "      <td>train_3386243561</td>\n",
       "      <td>00039780dfc94d01db8676fe789ecd05.jpg</td>\n",
       "      <td>af3f9460c2838f0f</td>\n",
       "      <td>Double Tape 3M VHB 12 mm x 4,5 m ORIGINAL / DO...</td>\n",
       "      <td>1</td>\n",
       "      <td>train_3386243561 train_3423213080</td>\n",
       "      <td>0.666667</td>\n",
       "      <td>2</td>\n",
       "    </tr>\n",
       "    <tr>\n",
       "      <th>2</th>\n",
       "      <td>train_2288590299</td>\n",
       "      <td>000a190fdd715a2a36faed16e2c65df7.jpg</td>\n",
       "      <td>b94cb00ed3e50f78</td>\n",
       "      <td>Maling TTS Canned Pork Luncheon Meat 397 gr</td>\n",
       "      <td>2</td>\n",
       "      <td>train_2288590299 train_3803689425</td>\n",
       "      <td>0.666667</td>\n",
       "      <td>5</td>\n",
       "    </tr>\n",
       "    <tr>\n",
       "      <th>3</th>\n",
       "      <td>train_2406599165</td>\n",
       "      <td>00117e4fc239b1b641ff08340b429633.jpg</td>\n",
       "      <td>8514fc58eafea283</td>\n",
       "      <td>Daster Batik Lengan pendek - Motif Acak / Camp...</td>\n",
       "      <td>3</td>\n",
       "      <td>train_2406599165 train_3342059966</td>\n",
       "      <td>0.666667</td>\n",
       "      <td>7</td>\n",
       "    </tr>\n",
       "    <tr>\n",
       "      <th>4</th>\n",
       "      <td>train_3369186413</td>\n",
       "      <td>00136d1cf4edede0203f32f05f660588.jpg</td>\n",
       "      <td>a6f319f924ad708c</td>\n",
       "      <td>Nescafe \\xc3\\x89clair Latte 220ml</td>\n",
       "      <td>4</td>\n",
       "      <td>train_3369186413 train_921438619</td>\n",
       "      <td>0.666667</td>\n",
       "      <td>9</td>\n",
       "    </tr>\n",
       "  </tbody>\n",
       "</table>\n",
       "</div>"
      ],
      "text/plain": [
       "         posting_id                                 image       image_phash  \\\n",
       "0   train_129225211  0000a68812bc7e98c42888dfb1c07da0.jpg  94974f937d4c2433   \n",
       "1  train_3386243561  00039780dfc94d01db8676fe789ecd05.jpg  af3f9460c2838f0f   \n",
       "2  train_2288590299  000a190fdd715a2a36faed16e2c65df7.jpg  b94cb00ed3e50f78   \n",
       "3  train_2406599165  00117e4fc239b1b641ff08340b429633.jpg  8514fc58eafea283   \n",
       "4  train_3369186413  00136d1cf4edede0203f32f05f660588.jpg  a6f319f924ad708c   \n",
       "\n",
       "                                               title  label_group  \\\n",
       "0                          Paper Bag Victoria Secret            0   \n",
       "1  Double Tape 3M VHB 12 mm x 4,5 m ORIGINAL / DO...            1   \n",
       "2        Maling TTS Canned Pork Luncheon Meat 397 gr            2   \n",
       "3  Daster Batik Lengan pendek - Motif Acak / Camp...            3   \n",
       "4                  Nescafe \\xc3\\x89clair Latte 220ml            4   \n",
       "\n",
       "                             matches        f1  fold  \n",
       "0   train_129225211 train_2278313361  0.666667     1  \n",
       "1  train_3386243561 train_3423213080  0.666667     2  \n",
       "2  train_2288590299 train_3803689425  0.666667     5  \n",
       "3  train_2406599165 train_3342059966  0.666667     7  \n",
       "4   train_3369186413 train_921438619  0.666667     9  "
      ]
     },
     "execution_count": 4,
     "metadata": {},
     "output_type": "execute_result"
    }
   ],
   "source": [
    "df = pd.read_csv(data_dir / 'train_folds.csv')\n",
    "df_cu = cudf.DataFrame(df)\n",
    "df_cu.head()"
   ]
  },
  {
   "cell_type": "code",
   "execution_count": 5,
   "id": "selected-shape",
   "metadata": {},
   "outputs": [],
   "source": [
    "def get_embeddings(df_cu, max_features: int, binary: bool = False):\n",
    "    model = TfidfVectorizer(stop_words='english', binary=binary, max_features=max_features)\n",
    "    embeddings = model.fit_transform(df_cu.title).toarray()\n",
    "    print('text embeddings shape',embeddings.shape)\n",
    "    del model\n",
    "    gc.collect()\n",
    "    \n",
    "    return embeddings\n",
    "\n",
    "\n",
    "def get_neighbors(df, embeddings, thr):\n",
    "    predictions = []\n",
    "    CHUNK = 1024*4\n",
    "\n",
    "    CTS = len(df) // CHUNK\n",
    "    if len(df) % CHUNK!=0: CTS += 1\n",
    "    for j in tqdm(range( CTS )):\n",
    "        a = j * CHUNK\n",
    "        b = (j + 1) * CHUNK\n",
    "        b = min(b, len(df))\n",
    "\n",
    "        # COSINE SIMILARITY DISTANCE\n",
    "        cts = cupy.matmul(embeddings, embeddings[a:b].T).T\n",
    "\n",
    "        for k in range(b - a):\n",
    "            idx = cupy.where(cts[k,] > thr)[0]\n",
    "            o = df.iloc[cupy.asnumpy(idx)].posting_id.values\n",
    "            predictions.append(o)\n",
    "    \n",
    "    return predictions\n",
    "\n",
    "\n",
    "def evaluate_by_cst(df, embeddings, verbose=False, thr_start=0, thr_end=1, thr_step=0.1):\n",
    "    CHUNK = 1024 * 4\n",
    "    CTS = len(embeddings) // CHUNK\n",
    "    if len(embeddings) % CHUNK != 0: CTS += 1\n",
    "        \n",
    "    scores = list()\n",
    "    thresholds = np.arange(thr_start, thr_end, thr_step)\n",
    "    for threshold in thresholds:\n",
    "        predictions = []\n",
    "        \n",
    "        for j in range(CTS):\n",
    "            a, b = j * CHUNK, (j + 1) * CHUNK\n",
    "            b = min(b, len(embeddings))\n",
    "            \n",
    "            cts = cupy.matmul(embeddings, embeddings[a:b].T).T\n",
    "            \n",
    "            for k in range(b - a):\n",
    "                idx = cupy.where(cts[k,] > threshold)[0]\n",
    "                posting_ids = ' '.join(df['posting_id'].iloc[cupy.asnumpy(idx)].values)\n",
    "                predictions.append(posting_ids)\n",
    "                \n",
    "        df['pred_matches'] = predictions\n",
    "        df['f1'] = f1_score(df['matches'], df['pred_matches'])            \n",
    "        score = df['f1'].mean()\n",
    "        scores.append(score)\n",
    "        if verbose:\n",
    "            print(f'Our f1 score for threshold {np.round(threshold, 3)} is {score}')\n",
    "    \n",
    "    thresholds_scores = pd.DataFrame({'thresholds': thresholds, 'scores': scores})\n",
    "\n",
    "    max_score = thresholds_scores[thresholds_scores['scores'] == thresholds_scores['scores'].max()]\n",
    "    best_threshold = max_score['thresholds'].values[0]\n",
    "    best_score = max_score['scores'].values[0]\n",
    "    print(f'Our best score is {best_score} and has a threshold {best_threshold}')\n",
    "    \n",
    "    return best_score, best_threshold\n",
    "\n",
    "\n",
    "def evaluate_by_knn(df, embeddings, verbose=False, thr_start=0, thr_end=1, thr_step=0.1):\n",
    "    model = NearestNeighbors(n_neighbors = 50, metric='cosine')\n",
    "    model.fit(embeddings)\n",
    "    \n",
    "    CHUNK = 1024 * 4\n",
    "    CTS = len(embeddings) // CHUNK\n",
    "    if len(embeddings) % CHUNK != 0: CTS += 1\n",
    "        \n",
    "    scores = list()\n",
    "    thresholds = np.arange(thr_start, thr_end, thr_step)\n",
    "    for threshold in thresholds:\n",
    "        predictions = []\n",
    "        \n",
    "        for j in range(CTS):\n",
    "            a, b = j * CHUNK, (j + 1) * CHUNK\n",
    "            b = min(b, len(embeddings))\n",
    "            distances, indices = model.kneighbors(embeddings[a:b, :])\n",
    "            \n",
    "            for k in range(b - a):\n",
    "                idx = np.where(distances[k, ] < threshold)[0]\n",
    "                ids = indices[k, ][idx]\n",
    "                posting_ids = ' '.join(df['posting_id'].iloc[ids].values)\n",
    "                predictions.append(posting_ids)\n",
    "                \n",
    "        df['pred_matches'] = predictions\n",
    "        df['f1'] = f1_score(df['matches'], df['pred_matches'])            \n",
    "        score = df['f1'].mean()\n",
    "        scores.append(score)\n",
    "        if verbose:\n",
    "            print(f'Our f1 score for threshold {np.round(threshold, 3)} is {score}')\n",
    "    \n",
    "    thresholds_scores = pd.DataFrame({'thresholds': thresholds, 'scores': scores})\n",
    "\n",
    "    max_score = thresholds_scores[thresholds_scores['scores'] == thresholds_scores['scores'].max()]\n",
    "    best_threshold = max_score['thresholds'].values[0]\n",
    "    best_score = max_score['scores'].values[0]\n",
    "    print(f'Our best score is {best_score} and has a threshold {best_threshold}')\n",
    "    \n",
    "    return best_score, best_threshold\n",
    "\n",
    "\n",
    "def pca(embeddings, n_comp: int, white: bool):\n",
    "    model = PCA(n_components = n_comp)\n",
    "    reduced = model.fit_transform(embeddings)\n",
    "    del model\n",
    "    gc.collect()\n",
    "    \n",
    "    return reduced\n",
    "\n",
    "\n",
    "def database_augment(embeddings, n_aug):\n",
    "    weights = cupy.array(np.logspace(0, -1.5, n_aug))\n",
    "\n",
    "    dba_embeddings = list()\n",
    "\n",
    "    CHUNK = 1024*4\n",
    "    CTS = embeddings.shape[0] // CHUNK\n",
    "    if embeddings.shape[0] % CHUNK!=0: CTS += 1\n",
    "    for j in tqdm(range( CTS )):\n",
    "\n",
    "        a = j * CHUNK\n",
    "        b = (j + 1) * CHUNK\n",
    "        b = min(b, embeddings.shape[0])\n",
    "\n",
    "        # COSINE SIMILARITY DISTANCE\n",
    "        cts = cupy.matmul(embeddings, embeddings[a:b].T).T\n",
    "\n",
    "        for k in range(b - a):\n",
    "            IDX = (-cts[k, ]).argsort()[:n_aug]\n",
    "            neighbor_embeddings = embeddings[cupy.asnumpy(IDX)]\n",
    "            comb = cupy.dot(weights, neighbor_embeddings).astype(np.float16)\n",
    "            dba_embeddings.append(comb)\n",
    "    \n",
    "    del cts, neighbor_embeddings\n",
    "    gc.collect()\n",
    "    return cupy.vstack(dba_embeddings)"
   ]
  },
  {
   "cell_type": "code",
   "execution_count": 10,
   "id": "bound-cooler",
   "metadata": {},
   "outputs": [
    {
     "name": "stdout",
     "output_type": "stream",
     "text": [
      "text embeddings shape (34250, 24939)\n"
     ]
    }
   ],
   "source": [
    "embeddings = get_embeddings(df_cu, 25000, True)"
   ]
  },
  {
   "cell_type": "code",
   "execution_count": 12,
   "id": "naked-copyright",
   "metadata": {},
   "outputs": [
    {
     "name": "stdout",
     "output_type": "stream",
     "text": [
      "Our f1 score for threshold 0.0 is 0.02170390994672997\n",
      "Our f1 score for threshold 0.1 is 0.05344222111667425\n",
      "Our f1 score for threshold 0.2 is 0.24263556975533523\n",
      "Our f1 score for threshold 0.3 is 0.47216092903638296\n",
      "Our f1 score for threshold 0.4 is 0.6088003645474411\n",
      "Our f1 score for threshold 0.5 is 0.6584799980283037\n",
      "Our f1 score for threshold 0.6 is 0.6508860684997824\n",
      "Our f1 score for threshold 0.7 is 0.6139718474362906\n",
      "Our f1 score for threshold 0.8 is 0.5674725762816865\n",
      "Our f1 score for threshold 0.9 is 0.519655663267215\n",
      "Our best score is 0.6584799980283037 and has a threshold 0.5\n"
     ]
    },
    {
     "data": {
      "text/plain": [
       "(0.6584799980283037, 0.5)"
      ]
     },
     "execution_count": 12,
     "metadata": {},
     "output_type": "execute_result"
    }
   ],
   "source": [
    "evaluate_by_cst(df, embeddings, True)"
   ]
  },
  {
   "cell_type": "code",
   "execution_count": 8,
   "id": "blond-charles",
   "metadata": {},
   "outputs": [
    {
     "name": "stdout",
     "output_type": "stream",
     "text": [
      "text embeddings shape (34250, 15000)\n"
     ]
    }
   ],
   "source": [
    "embeddings = get_embeddings(df_cu, 15000, True)"
   ]
  },
  {
   "cell_type": "code",
   "execution_count": 9,
   "id": "sealed-leather",
   "metadata": {},
   "outputs": [
    {
     "name": "stdout",
     "output_type": "stream",
     "text": [
      "Our f1 score for threshold 0.0 is 0.021563968554424412\n",
      "Our f1 score for threshold 0.1 is 0.04680624182418409\n",
      "Our f1 score for threshold 0.2 is 0.20693914051700124\n",
      "Our f1 score for threshold 0.3 is 0.43043017949641477\n",
      "Our f1 score for threshold 0.4 is 0.5840247777642689\n",
      "Our f1 score for threshold 0.5 is 0.6548821701124466\n",
      "Our f1 score for threshold 0.6 is 0.6608917181718009\n",
      "Our f1 score for threshold 0.7 is 0.6307863367045677\n",
      "Our f1 score for threshold 0.8 is 0.582342900802781\n",
      "Our f1 score for threshold 0.9 is 0.5283465337900001\n",
      "Our best score is 0.6608917181718009 and has a threshold 0.6000000000000001\n"
     ]
    },
    {
     "data": {
      "text/plain": [
       "(0.6608917181718009, 0.6000000000000001)"
      ]
     },
     "execution_count": 9,
     "metadata": {},
     "output_type": "execute_result"
    }
   ],
   "source": [
    "evaluate_by_cst(df, embeddings, True)"
   ]
  },
  {
   "cell_type": "code",
   "execution_count": 18,
   "id": "certain-tragedy",
   "metadata": {},
   "outputs": [
    {
     "name": "stdout",
     "output_type": "stream",
     "text": [
      "Our f1 score for threshold 1.1 is 0.6740430718960063\n",
      "Our f1 score for threshold 1.125 is 0.6756116106723131\n",
      "Our f1 score for threshold 1.15 is 0.6765921954282385\n",
      "Our f1 score for threshold 1.175 is 0.677230146038827\n",
      "Our f1 score for threshold 1.2 is 0.6769511398421453\n",
      "Our f1 score for threshold 1.225 is 0.675626948155604\n",
      "Our f1 score for threshold 1.25 is 0.6742350342124448\n",
      "Our f1 score for threshold 1.275 is 0.6716638576679795\n",
      "Our best score is 0.677230146038827 and has a threshold 1.1749999999999998\n"
     ]
    },
    {
     "data": {
      "text/plain": [
       "(0.677230146038827, 1.1749999999999998)"
      ]
     },
     "execution_count": 18,
     "metadata": {},
     "output_type": "execute_result"
    }
   ],
   "source": [
    "# dba_embeddings = database_augment(embeddings, n_aug=4)\n",
    "evaluate_by_cst(df, dba_embeddings, True, 1.1, 1.3, 0.025)"
   ]
  },
  {
   "cell_type": "code",
   "execution_count": 14,
   "id": "apart-optimization",
   "metadata": {},
   "outputs": [
    {
     "name": "stdout",
     "output_type": "stream",
     "text": [
      "Our f1 score for threshold 0.0 is 0.22589668337160274\n",
      "Our f1 score for threshold 0.1 is 0.519655663267215\n",
      "Our f1 score for threshold 0.2 is 0.5674725762816865\n",
      "Our f1 score for threshold 0.3 is 0.6139718474362906\n",
      "Our f1 score for threshold 0.4 is 0.6508645672914471\n",
      "Our f1 score for threshold 0.5 is 0.6584638058535407\n",
      "Our f1 score for threshold 0.6 is 0.6089996426107022\n",
      "Our f1 score for threshold 0.7 is 0.4740206364669603\n",
      "Our f1 score for threshold 0.8 is 0.2653058228238367\n",
      "Our f1 score for threshold 0.9 is 0.1690893093777188\n"
     ]
    },
    {
     "ename": "NameError",
     "evalue": "name 'thresholds' is not defined",
     "output_type": "error",
     "traceback": [
      "\u001b[0;31m---------------------------------------------------------------------------\u001b[0m",
      "\u001b[0;31mNameError\u001b[0m                                 Traceback (most recent call last)",
      "\u001b[0;32m<ipython-input-14-f40c09cd2d36>\u001b[0m in \u001b[0;36m<module>\u001b[0;34m\u001b[0m\n\u001b[0;32m----> 1\u001b[0;31m \u001b[0mevaluate_by_knn\u001b[0m\u001b[0;34m(\u001b[0m\u001b[0mdf\u001b[0m\u001b[0;34m,\u001b[0m \u001b[0membeddings\u001b[0m\u001b[0;34m,\u001b[0m \u001b[0;32mTrue\u001b[0m\u001b[0;34m)\u001b[0m\u001b[0;34m\u001b[0m\u001b[0;34m\u001b[0m\u001b[0m\n\u001b[0m",
      "\u001b[0;32m<ipython-input-12-47da0a00c158>\u001b[0m in \u001b[0;36mevaluate_by_knn\u001b[0;34m(df, embeddings, verbose, thr_start, thr_end, thr_step)\u001b[0m\n\u001b[1;32m     61\u001b[0m             \u001b[0mprint\u001b[0m\u001b[0;34m(\u001b[0m\u001b[0;34mf'Our f1 score for threshold {np.round(threshold, 2)} is {score}'\u001b[0m\u001b[0;34m)\u001b[0m\u001b[0;34m\u001b[0m\u001b[0;34m\u001b[0m\u001b[0m\n\u001b[1;32m     62\u001b[0m \u001b[0;34m\u001b[0m\u001b[0m\n\u001b[0;32m---> 63\u001b[0;31m     \u001b[0mthresholds_scores\u001b[0m \u001b[0;34m=\u001b[0m \u001b[0mpd\u001b[0m\u001b[0;34m.\u001b[0m\u001b[0mDataFrame\u001b[0m\u001b[0;34m(\u001b[0m\u001b[0;34m{\u001b[0m\u001b[0;34m'thresholds'\u001b[0m\u001b[0;34m:\u001b[0m \u001b[0mthresholds\u001b[0m\u001b[0;34m,\u001b[0m \u001b[0;34m'scores'\u001b[0m\u001b[0;34m:\u001b[0m \u001b[0mscores\u001b[0m\u001b[0;34m}\u001b[0m\u001b[0;34m)\u001b[0m\u001b[0;34m\u001b[0m\u001b[0;34m\u001b[0m\u001b[0m\n\u001b[0m\u001b[1;32m     64\u001b[0m \u001b[0;34m\u001b[0m\u001b[0m\n\u001b[1;32m     65\u001b[0m     \u001b[0mmax_score\u001b[0m \u001b[0;34m=\u001b[0m \u001b[0mthresholds_scores\u001b[0m\u001b[0;34m[\u001b[0m\u001b[0mthresholds_scores\u001b[0m\u001b[0;34m[\u001b[0m\u001b[0;34m'scores'\u001b[0m\u001b[0;34m]\u001b[0m \u001b[0;34m==\u001b[0m \u001b[0mthresholds_scores\u001b[0m\u001b[0;34m[\u001b[0m\u001b[0;34m'scores'\u001b[0m\u001b[0;34m]\u001b[0m\u001b[0;34m.\u001b[0m\u001b[0mmax\u001b[0m\u001b[0;34m(\u001b[0m\u001b[0;34m)\u001b[0m\u001b[0;34m]\u001b[0m\u001b[0;34m\u001b[0m\u001b[0;34m\u001b[0m\u001b[0m\n",
      "\u001b[0;31mNameError\u001b[0m: name 'thresholds' is not defined"
     ]
    }
   ],
   "source": [
    "evaluate_by_knn(df, embeddings, True)"
   ]
  },
  {
   "cell_type": "code",
   "execution_count": 16,
   "id": "square-fifteen",
   "metadata": {},
   "outputs": [
    {
     "name": "stdout",
     "output_type": "stream",
     "text": [
      "Our f1 score for threshold 0.4 is 0.6508645672914471\n",
      "Our f1 score for threshold 0.425 is 0.6567669084635231\n",
      "Our f1 score for threshold 0.45 is 0.6603468323297726\n",
      "Our f1 score for threshold 0.475 is 0.6606102465716948\n",
      "Our f1 score for threshold 0.5 is 0.6584638058535407\n",
      "Our f1 score for threshold 0.525 is 0.6527621992402718\n",
      "Our f1 score for threshold 0.55 is 0.6423353043402702\n",
      "Our f1 score for threshold 0.575 is 0.6284139827312539\n"
     ]
    },
    {
     "ename": "NameError",
     "evalue": "name 'thresholds' is not defined",
     "output_type": "error",
     "traceback": [
      "\u001b[0;31m---------------------------------------------------------------------------\u001b[0m",
      "\u001b[0;31mNameError\u001b[0m                                 Traceback (most recent call last)",
      "\u001b[0;32m<ipython-input-16-fa99a6c193df>\u001b[0m in \u001b[0;36m<module>\u001b[0;34m\u001b[0m\n\u001b[0;32m----> 1\u001b[0;31m \u001b[0mevaluate_by_knn\u001b[0m\u001b[0;34m(\u001b[0m\u001b[0mdf\u001b[0m\u001b[0;34m,\u001b[0m \u001b[0membeddings\u001b[0m\u001b[0;34m,\u001b[0m \u001b[0;32mTrue\u001b[0m\u001b[0;34m,\u001b[0m \u001b[0;36m0.4\u001b[0m\u001b[0;34m,\u001b[0m \u001b[0;36m0.6\u001b[0m\u001b[0;34m,\u001b[0m \u001b[0;36m0.025\u001b[0m\u001b[0;34m)\u001b[0m\u001b[0;34m\u001b[0m\u001b[0;34m\u001b[0m\u001b[0m\n\u001b[0m",
      "\u001b[0;32m<ipython-input-15-9513ad120cb1>\u001b[0m in \u001b[0;36mevaluate_by_knn\u001b[0;34m(df, embeddings, verbose, thr_start, thr_end, thr_step)\u001b[0m\n\u001b[1;32m     61\u001b[0m             \u001b[0mprint\u001b[0m\u001b[0;34m(\u001b[0m\u001b[0;34mf'Our f1 score for threshold {np.round(threshold, 3)} is {score}'\u001b[0m\u001b[0;34m)\u001b[0m\u001b[0;34m\u001b[0m\u001b[0;34m\u001b[0m\u001b[0m\n\u001b[1;32m     62\u001b[0m \u001b[0;34m\u001b[0m\u001b[0m\n\u001b[0;32m---> 63\u001b[0;31m     \u001b[0mthresholds_scores\u001b[0m \u001b[0;34m=\u001b[0m \u001b[0mpd\u001b[0m\u001b[0;34m.\u001b[0m\u001b[0mDataFrame\u001b[0m\u001b[0;34m(\u001b[0m\u001b[0;34m{\u001b[0m\u001b[0;34m'thresholds'\u001b[0m\u001b[0;34m:\u001b[0m \u001b[0mthresholds\u001b[0m\u001b[0;34m,\u001b[0m \u001b[0;34m'scores'\u001b[0m\u001b[0;34m:\u001b[0m \u001b[0mscores\u001b[0m\u001b[0;34m}\u001b[0m\u001b[0;34m)\u001b[0m\u001b[0;34m\u001b[0m\u001b[0;34m\u001b[0m\u001b[0m\n\u001b[0m\u001b[1;32m     64\u001b[0m \u001b[0;34m\u001b[0m\u001b[0m\n\u001b[1;32m     65\u001b[0m     \u001b[0mmax_score\u001b[0m \u001b[0;34m=\u001b[0m \u001b[0mthresholds_scores\u001b[0m\u001b[0;34m[\u001b[0m\u001b[0mthresholds_scores\u001b[0m\u001b[0;34m[\u001b[0m\u001b[0;34m'scores'\u001b[0m\u001b[0;34m]\u001b[0m \u001b[0;34m==\u001b[0m \u001b[0mthresholds_scores\u001b[0m\u001b[0;34m[\u001b[0m\u001b[0;34m'scores'\u001b[0m\u001b[0;34m]\u001b[0m\u001b[0;34m.\u001b[0m\u001b[0mmax\u001b[0m\u001b[0;34m(\u001b[0m\u001b[0;34m)\u001b[0m\u001b[0;34m]\u001b[0m\u001b[0;34m\u001b[0m\u001b[0;34m\u001b[0m\u001b[0m\n",
      "\u001b[0;31mNameError\u001b[0m: name 'thresholds' is not defined"
     ]
    }
   ],
   "source": [
    "evaluate_by_knn(df, embeddings, True, 0.4, 0.6, 0.025)"
   ]
  },
  {
   "cell_type": "code",
   "execution_count": 18,
   "id": "failing-brook",
   "metadata": {},
   "outputs": [
    {
     "data": {
      "application/vnd.jupyter.widget-view+json": {
       "model_id": "cda6e6c8be294ebb84415bbe5ff691c3",
       "version_major": 2,
       "version_minor": 0
      },
      "text/plain": [
       "  0%|          | 0/9 [00:00<?, ?it/s]"
      ]
     },
     "metadata": {},
     "output_type": "display_data"
    },
    {
     "name": "stdout",
     "output_type": "stream",
     "text": [
      "Our f1 score for threshold 0.0 is 0.13721999416614566\n",
      "Our f1 score for threshold 0.1 is 0.5240900275190714\n",
      "Our f1 score for threshold 0.2 is 0.5755170537607047\n",
      "Our f1 score for threshold 0.3 is 0.6226671969984707\n",
      "Our f1 score for threshold 0.4 is 0.6596576305309454\n",
      "Our f1 score for threshold 0.5 is 0.6627428546438634\n",
      "Our best score is 0.6627428546438634 and has a threshold 0.5\n"
     ]
    },
    {
     "data": {
      "application/vnd.jupyter.widget-view+json": {
       "model_id": "8721cf26361440c9a778b7d8ebff179b",
       "version_major": 2,
       "version_minor": 0
      },
      "text/plain": [
       "  0%|          | 0/9 [00:00<?, ?it/s]"
      ]
     },
     "metadata": {},
     "output_type": "display_data"
    },
    {
     "name": "stdout",
     "output_type": "stream",
     "text": [
      "Our f1 score for threshold 0.0 is 0.1361987150703364\n",
      "Our f1 score for threshold 0.1 is 0.5510136463419336\n",
      "Our f1 score for threshold 0.2 is 0.6188443355035681\n",
      "Our f1 score for threshold 0.3 is 0.6653831061019478\n",
      "Our f1 score for threshold 0.4 is 0.6821859477683\n",
      "Our f1 score for threshold 0.5 is 0.6588236620025603\n",
      "Our best score is 0.6821859477683 and has a threshold 0.4\n"
     ]
    },
    {
     "data": {
      "application/vnd.jupyter.widget-view+json": {
       "model_id": "e04b9c6472f8409aa3bb75a17ac864b0",
       "version_major": 2,
       "version_minor": 0
      },
      "text/plain": [
       "  0%|          | 0/9 [00:00<?, ?it/s]"
      ]
     },
     "metadata": {},
     "output_type": "display_data"
    },
    {
     "name": "stdout",
     "output_type": "stream",
     "text": [
      "Our f1 score for threshold 0.0 is 0.1283022208579989\n",
      "Our f1 score for threshold 0.1 is 0.5912237146485838\n",
      "Our f1 score for threshold 0.2 is 0.6585533879221791\n",
      "Our f1 score for threshold 0.3 is 0.682850215600553\n",
      "Our f1 score for threshold 0.4 is 0.6751296518599637\n",
      "Our f1 score for threshold 0.5 is 0.630763817126077\n",
      "Our best score is 0.682850215600553 and has a threshold 0.30000000000000004\n"
     ]
    },
    {
     "data": {
      "application/vnd.jupyter.widget-view+json": {
       "model_id": "b87a7e968a1e4b878df29786c287bc17",
       "version_major": 2,
       "version_minor": 0
      },
      "text/plain": [
       "  0%|          | 0/9 [00:00<?, ?it/s]"
      ]
     },
     "metadata": {},
     "output_type": "display_data"
    },
    {
     "name": "stdout",
     "output_type": "stream",
     "text": [
      "Our f1 score for threshold 0.0 is 0.12879473917238793\n",
      "Our f1 score for threshold 0.1 is 0.6223800072039957\n",
      "Our f1 score for threshold 0.2 is 0.6762265881673074\n",
      "Our f1 score for threshold 0.3 is 0.6813847072979412\n",
      "Our f1 score for threshold 0.4 is 0.6540300199510073\n",
      "Our f1 score for threshold 0.5 is 0.5963890233219248\n",
      "Our best score is 0.6813847072979412 and has a threshold 0.30000000000000004\n"
     ]
    }
   ],
   "source": [
    "for n_aug in [2, 3, 4, 5]:\n",
    "    dba_embeddings = database_augment(embeddings, n_aug=n_aug)\n",
    "    evaluate_by_knn(df, dba_embeddings, True, 0, 0.6, 0.1)"
   ]
  },
  {
   "cell_type": "code",
   "execution_count": 19,
   "id": "standard-nickname",
   "metadata": {},
   "outputs": [
    {
     "data": {
      "application/vnd.jupyter.widget-view+json": {
       "model_id": "5c1cbd1e68f4477ba18d960761de5757",
       "version_major": 2,
       "version_minor": 0
      },
      "text/plain": [
       "  0%|          | 0/9 [00:00<?, ?it/s]"
      ]
     },
     "metadata": {},
     "output_type": "display_data"
    },
    {
     "name": "stdout",
     "output_type": "stream",
     "text": [
      "Our f1 score for threshold 0.2 is 0.6585533879221791\n",
      "Our f1 score for threshold 0.225 is 0.6671140237260946\n",
      "Our f1 score for threshold 0.25 is 0.6747279729783485\n",
      "Our f1 score for threshold 0.275 is 0.6795177137129732\n",
      "Our f1 score for threshold 0.3 is 0.682850215600553\n",
      "Our f1 score for threshold 0.325 is 0.6845803454287234\n",
      "Our f1 score for threshold 0.35 is 0.6835199923413185\n",
      "Our f1 score for threshold 0.375 is 0.6796461835753745\n",
      "Our best score is 0.6845803454287234 and has a threshold 0.32499999999999996\n"
     ]
    },
    {
     "data": {
      "text/plain": [
       "(0.6845803454287234, 0.32499999999999996)"
      ]
     },
     "execution_count": 19,
     "metadata": {},
     "output_type": "execute_result"
    }
   ],
   "source": [
    "dba_embeddings = database_augment(embeddings, n_aug=4)\n",
    "evaluate_by_knn(df, dba_embeddings, True, 0.2, 0.4, 0.025)"
   ]
  },
  {
   "cell_type": "code",
   "execution_count": null,
   "id": "actual-bahamas",
   "metadata": {},
   "outputs": [],
   "source": []
  },
  {
   "cell_type": "code",
   "execution_count": 15,
   "id": "passing-death",
   "metadata": {},
   "outputs": [
    {
     "data": {
      "application/vnd.jupyter.widget-view+json": {
       "model_id": "0a2dc466a14f4f2e89e131844a13d1ed",
       "version_major": 2,
       "version_minor": 0
      },
      "text/plain": [
       "  0%|          | 0/9 [00:00<?, ?it/s]"
      ]
     },
     "metadata": {},
     "output_type": "display_data"
    }
   ],
   "source": []
  },
  {
   "cell_type": "code",
   "execution_count": null,
   "id": "naughty-surgeon",
   "metadata": {},
   "outputs": [
    {
     "name": "stdout",
     "output_type": "stream",
     "text": [
      "Our f1 score for threshold 0.0 is 0.13982649415880108\n",
      "Our f1 score for threshold 0.1 is 0.5262600991919504\n",
      "Our f1 score for threshold 0.2 is 0.5795658546877683\n",
      "Our f1 score for threshold 0.3 is 0.6263165665425965\n",
      "Our f1 score for threshold 0.4 is 0.6525038806744203\n",
      "Our f1 score for threshold 0.5 is 0.6386572202883374\n",
      "Our f1 score for threshold 0.6 is 0.5615881241284257\n"
     ]
    }
   ],
   "source": [
    "evaluate_by_knn(df, dba_embeddings)"
   ]
  },
  {
   "cell_type": "code",
   "execution_count": 6,
   "id": "rational-article",
   "metadata": {},
   "outputs": [
    {
     "name": "stdout",
     "output_type": "stream",
     "text": [
      "text embeddings shape (34250, 24939)\n"
     ]
    }
   ],
   "source": []
  },
  {
   "cell_type": "code",
   "execution_count": 12,
   "id": "included-glucose",
   "metadata": {},
   "outputs": [
    {
     "name": "stdout",
     "output_type": "stream",
     "text": [
      "Our f1 score for threshold 0.0 is 0.22647574858644065\n",
      "Our f1 score for threshold 0.1 is 0.5218659686112015\n",
      "Our f1 score for threshold 0.2 is 0.5711856965616262\n",
      "Our f1 score for threshold 0.3 is 0.6179961493705737\n",
      "Our f1 score for threshold 0.4 is 0.6453769226657332\n",
      "Our f1 score for threshold 0.5 is 0.6366735871210853\n",
      "Our f1 score for threshold 0.6 is 0.5645503903360405\n",
      "Our f1 score for threshold 0.7 is 0.4200496406578969\n",
      "Our f1 score for threshold 0.8 is 0.23924797366928147\n",
      "Our f1 score for threshold 0.9 is 0.1675909071233767\n"
     ]
    }
   ],
   "source": [
    "evaluate_by_knn(df, embeddings.get())"
   ]
  },
  {
   "cell_type": "code",
   "execution_count": 31,
   "id": "given-defense",
   "metadata": {},
   "outputs": [
    {
     "name": "stdout",
     "output_type": "stream",
     "text": [
      "Our f1 score for threshold 0.0 is 0.1748018195626768\n",
      "Our f1 score for threshold 0.1 is 0.5546234806194882\n",
      "Our f1 score for threshold 0.2 is 0.610764417071245\n",
      "Our f1 score for threshold 0.3 is 0.6364847301378191\n",
      "Our f1 score for threshold 0.4 is 0.6188215230696176\n",
      "Our f1 score for threshold 0.5 is 0.5495850365348961\n",
      "Our f1 score for threshold 0.6 is 0.4279197346084608\n",
      "Our f1 score for threshold 0.7 is 0.28269289712171003\n",
      "Our f1 score for threshold 0.8 is 0.18201920554358691\n",
      "Our f1 score for threshold 0.9 is 0.165951774064816\n",
      "Our f1 score for threshold 0.0 is 0.17429207040444483\n",
      "Our f1 score for threshold 0.1 is 0.5852107090801242\n",
      "Our f1 score for threshold 0.2 is 0.6379684915971255\n",
      "Our f1 score for threshold 0.3 is 0.6424564199489113\n",
      "Our f1 score for threshold 0.4 is 0.606578511766547\n",
      "Our f1 score for threshold 0.5 is 0.5267126581609337\n",
      "Our f1 score for threshold 0.6 is 0.41040511578503797\n",
      "Our f1 score for threshold 0.7 is 0.27895245390284384\n",
      "Our f1 score for threshold 0.8 is 0.18490291879207454\n",
      "Our f1 score for threshold 0.9 is 0.16715112462515128\n",
      "Our f1 score for threshold 0.0 is 0.17031218722853175\n",
      "Our f1 score for threshold 0.1 is 0.6164939283410723\n",
      "Our f1 score for threshold 0.2 is 0.646942424393185\n",
      "Our f1 score for threshold 0.3 is 0.6308326202228984\n",
      "Our f1 score for threshold 0.4 is 0.579082234425071\n",
      "Our f1 score for threshold 0.5 is 0.49581189362802197\n",
      "Our f1 score for threshold 0.6 is 0.3886572382334506\n",
      "Our f1 score for threshold 0.7 is 0.27293962289798374\n",
      "Our f1 score for threshold 0.8 is 0.18733448227528607\n",
      "Our f1 score for threshold 0.9 is 0.16748794255266608\n"
     ]
    }
   ],
   "source": [
    "for n_aug in [2, 3, 4]:\n",
    "    emb = database_augment(reduced_embeddings.get(), n_aug)\n",
    "    evaluate_by_knn(df, emb)"
   ]
  },
  {
   "cell_type": "code",
   "execution_count": 19,
   "id": "interpreted-accreditation",
   "metadata": {},
   "outputs": [
    {
     "data": {
      "application/vnd.jupyter.widget-view+json": {
       "model_id": "8c36f18090e5419d8e8ebf34cfb56049",
       "version_major": 2,
       "version_minor": 0
      },
      "text/plain": [
       "  0%|          | 0/9 [00:00<?, ?it/s]"
      ]
     },
     "metadata": {},
     "output_type": "display_data"
    },
    {
     "name": "stdout",
     "output_type": "stream",
     "text": [
      "threshold=0.2: 0.19789823267595805\n"
     ]
    },
    {
     "data": {
      "application/vnd.jupyter.widget-view+json": {
       "model_id": "3050c09d1cfb400ba59d29911d4a0185",
       "version_major": 2,
       "version_minor": 0
      },
      "text/plain": [
       "  0%|          | 0/9 [00:00<?, ?it/s]"
      ]
     },
     "metadata": {},
     "output_type": "display_data"
    },
    {
     "name": "stdout",
     "output_type": "stream",
     "text": [
      "threshold=0.4: 0.5356746950309523\n"
     ]
    },
    {
     "data": {
      "application/vnd.jupyter.widget-view+json": {
       "model_id": "423d979f07c54f4ca998f4707d06b427",
       "version_major": 2,
       "version_minor": 0
      },
      "text/plain": [
       "  0%|          | 0/9 [00:00<?, ?it/s]"
      ]
     },
     "metadata": {},
     "output_type": "display_data"
    },
    {
     "name": "stdout",
     "output_type": "stream",
     "text": [
      "threshold=0.6: 0.5579984684456785\n"
     ]
    },
    {
     "data": {
      "application/vnd.jupyter.widget-view+json": {
       "model_id": "f076ec9f9840410e904654ef45b896c1",
       "version_major": 2,
       "version_minor": 0
      },
      "text/plain": [
       "  0%|          | 0/9 [00:00<?, ?it/s]"
      ]
     },
     "metadata": {},
     "output_type": "display_data"
    },
    {
     "name": "stdout",
     "output_type": "stream",
     "text": [
      "threshold=0.8: 0.31206072376184635\n"
     ]
    }
   ],
   "source": [
    "for thr in np.arange(0.2, 1, 0.2):\n",
    "    predictions = get_neighbors(df, reduced_embeddings, thr)\n",
    "    df['pred_matches'] = list(map(lambda x: ' '.join(x), predictions))\n",
    "    df['f1'] = f1_score(df['matches'], df['pred_matches'])\n",
    "    print(f\"threshold={np.round(thr, 3)}: {df['f1'].mean()}\")"
   ]
  },
  {
   "cell_type": "code",
   "execution_count": null,
   "id": "black-aging",
   "metadata": {},
   "outputs": [],
   "source": []
  }
 ],
 "metadata": {
  "kernelspec": {
   "display_name": "Python 3",
   "language": "python",
   "name": "python3"
  },
  "language_info": {
   "codemirror_mode": {
    "name": "ipython",
    "version": 3
   },
   "file_extension": ".py",
   "mimetype": "text/x-python",
   "name": "python",
   "nbconvert_exporter": "python",
   "pygments_lexer": "ipython3",
   "version": "3.7.10"
  }
 },
 "nbformat": 4,
 "nbformat_minor": 5
}
