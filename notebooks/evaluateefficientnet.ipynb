{
 "cells": [
  {
   "cell_type": "code",
   "execution_count": 1,
   "id": "naval-gnome",
   "metadata": {},
   "outputs": [],
   "source": [
    "import numpy as np\n",
    "import pandas as pd\n",
    "import gc\n",
    "import os\n",
    "import sys\n",
    "import yaml\n",
    "import re\n",
    "import random\n",
    "import math\n",
    "import matplotlib.pyplot as plt\n",
    "import warnings\n",
    "import pickle\n",
    "from tqdm.notebook import tqdm\n",
    "from typing import *\n",
    "from pathlib import Path\n",
    "from dataclasses import dataclass, field, asdict\n",
    "from shutil import copyfile\n",
    "from cuml.neighbors import NearestNeighbors\n",
    "warnings.simplefilter('ignore')"
   ]
  },
  {
   "cell_type": "code",
   "execution_count": 2,
   "id": "optical-asthma",
   "metadata": {},
   "outputs": [],
   "source": [
    "@dataclass\n",
    "class Config:\n",
    "    outdir: str = \"../results/efficientnet-tpu\"\n",
    "    device: str = \"cuda:1\"\n",
    "    device_id: int = 1\n",
    "\n",
    "    en_type: str = 'B3'\n",
    "    datadir: str = '../data/tfrecord-skf'\n",
    "    image_dir: str = '../data/shopee-product-matching/train_images'\n",
    "    seed: int = 42\n",
    "    n_splits: int = 3\n",
    "    tf_expt: int = -1\n",
    "    image_size: List[int] = field(default_factory=lambda: [512, 512])\n",
    "    \n",
    "    # Training config\n",
    "    batch_size: int = 20\n",
    "    epochs: int = 100\n",
    "    patience: int = 5\n",
    "    lr: float = 0.00001\n",
    "\n",
    "    def update(self, param_dict: Dict) -> \"Config\":\n",
    "        # Overwrite by `param_dict`\n",
    "        for key, value in param_dict.items():\n",
    "            if not hasattr(self, key):\n",
    "                raise ValueError(f\"[ERROR] Unexpected key for flag = {key}\")\n",
    "            setattr(self, key, value)\n",
    "        return self\n",
    "    \n",
    "    def to_yaml(self, filepath: str, width: int = 120):\n",
    "        with open(filepath, 'w') as f:\n",
    "            yaml.dump(asdict(self), f, width=width)"
   ]
  },
  {
   "cell_type": "code",
   "execution_count": 3,
   "id": "narrative-strip",
   "metadata": {},
   "outputs": [],
   "source": [
    "def seed_everything(seed):\n",
    "    random.seed(seed)\n",
    "    np.random.seed(seed)\n",
    "    os.environ['PYTHONHASHSEED'] = str(seed)\n",
    "    tf.random.set_seed(seed)"
   ]
  },
  {
   "cell_type": "code",
   "execution_count": 4,
   "id": "authorized-length",
   "metadata": {},
   "outputs": [],
   "source": [
    "config = Config()\n",
    "os.environ[\"CUDA_VISIBLE_DEVICES\"] = str(config.device_id)\n",
    "\n",
    "base_dir = Path().resolve()\n",
    "sys.path.append(os.path.abspath(base_dir / '../'))\n",
    "\n",
    "import tensorflow as tf\n",
    "import tensorflow_hub as hub\n",
    "import tensorflow_addons as tfa\n",
    "import efficientnet.tfkeras as efn\n",
    "\n",
    "# physical_devices = tf.config.list_physical_devices('GPU')\n",
    "# if len(physical_devices) > 0:\n",
    "#     for device in physical_devices:\n",
    "#         tf.config.experimental.set_memory_growth(device, True)\n",
    "#         print('{} memory growth: {}'.format(device, tf.config.experimental.get_memory_growth(device)))\n",
    "# else:\n",
    "#     print(\"Not enough GPU hardware devices available\")\n",
    "\n",
    "from src.tokenization import *\n",
    "from src.preprocess import *\n",
    "from src.image import *\n",
    "from src.model import *"
   ]
  },
  {
   "cell_type": "code",
   "execution_count": 5,
   "id": "alert-world",
   "metadata": {},
   "outputs": [],
   "source": [
    "# Data augmentation function\n",
    "def data_augment(image):\n",
    "    image = tf.image.random_flip_left_right(image)\n",
    "    image = tf.image.random_flip_up_down(image)\n",
    "    image = tf.image.random_hue(image, 0.01)\n",
    "    image = tf.image.random_saturation(image, 0.70, 1.30)\n",
    "    image = tf.image.random_contrast(image, 0.80, 1.20)\n",
    "    image = tf.image.random_brightness(image, 0.10)\n",
    "    return image"
   ]
  },
  {
   "cell_type": "code",
   "execution_count": 6,
   "id": "perfect-credits",
   "metadata": {},
   "outputs": [],
   "source": [
    "# Function to get our f1 score\n",
    "def f1_score(y_true, y_pred):\n",
    "    y_true = y_true.apply(lambda x: set(x.split()))\n",
    "    y_pred = y_pred.apply(lambda x: set(x.split()))\n",
    "    intersection = np.array([len(x[0] & x[1]) for x in zip(y_true, y_pred)])\n",
    "    len_y_pred = y_pred.apply(lambda x: len(x)).values\n",
    "    len_y_true = y_true.apply(lambda x: len(x)).values\n",
    "    f1 = 2 * intersection / (len_y_pred + len_y_true)\n",
    "    return f1"
   ]
  },
  {
   "cell_type": "code",
   "execution_count": 7,
   "id": "essential-gnome",
   "metadata": {},
   "outputs": [],
   "source": [
    "# Function to read our test image and return image\n",
    "def read_image(image, image_size):\n",
    "    image = tf.io.read_file(image)\n",
    "    image = decode_image(image, image_size)\n",
    "    return image\n",
    "\n",
    "\n",
    "# Function to get our dataset that read images\n",
    "def get_dataset(image, config, tta):\n",
    "    tta = 1 if tta <= 1 else tta\n",
    "    datasets = list()\n",
    "    for _ in range(tta):\n",
    "        dataset = tf.data.Dataset.from_tensor_slices(image)\n",
    "        dataset = dataset.map(lambda x: read_image(x, config.image_size), num_parallel_calls = config.tf_expt)\n",
    "        dataset = dataset.map(data_augment, num_parallel_calls = config.tf_expt)\n",
    "        dataset = dataset.batch(config.batch_size)\n",
    "        dataset = dataset.prefetch(config.tf_expt)\n",
    "        datasets += [dataset]\n",
    "    return datasets"
   ]
  },
  {
   "cell_type": "code",
   "execution_count": 8,
   "id": "antique-lafayette",
   "metadata": {},
   "outputs": [
    {
     "data": {
      "text/plain": [
       "11014"
      ]
     },
     "execution_count": 8,
     "metadata": {},
     "output_type": "execute_result"
    }
   ],
   "source": [
    "train = pd.read_csv(base_dir / config.datadir / 'train_folds.csv')\n",
    "n_classes = train['label_group'].nunique()\n",
    "n_classes"
   ]
  },
  {
   "cell_type": "code",
   "execution_count": 9,
   "id": "consolidated-suffering",
   "metadata": {},
   "outputs": [],
   "source": [
    "def get_embeddings(df: pd.DataFrame, fold: int, epoch: int, tta: int = -1):\n",
    "    image_paths = [str(base_dir / config.image_dir / filename) for filename in df['image']]\n",
    "    \n",
    "    model = build_efficientnet_model(\n",
    "        n_classes=n_classes,\n",
    "        image_size=config.image_size,\n",
    "        lr=config.lr,\n",
    "        en_type=config.en_type,\n",
    "        train=False\n",
    "    )\n",
    "    model.load_weights(str(base_dir / config.outdir / f'EfficientNetB3_seed{config.seed}_fold{fold}' / f\"epoch{format(epoch, '02')}.h5\"))\n",
    "    model = tf.keras.models.Model(inputs=model.input[0:3], outputs=model.layers[-4].output)\n",
    "    \n",
    "    chunk = 500\n",
    "    iterator = np.arange(np.ceil(len(df) / chunk))\n",
    "\n",
    "    embeds = []\n",
    "    for j in tqdm(iterator):\n",
    "        a = int(j * chunk)\n",
    "        b = int((j + 1) * chunk)\n",
    "\n",
    "        image_datasets = get_dataset(image_paths[a:b], config, tta=tta)\n",
    "        embeddings = np.hstack([model.predict(image_dataset) for image_dataset in image_datasets]).reshape(len(image_paths[a:b]), tta, -1)\n",
    "        embeds.append(embeddings)\n",
    "    \n",
    "    del model\n",
    "    gc.collect()\n",
    "    tf.keras.backend.clear_session()\n",
    "    return np.concatenate(embeds)"
   ]
  },
  {
   "cell_type": "code",
   "execution_count": 10,
   "id": "maritime-garlic",
   "metadata": {},
   "outputs": [],
   "source": [
    "def get_valid_df(fold: int):\n",
    "    valid_folds = [i for i in range(train.fold.unique().shape[0]) if (i % config.n_splits) == fold]\n",
    "    print(f'folds : {valid_folds}')\n",
    "    \n",
    "    valid_df = train.query(f'fold in {valid_folds}').copy()\n",
    "    return valid_df"
   ]
  },
  {
   "cell_type": "code",
   "execution_count": 11,
   "id": "particular-infection",
   "metadata": {
    "tags": []
   },
   "outputs": [],
   "source": [
    "# VALID = False\n",
    "# EPOCH = 20\n",
    "# TTA = 10\n",
    "\n",
    "# embeddings_list = list()\n",
    "# for i in range(config.n_splits):\n",
    "#     if VALID:\n",
    "#         embeddings = get_embeddings(df=train, fold=i, epoch=EPOCH, tta=TTA)\n",
    "#         pickle.dump(\n",
    "#             embeddings,\n",
    "#             open(str(base_dir / config.outdir / f'EfficientNetB3_seed{config.seed}_fold{i}' / f'embeddings_epoch{EPOCH}_tta{TTA}.pkl'), 'wb')\n",
    "#         )\n",
    "#         embeddings_list += [embeddings]\n",
    "#     else:\n",
    "#         embeddings = pickle.load(open(str(base_dir / config.outdir / f'EfficientNetB3_seed{config.seed}_fold{i}' / f'embeddings_epoch{EPOCH}_tta{TTA}.pkl'), 'rb'))\n",
    "#         embeddings_list += [embeddings]"
   ]
  },
  {
   "cell_type": "code",
   "execution_count": 12,
   "id": "upper-robinson",
   "metadata": {},
   "outputs": [],
   "source": [
    "EPOCH = 20\n",
    "TTA = 10\n",
    "\n",
    "embeddings_list, embeddings_tta_list = list(), list()\n",
    "for i in range(config.n_splits):\n",
    "    embeddings_list += [pickle.load(open(str(base_dir / config.outdir / f'EfficientNetB3_seed{config.seed}_fold{i}' / f'embeddings_epoch{EPOCH}.pkl'), 'rb'))]\n",
    "    embeddings_tta_list += [pickle.load(open(str(base_dir / config.outdir / f'EfficientNetB3_seed{config.seed}_fold{i}' / f'embeddings_epoch{EPOCH}_tta{TTA}.pkl'), 'rb'))]"
   ]
  },
  {
   "cell_type": "code",
   "execution_count": 15,
   "id": "universal-politics",
   "metadata": {},
   "outputs": [
    {
     "data": {
      "text/plain": [
       "dtype('float32')"
      ]
     },
     "execution_count": 15,
     "metadata": {},
     "output_type": "execute_result"
    }
   ],
   "source": [
    "embeddings_tta_list[0]"
   ]
  },
  {
   "cell_type": "code",
   "execution_count": 38,
   "id": "careful-imperial",
   "metadata": {},
   "outputs": [
    {
     "name": "stdout",
     "output_type": "stream",
     "text": [
      "folds : [0, 3, 6, 9, 12]\n"
     ]
    },
    {
     "data": {
      "application/vnd.jupyter.widget-view+json": {
       "model_id": "f2e8d387675e4fc5bbb84375cb646179",
       "version_major": 2,
       "version_minor": 0
      },
      "text/plain": [
       "  0%|          | 0/2 [00:00<?, ?it/s]"
      ]
     },
     "metadata": {},
     "output_type": "display_data"
    },
    {
     "data": {
      "application/vnd.jupyter.widget-view+json": {
       "model_id": "c3525196f47a4031a9a21c11d8ec71ba",
       "version_major": 2,
       "version_minor": 0
      },
      "text/plain": [
       "  0%|          | 0/11417 [00:00<?, ?it/s]"
      ]
     },
     "metadata": {},
     "output_type": "display_data"
    }
   ],
   "source": [
    "KNN = 5\n",
    "TTA = 2\n",
    "\n",
    "fold = 0\n",
    "embeddings = embeddings_list[fold]\n",
    "embeddings_tta = embeddings_tta_list[fold]\n",
    "\n",
    "knn_model = NearestNeighbors(n_neighbors=50)\n",
    "knn_model.fit(embeddings)\n",
    "\n",
    "valid_df = get_valid_df(fold=fold)\n",
    "valid_embeddings_tta = embeddings_tta[valid_df.index, :, :]\n",
    "\n",
    "distances_list, indices_list = list(), list()\n",
    "for i in tqdm(range(TTA)):\n",
    "    distances_i, indices_i = knn_model.kneighbors(valid_embeddings_tta[:, i, :])\n",
    "    distances_list += [distances_i]\n",
    "    indices_list += [indices_i]\n",
    "\n",
    "\n",
    "distances = np.hstack(distances_list)\n",
    "indices = np.hstack(indices_list)\n",
    "\n",
    "distances = np.sort(distances)\n",
    "indices = np.array([indices[i][distances[i].argsort()] for i in tqdm(range(distances.shape[0]))])"
   ]
  },
  {
   "cell_type": "code",
   "execution_count": 49,
   "id": "noticed-cosmetic",
   "metadata": {},
   "outputs": [
    {
     "data": {
      "application/vnd.jupyter.widget-view+json": {
       "model_id": "afe80ad4275946349ea127ee9424537f",
       "version_major": 2,
       "version_minor": 0
      },
      "text/plain": [
       "  0%|          | 0/11417 [00:00<?, ?it/s]"
      ]
     },
     "metadata": {},
     "output_type": "display_data"
    }
   ],
   "source": [
    "mer_distances, mer_indices = list(), list()\n",
    "\n",
    "for i in tqdm(range(distances.shape[0])):\n",
    "    tmp = pd.DataFrame({'dis': distances[i, :], 'idx': indices[i, :]}).groupby('idx').mean().reset_index().sort_values('dis')\n",
    "    mer_distances += [tmp.dis.values]\n",
    "    mer_indices += [tmp['idx'].values]"
   ]
  },
  {
   "cell_type": "code",
   "execution_count": 56,
   "id": "valid-timothy",
   "metadata": {},
   "outputs": [
    {
     "name": "stdout",
     "output_type": "stream",
     "text": [
      "Our f1 score for threshold 2.0 is 0.0007794635666351642\n",
      "Our f1 score for threshold 2.2 is 0.001750729771996512\n",
      "Our f1 score for threshold 2.4 is 0.011542400339935536\n",
      "Our f1 score for threshold 2.6 is 0.08350267216921416\n",
      "Our f1 score for threshold 2.8 is 0.23273667918838875\n",
      "Our f1 score for threshold 3.0 is 0.4260773044779336\n",
      "Our f1 score for threshold 3.2 is 0.5552066232255392\n",
      "Our f1 score for threshold 3.4 is 0.6092502643739117\n",
      "Our f1 score for threshold 3.6 is 0.6288155844526003\n",
      "Our f1 score for threshold 3.8 is 0.6354125811413063\n",
      "Our f1 score for threshold 4.0 is 0.6345188459493032\n",
      "Our f1 score for threshold 4.2 is 0.6291263861775669\n",
      "Our f1 score for threshold 4.4 is 0.6117749022733139\n",
      "Our f1 score for threshold 4.6 is 0.5677283790641292\n",
      "Our f1 score for threshold 4.8 is 0.4825898972503611\n",
      "Our f1 score for threshold 5.0 is 0.3820916597491627\n",
      "Our f1 score for threshold 5.2 is 0.2969306507464142\n",
      "Our f1 score for threshold 5.4 is 0.2395800378831592\n",
      "Our f1 score for threshold 5.6 is 0.20479672099451254\n",
      "Our f1 score for threshold 5.8 is 0.18408365108082364\n",
      "Our best score is 0.6354125811413063 and has a threshold 3.8000000000000016\n"
     ]
    }
   ],
   "source": [
    "# grid search\n",
    "thresholds = list(np.arange(2, 6, 0.2))\n",
    "\n",
    "scores = []\n",
    "for threshold in thresholds:\n",
    "    predictions = []\n",
    "    for k in range(valid_embeddings_tta.shape[0]):\n",
    "        idx = np.where(mer_distances[k] < threshold)[0]\n",
    "        ids = mer_indices[k][idx]\n",
    "        posting_ids = ' '.join(train['posting_id'].iloc[ids].values)\n",
    "        predictions.append(posting_ids)\n",
    "    valid_df['pred_matches'] = predictions\n",
    "    valid_df['f1'] = f1_score(valid_df['matches'], valid_df['pred_matches'])\n",
    "    score = valid_df['f1'].mean()\n",
    "    print(f'Our f1 score for threshold {np.round(threshold, 2)} is {score}')\n",
    "    scores.append(score)\n",
    "thresholds_scores = pd.DataFrame({'thresholds': thresholds, 'scores': scores})\n",
    "\n",
    "max_score = thresholds_scores[thresholds_scores['scores'] == thresholds_scores['scores'].max()]\n",
    "best_threshold = max_score['thresholds'].values[0]\n",
    "best_score = max_score['scores'].values[0]\n",
    "print(f'Our best score is {best_score} and has a threshold {best_threshold}')"
   ]
  },
  {
   "cell_type": "code",
   "execution_count": 12,
   "id": "positive-radiation",
   "metadata": {},
   "outputs": [],
   "source": [
    "def search_thresholds(df: pd.DataFrame, embeddings: np.ndarray, embeddings_tta: np.ndarray \n",
    "                      fold: int, knn: int = 50, thr_start: int = 3, thr_end: int = 5, thr_interval: float = 0.1):\n",
    "    # KNN\n",
    "    knn_model = NearestNeighbors(n_neighbors=knn)\n",
    "    knn_model.fit(embeddings)\n",
    "    \n",
    "    valid_df = get_valid_df(fold=fold)\n",
    "    valid_embeddings = embeddings[valid_df.index, :]\n",
    "    distances, indices = knn_model.kneighbors(valid_embeddings)\n",
    "    \n",
    "    # grid search\n",
    "    thresholds = list(np.arange(thr_start, thr_end, thr_interval))\n",
    "    scores = []\n",
    "    for threshold in thresholds:\n",
    "        predictions = []\n",
    "        for k in range(valid_embeddings.shape[0]):\n",
    "            idx = np.where(distances[k, ] < threshold)[0]\n",
    "            ids = indices[k, idx]\n",
    "            posting_ids = ' '.join(df['posting_id'].iloc[ids].values)\n",
    "            predictions.append(posting_ids)\n",
    "        valid_df['pred_matches'] = predictions\n",
    "        valid_df['f1'] = f1_score(valid_df['matches'], valid_df['pred_matches'])\n",
    "        score = valid_df['f1'].mean()\n",
    "        print(f'Our f1 score for threshold {np.round(threshold, 2)} is {score}')\n",
    "        scores.append(score)\n",
    "    thresholds_scores = pd.DataFrame({'thresholds': thresholds, 'scores': scores})\n",
    "    \n",
    "    max_score = thresholds_scores[thresholds_scores['scores'] == thresholds_scores['scores'].max()]\n",
    "    best_threshold = max_score['thresholds'].values[0]\n",
    "    best_score = max_score['scores'].values[0]\n",
    "    print(f'Our best score is {best_score} and has a threshold {best_threshold}')\n",
    "    \n",
    "    return best_score, best_threshold"
   ]
  },
  {
   "cell_type": "code",
   "execution_count": 16,
   "id": "banner-ocean",
   "metadata": {},
   "outputs": [
    {
     "name": "stdout",
     "output_type": "stream",
     "text": [
      "fold : 0\n",
      "folds : [0, 3, 6, 9, 12]\n",
      "Our f1 score for threshold 2.0 is 0.6263220210143895\n",
      "Our f1 score for threshold 2.2 is 0.6374473049715502\n",
      "Our f1 score for threshold 2.4 is 0.6483613730274261\n",
      "Our f1 score for threshold 2.6 is 0.6594369655121753\n",
      "Our f1 score for threshold 2.8 is 0.6713375593604644\n",
      "Our f1 score for threshold 3.0 is 0.6847542017919428\n",
      "Our f1 score for threshold 3.2 is 0.6989212576717448\n",
      "Our f1 score for threshold 3.4 is 0.7123839615424342\n",
      "Our f1 score for threshold 3.6 is 0.7282710082277851\n",
      "Our f1 score for threshold 3.8 is 0.744467691865512\n",
      "Our f1 score for threshold 4.0 is 0.7578980366118708\n",
      "Our f1 score for threshold 4.2 is 0.7644786951238354\n",
      "Our f1 score for threshold 4.4 is 0.751979861925161\n",
      "Our f1 score for threshold 4.6 is 0.699357193683543\n",
      "Our f1 score for threshold 4.8 is 0.5926898630343136\n",
      "Our f1 score for threshold 5.0 is 0.4686119310284381\n",
      "Our f1 score for threshold 5.2 is 0.3635541924929015\n",
      "Our f1 score for threshold 5.4 is 0.2915008597417619\n",
      "Our f1 score for threshold 5.6 is 0.24390463091080744\n",
      "Our f1 score for threshold 5.8 is 0.21506752579320068\n",
      "Our best score is 0.7644786951238354 and has a threshold 4.200000000000002\n",
      "fold : 1\n",
      "folds : [1, 4, 7, 10, 13]\n",
      "Our f1 score for threshold 2.0 is 0.6258823086957991\n",
      "Our f1 score for threshold 2.2 is 0.6353059635969815\n",
      "Our f1 score for threshold 2.4 is 0.6464452721058306\n",
      "Our f1 score for threshold 2.6 is 0.6574687690312371\n",
      "Our f1 score for threshold 2.8 is 0.6698422531703386\n",
      "Our f1 score for threshold 3.0 is 0.6829661392944459\n",
      "Our f1 score for threshold 3.2 is 0.6971424937905555\n",
      "Our f1 score for threshold 3.4 is 0.7114768918838869\n",
      "Our f1 score for threshold 3.6 is 0.7267068455966803\n",
      "Our f1 score for threshold 3.8 is 0.7419082587255172\n",
      "Our f1 score for threshold 4.0 is 0.7561488337318554\n",
      "Our f1 score for threshold 4.2 is 0.7612007052405458\n",
      "Our f1 score for threshold 4.4 is 0.7482697295717184\n",
      "Our f1 score for threshold 4.6 is 0.6936175969983241\n",
      "Our f1 score for threshold 4.8 is 0.5865670877108161\n",
      "Our f1 score for threshold 5.0 is 0.462999266077828\n",
      "Our f1 score for threshold 5.2 is 0.35906631942921025\n",
      "Our f1 score for threshold 5.4 is 0.2870476884959995\n",
      "Our f1 score for threshold 5.6 is 0.24235964862492815\n",
      "Our f1 score for threshold 5.8 is 0.2135354317635387\n",
      "Our best score is 0.7612007052405458 and has a threshold 4.200000000000002\n",
      "fold : 2\n",
      "folds : [2, 5, 8, 11, 14]\n",
      "Our f1 score for threshold 2.0 is 0.6254447288222246\n",
      "Our f1 score for threshold 2.2 is 0.636503414993067\n",
      "Our f1 score for threshold 2.4 is 0.6476982935494497\n",
      "Our f1 score for threshold 2.6 is 0.6583448623748448\n",
      "Our f1 score for threshold 2.8 is 0.6711077285591134\n",
      "Our f1 score for threshold 3.0 is 0.6838786910480056\n",
      "Our f1 score for threshold 3.2 is 0.6978110970155165\n",
      "Our f1 score for threshold 3.4 is 0.7135312060131074\n",
      "Our f1 score for threshold 3.6 is 0.7285474831173232\n",
      "Our f1 score for threshold 3.8 is 0.7429100748719947\n",
      "Our f1 score for threshold 4.0 is 0.7576657939848672\n",
      "Our f1 score for threshold 4.2 is 0.7631508191042793\n",
      "Our f1 score for threshold 4.4 is 0.7471941933348565\n",
      "Our f1 score for threshold 4.6 is 0.6858857871323708\n",
      "Our f1 score for threshold 4.8 is 0.5762334107419386\n",
      "Our f1 score for threshold 5.0 is 0.45401643454165014\n",
      "Our f1 score for threshold 5.2 is 0.35342450630392813\n",
      "Our f1 score for threshold 5.4 is 0.28247862304622057\n",
      "Our f1 score for threshold 5.6 is 0.23700066823917945\n",
      "Our f1 score for threshold 5.8 is 0.2107224909975651\n",
      "Our best score is 0.7631508191042793 and has a threshold 4.200000000000002\n"
     ]
    }
   ],
   "source": [
    "for i in range(config.n_splits):\n",
    "    print(f'fold : {i}')\n",
    "    search_thresholds(train, embeddings_list[i], i, 50, 2, 6, 0.2)"
   ]
  },
  {
   "cell_type": "code",
   "execution_count": 60,
   "id": "agricultural-jonathan",
   "metadata": {},
   "outputs": [
    {
     "data": {
      "image/png": "[encoded data removed]",
      "text/plain": [
       "<Figure size 576x432 with 1 Axes>"
      ]
     },
     "metadata": {
      "needs_background": "light"
     },
     "output_type": "display_data"
    }
   ],
   "source": [
    "fig, ax = plt.subplots(1, 1, figsize=(8, 6))\n",
    "for i in range(config.n_splits):\n",
    "    history = pickle.load(open(str(base_dir / config.outdir / f'EfficientNetB3_seed{config.seed}_fold{i}' / 'history.pkl'), 'rb'))\n",
    "    y = history['val_sparse_categorical_accuracy']\n",
    "    ax.plot(y, label=f'fold={i}')\n",
    "ax.legend()\n",
    "plt.show()"
   ]
  }
 ],
 "metadata": {
  "kernelspec": {
   "display_name": "Python 3",
   "language": "python",
   "name": "python3"
  },
  "language_info": {
   "codemirror_mode": {
    "name": "ipython",
    "version": 3
   },
   "file_extension": ".py",
   "mimetype": "text/x-python",
   "name": "python",
   "nbconvert_exporter": "python",
   "pygments_lexer": "ipython3",
   "version": "3.7.10"
  }
 },
 "nbformat": 4,
 "nbformat_minor": 5
}
