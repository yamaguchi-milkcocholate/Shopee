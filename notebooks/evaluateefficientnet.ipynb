{
 "cells": [
  {
   "cell_type": "code",
   "execution_count": 1,
   "id": "french-rabbit",
   "metadata": {},
   "outputs": [],
   "source": [
    "import numpy as np\n",
    "import pandas as pd\n",
    "import gc\n",
    "import os\n",
    "import sys\n",
    "import yaml\n",
    "import re\n",
    "import random\n",
    "import math\n",
    "import matplotlib.pyplot as plt\n",
    "import warnings\n",
    "import pickle\n",
    "from tqdm.notebook import tqdm\n",
    "from typing import *\n",
    "from pathlib import Path\n",
    "from dataclasses import dataclass, field, asdict\n",
    "from shutil import copyfile\n",
    "from cuml.neighbors import NearestNeighbors\n",
    "warnings.simplefilter('ignore')"
   ]
  },
  {
   "cell_type": "code",
   "execution_count": 2,
   "id": "appointed-suspension",
   "metadata": {},
   "outputs": [],
   "source": [
    "@dataclass\n",
    "class Config:\n",
    "    outdir: str = \"../results/efficientnet-tpu\"\n",
    "    device: str = \"cuda:1\"\n",
    "    device_id: int = 1\n",
    "\n",
    "    datadir: str = '../data/tfrecord-skf'\n",
    "    image_dir: str = '../data/shopee-product-matching/train_images'\n",
    "    seed: int = 42\n",
    "    n_splits: int = 3\n",
    "    tf_expt: int = -1\n",
    "    image_size: List[int] = field(default_factory=lambda: [512, 512])\n",
    "    \n",
    "    # Training config\n",
    "    batch_size: int = 20\n",
    "    epochs: int = 100\n",
    "    patience: int = 5\n",
    "    lr: float = 0.00001\n",
    "\n",
    "    def update(self, param_dict: Dict) -> \"Config\":\n",
    "        # Overwrite by `param_dict`\n",
    "        for key, value in param_dict.items():\n",
    "            if not hasattr(self, key):\n",
    "                raise ValueError(f\"[ERROR] Unexpected key for flag = {key}\")\n",
    "            setattr(self, key, value)\n",
    "        return self\n",
    "    \n",
    "    def to_yaml(self, filepath: str, width: int = 120):\n",
    "        with open(filepath, 'w') as f:\n",
    "            yaml.dump(asdict(self), f, width=width)"
   ]
  },
  {
   "cell_type": "code",
   "execution_count": 3,
   "id": "worst-retreat",
   "metadata": {},
   "outputs": [],
   "source": [
    "def seed_everything(seed):\n",
    "    random.seed(seed)\n",
    "    np.random.seed(seed)\n",
    "    os.environ['PYTHONHASHSEED'] = str(seed)\n",
    "    tf.random.set_seed(seed)"
   ]
  },
  {
   "cell_type": "code",
   "execution_count": 4,
   "id": "sporting-delight",
   "metadata": {},
   "outputs": [],
   "source": [
    "config = Config()\n",
    "os.environ[\"CUDA_VISIBLE_DEVICES\"] = str(config.device_id)\n",
    "\n",
    "base_dir = Path().resolve()\n",
    "sys.path.append(os.path.abspath(base_dir / '../'))\n",
    "\n",
    "import tensorflow as tf\n",
    "import tensorflow_hub as hub\n",
    "import tensorflow_addons as tfa\n",
    "import efficientnet.tfkeras as efn\n",
    "\n",
    "from src.tokenization import *\n",
    "from src.preprocess import *\n",
    "from src.image import *\n",
    "from src.model import *"
   ]
  },
  {
   "cell_type": "code",
   "execution_count": 5,
   "id": "constitutional-wesley",
   "metadata": {},
   "outputs": [],
   "source": [
    "# Function to get our f1 score\n",
    "def f1_score(y_true, y_pred):\n",
    "    y_true = y_true.apply(lambda x: set(x.split()))\n",
    "    y_pred = y_pred.apply(lambda x: set(x.split()))\n",
    "    intersection = np.array([len(x[0] & x[1]) for x in zip(y_true, y_pred)])\n",
    "    len_y_pred = y_pred.apply(lambda x: len(x)).values\n",
    "    len_y_true = y_true.apply(lambda x: len(x)).values\n",
    "    f1 = 2 * intersection / (len_y_pred + len_y_true)\n",
    "    return f1\n",
    "\n",
    "\n",
    "def precision_score(y_true, y_pred):\n",
    "    y_true = y_true.apply(lambda x: set(x.split()))\n",
    "    y_pred = y_pred.apply(lambda x: set(x.split()))\n",
    "    intersection = np.array([len(x[0] & x[1]) for x in zip(y_true, y_pred)])\n",
    "    len_y_pred = y_pred.apply(lambda x: len(x)).values\n",
    "    return intersection / len_y_pred\n",
    "\n",
    "\n",
    "def recall_score(y_true, y_pred):\n",
    "    y_true = y_true.apply(lambda x: set(x.split()))\n",
    "    y_pred = y_pred.apply(lambda x: set(x.split()))\n",
    "    intersection = np.array([len(x[0] & x[1]) for x in zip(y_true, y_pred)])\n",
    "    len_y_true = y_true.apply(lambda x: len(x)).values\n",
    "    return intersection / len_y_true"
   ]
  },
  {
   "cell_type": "code",
   "execution_count": 6,
   "id": "placed-finnish",
   "metadata": {},
   "outputs": [],
   "source": [
    "# Function to read our test image and return image\n",
    "def read_image(image, image_size):\n",
    "    image = tf.io.read_file(image)\n",
    "    image = decode_image(image, image_size)\n",
    "    return image\n",
    "\n",
    "\n",
    "# Function to get our dataset that read images\n",
    "def get_dataset(image, config):\n",
    "    dataset = tf.data.Dataset.from_tensor_slices(image)\n",
    "    dataset = dataset.map(lambda x: read_image(x, config.image_size), num_parallel_calls = config.tf_expt)\n",
    "    dataset = dataset.batch(config.batch_size)\n",
    "    dataset = dataset.prefetch(config.tf_expt)\n",
    "    return dataset"
   ]
  },
  {
   "cell_type": "code",
   "execution_count": 7,
   "id": "varied-submission",
   "metadata": {},
   "outputs": [
    {
     "data": {
      "text/plain": [
       "11014"
      ]
     },
     "execution_count": 7,
     "metadata": {},
     "output_type": "execute_result"
    }
   ],
   "source": [
    "train = pd.read_csv(base_dir / config.datadir / 'train_folds.csv')\n",
    "n_classes = train['label_group'].nunique()\n",
    "n_classes"
   ]
  },
  {
   "cell_type": "code",
   "execution_count": 8,
   "id": "continued-planning",
   "metadata": {},
   "outputs": [],
   "source": [
    "def get_embeddings(df: pd.DataFrame, weight_path: Path, en_type: str):\n",
    "    image_paths = [str(base_dir / config.image_dir / filename) for filename in df['image']]\n",
    "    \n",
    "    if en_type is None:\n",
    "        model = build_resnext_model(\n",
    "            n_classes=n_classes,\n",
    "            image_size=config.image_size,\n",
    "            lr=config.lr,\n",
    "            train=False\n",
    "        )\n",
    "    else:\n",
    "        model = build_efficientnet_model(\n",
    "            n_classes=n_classes,\n",
    "            image_size=config.image_size,\n",
    "            lr=config.lr,\n",
    "            en_type=en_type,\n",
    "            train=False\n",
    "        )\n",
    "        \n",
    "    model.load_weights(str(weight_path))\n",
    "    model1 = tf.keras.models.Model(inputs=model.input[0:3], outputs=model.layers[-4].output)\n",
    "#     arc_W = model.layers[-2].W\n",
    "#     get_cosine = lambda X: tf.matmul(tf.math.l2_normalize(X, axis=1), tf.math.l2_normalize(arc_W, axis=0)).numpy()\n",
    "    \n",
    "    del model\n",
    "    gc.collect()\n",
    "    \n",
    "    chunk = 500\n",
    "    iterator = np.arange(np.ceil(len(df) / chunk))\n",
    "\n",
    "    embeds = []\n",
    "    cosines = []\n",
    "    for j in tqdm(iterator):\n",
    "        a = int(j * chunk)\n",
    "        b = int((j + 1) * chunk)\n",
    "\n",
    "        image_dataset = get_dataset(image_paths[a:b], config)\n",
    "        embeddings = model1.predict(image_dataset)\n",
    "#         cosine = get_cosine(embeddings)\n",
    "        \n",
    "        embeds.append(embeddings)\n",
    "#         cosines.append(cosine)\n",
    "    \n",
    "    del model1\n",
    "    gc.collect()\n",
    "    tf.keras.backend.clear_session()\n",
    "    return np.concatenate(embeds), []"
   ]
  },
  {
   "cell_type": "code",
   "execution_count": 9,
   "id": "broad-booking",
   "metadata": {},
   "outputs": [],
   "source": [
    "def get_valid_df(fold: int):\n",
    "    valid_folds = [i for i in range(train.fold.unique().shape[0]) if (i % config.n_splits) == fold]\n",
    "    print(f'folds : {valid_folds}')\n",
    "    \n",
    "    valid_df = train.query(f'fold in {valid_folds}').copy()\n",
    "    return valid_df"
   ]
  },
  {
   "cell_type": "code",
   "execution_count": 10,
   "id": "thousand-suspect",
   "metadata": {},
   "outputs": [],
   "source": [
    "def get_embeddings_list(epoch: int, en_type: str):\n",
    "    epoch = format(epoch, '02') + '_'\n",
    "    embeddings_list = list()\n",
    "    cosines_list = list()\n",
    "    for i in range(config.n_splits):\n",
    "        if en_type is None:\n",
    "            outdir = base_dir / config.outdir / f'resnext50_seed{config.seed}_fold{i}'\n",
    "        else:\n",
    "            outdir = base_dir / config.outdir / f'EfficientNet{en_type}_seed{config.seed}_fold{i}'\n",
    "        weight_path = outdir / f'epoch{epoch}.h5'\n",
    "        emb_outpath = outdir / f'embeddings_epoch{epoch}.pkl'\n",
    "        cosine_outpath = outdir / f'cosine_epoch{epoch}.pkl'\n",
    "\n",
    "        if os.path.exists(emb_outpath) and os.path.exists(cosine_outpath):\n",
    "            print('get embeddings and cosines from the cashe')\n",
    "            embeddings = pickle.load(open(str(emb_outpath), 'rb'))\n",
    "            cosines = pickle.load(open(str(cosine_outpath), 'rb'))\n",
    "        else:\n",
    "            embeddings, cosines = get_embeddings(\n",
    "                df=train,\n",
    "                weight_path=weight_path,\n",
    "                en_type=en_type\n",
    "            )\n",
    "            pickle.dump(\n",
    "                embeddings,\n",
    "                open(str(emb_outpath), 'wb')\n",
    "            )\n",
    "            pickle.dump(\n",
    "                cosines,\n",
    "                open(str(cosine_outpath), 'wb')\n",
    "            )\n",
    "        embeddings_list += [embeddings]\n",
    "        cosines_list += [cosines]\n",
    "                \n",
    "    return embeddings_list, cosines_list"
   ]
  },
  {
   "cell_type": "code",
   "execution_count": 11,
   "id": "disciplinary-parks",
   "metadata": {},
   "outputs": [],
   "source": [
    "def get_matches(df: pd.DataFrame, distance: np.ndarray, indice: np.ndarray, thr: float) -> List[str]:\n",
    "        idx = np.where(distance < thr)[0]\n",
    "        ids = indice[idx]\n",
    "        return df['posting_id'].iloc[ids].values.tolist()\n",
    "    \n",
    "    \n",
    "def search_thresholds(df: pd.DataFrame, embeddings: np.ndarray, fold: int, knn: int = 50, metric: str = 'euclidean',\n",
    "                      thr_start: int = 3, thr_end: int = 5, thr_interval: float = 0.1, same_cls: bool = True):\n",
    "    # KNN\n",
    "    knn_model = NearestNeighbors(n_neighbors=knn, metric=metric)\n",
    "    knn_model.fit(embeddings)\n",
    "\n",
    "    valid_df = get_valid_df(fold=fold)\n",
    "    valid_embeddings = embeddings[valid_df.index, :]\n",
    "    distances, indices = knn_model.kneighbors(valid_embeddings)\n",
    "\n",
    "    # grid search\n",
    "    thresholds = list(np.arange(thr_start, thr_end, thr_interval))\n",
    "    scores = []\n",
    "    for threshold in thresholds:\n",
    "        predictions = []\n",
    "        for k in range(valid_embeddings.shape[0]):\n",
    "\n",
    "            matches = get_matches(df=df, distance=distances[k, ], indice=indices[k, ], thr=threshold)\n",
    "            posting_ids = ' '.join(matches)\n",
    "            predictions.append(posting_ids)\n",
    "        valid_df['pred_matches'] = predictions\n",
    "        valid_df['f1'] = f1_score(valid_df['matches'], valid_df['pred_matches'])\n",
    "        score = valid_df['f1'].mean()\n",
    "        print(f'Our f1 score for threshold {np.round(threshold, 2)} is {score}')\n",
    "        scores.append(score)\n",
    "    thresholds_scores = pd.DataFrame({'thresholds': thresholds, 'scores': scores})\n",
    "\n",
    "    max_score = thresholds_scores[thresholds_scores['scores'] == thresholds_scores['scores'].max()]\n",
    "    best_threshold = max_score['thresholds'].values[0]\n",
    "    best_score = max_score['scores'].values[0]\n",
    "    print(f'Our best score is {best_score} and has a threshold {best_threshold}')\n",
    "    \n",
    "    return best_score, best_threshold"
   ]
  },
  {
   "cell_type": "code",
   "execution_count": 12,
   "id": "invalid-harassment",
   "metadata": {
    "collapsed": true,
    "jupyter": {
     "outputs_hidden": true
    },
    "tags": []
   },
   "outputs": [
    {
     "data": {
      "application/vnd.jupyter.widget-view+json": {
       "model_id": "8fd514266fe74e02b3150a6cd147a259",
       "version_major": 2,
       "version_minor": 0
      },
      "text/plain": [
       "  0%|          | 0/69 [00:00<?, ?it/s]"
      ]
     },
     "metadata": {},
     "output_type": "display_data"
    },
    {
     "ename": "OSError",
     "evalue": "Unable to open file (unable to open file: name = '/home/yamaguchi-milkcocholate/Shopee/notebooks/../results/efficientnet-tpu/resnext50_seed42_fold1/epoch20_.h5', errno = 2, error message = 'No such file or directory', flags = 0, o_flags = 0)",
     "output_type": "error",
     "traceback": [
      "\u001b[0;31m---------------------------------------------------------------------------\u001b[0m",
      "\u001b[0;31mOSError\u001b[0m                                   Traceback (most recent call last)",
      "\u001b[0;32m<ipython-input-12-5a282e44c500>\u001b[0m in \u001b[0;36m<module>\u001b[0;34m\u001b[0m\n\u001b[1;32m      1\u001b[0m \u001b[0;31m# for RexNext\u001b[0m\u001b[0;34m\u001b[0m\u001b[0;34m\u001b[0m\u001b[0;34m\u001b[0m\u001b[0m\n\u001b[0;32m----> 2\u001b[0;31m \u001b[0mget_embeddings_list\u001b[0m\u001b[0;34m(\u001b[0m\u001b[0mepoch\u001b[0m\u001b[0;34m=\u001b[0m\u001b[0;36m20\u001b[0m\u001b[0;34m,\u001b[0m \u001b[0men_type\u001b[0m\u001b[0;34m=\u001b[0m\u001b[0;32mNone\u001b[0m\u001b[0;34m)\u001b[0m\u001b[0;34m\u001b[0m\u001b[0;34m\u001b[0m\u001b[0m\n\u001b[0m",
      "\u001b[0;32m<ipython-input-10-bba684e697dc>\u001b[0m in \u001b[0;36mget_embeddings_list\u001b[0;34m(epoch, en_type)\u001b[0m\n\u001b[1;32m     20\u001b[0m                 \u001b[0mdf\u001b[0m\u001b[0;34m=\u001b[0m\u001b[0mtrain\u001b[0m\u001b[0;34m,\u001b[0m\u001b[0;34m\u001b[0m\u001b[0;34m\u001b[0m\u001b[0m\n\u001b[1;32m     21\u001b[0m                 \u001b[0mweight_path\u001b[0m\u001b[0;34m=\u001b[0m\u001b[0mweight_path\u001b[0m\u001b[0;34m,\u001b[0m\u001b[0;34m\u001b[0m\u001b[0;34m\u001b[0m\u001b[0m\n\u001b[0;32m---> 22\u001b[0;31m                 \u001b[0men_type\u001b[0m\u001b[0;34m=\u001b[0m\u001b[0men_type\u001b[0m\u001b[0;34m\u001b[0m\u001b[0;34m\u001b[0m\u001b[0m\n\u001b[0m\u001b[1;32m     23\u001b[0m             )\n\u001b[1;32m     24\u001b[0m             pickle.dump(\n",
      "\u001b[0;32m<ipython-input-8-e274f9293918>\u001b[0m in \u001b[0;36mget_embeddings\u001b[0;34m(df, weight_path, en_type)\u001b[0m\n\u001b[1;32m     18\u001b[0m         )\n\u001b[1;32m     19\u001b[0m \u001b[0;34m\u001b[0m\u001b[0m\n\u001b[0;32m---> 20\u001b[0;31m     \u001b[0mmodel\u001b[0m\u001b[0;34m.\u001b[0m\u001b[0mload_weights\u001b[0m\u001b[0;34m(\u001b[0m\u001b[0mstr\u001b[0m\u001b[0;34m(\u001b[0m\u001b[0mweight_path\u001b[0m\u001b[0;34m)\u001b[0m\u001b[0;34m)\u001b[0m\u001b[0;34m\u001b[0m\u001b[0;34m\u001b[0m\u001b[0m\n\u001b[0m\u001b[1;32m     21\u001b[0m     \u001b[0mmodel1\u001b[0m \u001b[0;34m=\u001b[0m \u001b[0mtf\u001b[0m\u001b[0;34m.\u001b[0m\u001b[0mkeras\u001b[0m\u001b[0;34m.\u001b[0m\u001b[0mmodels\u001b[0m\u001b[0;34m.\u001b[0m\u001b[0mModel\u001b[0m\u001b[0;34m(\u001b[0m\u001b[0minputs\u001b[0m\u001b[0;34m=\u001b[0m\u001b[0mmodel\u001b[0m\u001b[0;34m.\u001b[0m\u001b[0minput\u001b[0m\u001b[0;34m[\u001b[0m\u001b[0;36m0\u001b[0m\u001b[0;34m:\u001b[0m\u001b[0;36m3\u001b[0m\u001b[0;34m]\u001b[0m\u001b[0;34m,\u001b[0m \u001b[0moutputs\u001b[0m\u001b[0;34m=\u001b[0m\u001b[0mmodel\u001b[0m\u001b[0;34m.\u001b[0m\u001b[0mlayers\u001b[0m\u001b[0;34m[\u001b[0m\u001b[0;34m-\u001b[0m\u001b[0;36m4\u001b[0m\u001b[0;34m]\u001b[0m\u001b[0;34m.\u001b[0m\u001b[0moutput\u001b[0m\u001b[0;34m)\u001b[0m\u001b[0;34m\u001b[0m\u001b[0;34m\u001b[0m\u001b[0m\n\u001b[1;32m     22\u001b[0m \u001b[0;31m#     arc_W = model.layers[-2].W\u001b[0m\u001b[0;34m\u001b[0m\u001b[0;34m\u001b[0m\u001b[0;34m\u001b[0m\u001b[0m\n",
      "\u001b[0;32m~/anaconda3/envs/Shopee/lib/python3.7/site-packages/tensorflow/python/keras/engine/training.py\u001b[0m in \u001b[0;36mload_weights\u001b[0;34m(self, filepath, by_name, skip_mismatch, options)\u001b[0m\n\u001b[1;32m   2202\u001b[0m           'first, then load the weights.')\n\u001b[1;32m   2203\u001b[0m     \u001b[0mself\u001b[0m\u001b[0;34m.\u001b[0m\u001b[0m_assert_weights_created\u001b[0m\u001b[0;34m(\u001b[0m\u001b[0;34m)\u001b[0m\u001b[0;34m\u001b[0m\u001b[0;34m\u001b[0m\u001b[0m\n\u001b[0;32m-> 2204\u001b[0;31m     \u001b[0;32mwith\u001b[0m \u001b[0mh5py\u001b[0m\u001b[0;34m.\u001b[0m\u001b[0mFile\u001b[0m\u001b[0;34m(\u001b[0m\u001b[0mfilepath\u001b[0m\u001b[0;34m,\u001b[0m \u001b[0;34m'r'\u001b[0m\u001b[0;34m)\u001b[0m \u001b[0;32mas\u001b[0m \u001b[0mf\u001b[0m\u001b[0;34m:\u001b[0m\u001b[0;34m\u001b[0m\u001b[0;34m\u001b[0m\u001b[0m\n\u001b[0m\u001b[1;32m   2205\u001b[0m       \u001b[0;32mif\u001b[0m \u001b[0;34m'layer_names'\u001b[0m \u001b[0;32mnot\u001b[0m \u001b[0;32min\u001b[0m \u001b[0mf\u001b[0m\u001b[0;34m.\u001b[0m\u001b[0mattrs\u001b[0m \u001b[0;32mand\u001b[0m \u001b[0;34m'model_weights'\u001b[0m \u001b[0;32min\u001b[0m \u001b[0mf\u001b[0m\u001b[0;34m:\u001b[0m\u001b[0;34m\u001b[0m\u001b[0;34m\u001b[0m\u001b[0m\n\u001b[1;32m   2206\u001b[0m         \u001b[0mf\u001b[0m \u001b[0;34m=\u001b[0m \u001b[0mf\u001b[0m\u001b[0;34m[\u001b[0m\u001b[0;34m'model_weights'\u001b[0m\u001b[0;34m]\u001b[0m\u001b[0;34m\u001b[0m\u001b[0;34m\u001b[0m\u001b[0m\n",
      "\u001b[0;32m~/anaconda3/envs/Shopee/lib/python3.7/site-packages/h5py/_hl/files.py\u001b[0m in \u001b[0;36m__init__\u001b[0;34m(self, name, mode, driver, libver, userblock_size, swmr, rdcc_nslots, rdcc_nbytes, rdcc_w0, track_order, **kwds)\u001b[0m\n\u001b[1;32m    406\u001b[0m                 fid = make_fid(name, mode, userblock_size,\n\u001b[1;32m    407\u001b[0m                                \u001b[0mfapl\u001b[0m\u001b[0;34m,\u001b[0m \u001b[0mfcpl\u001b[0m\u001b[0;34m=\u001b[0m\u001b[0mmake_fcpl\u001b[0m\u001b[0;34m(\u001b[0m\u001b[0mtrack_order\u001b[0m\u001b[0;34m=\u001b[0m\u001b[0mtrack_order\u001b[0m\u001b[0;34m)\u001b[0m\u001b[0;34m,\u001b[0m\u001b[0;34m\u001b[0m\u001b[0;34m\u001b[0m\u001b[0m\n\u001b[0;32m--> 408\u001b[0;31m                                swmr=swmr)\n\u001b[0m\u001b[1;32m    409\u001b[0m \u001b[0;34m\u001b[0m\u001b[0m\n\u001b[1;32m    410\u001b[0m             \u001b[0;32mif\u001b[0m \u001b[0misinstance\u001b[0m\u001b[0;34m(\u001b[0m\u001b[0mlibver\u001b[0m\u001b[0;34m,\u001b[0m \u001b[0mtuple\u001b[0m\u001b[0;34m)\u001b[0m\u001b[0;34m:\u001b[0m\u001b[0;34m\u001b[0m\u001b[0;34m\u001b[0m\u001b[0m\n",
      "\u001b[0;32m~/anaconda3/envs/Shopee/lib/python3.7/site-packages/h5py/_hl/files.py\u001b[0m in \u001b[0;36mmake_fid\u001b[0;34m(name, mode, userblock_size, fapl, fcpl, swmr)\u001b[0m\n\u001b[1;32m    171\u001b[0m         \u001b[0;32mif\u001b[0m \u001b[0mswmr\u001b[0m \u001b[0;32mand\u001b[0m \u001b[0mswmr_support\u001b[0m\u001b[0;34m:\u001b[0m\u001b[0;34m\u001b[0m\u001b[0;34m\u001b[0m\u001b[0m\n\u001b[1;32m    172\u001b[0m             \u001b[0mflags\u001b[0m \u001b[0;34m|=\u001b[0m \u001b[0mh5f\u001b[0m\u001b[0;34m.\u001b[0m\u001b[0mACC_SWMR_READ\u001b[0m\u001b[0;34m\u001b[0m\u001b[0;34m\u001b[0m\u001b[0m\n\u001b[0;32m--> 173\u001b[0;31m         \u001b[0mfid\u001b[0m \u001b[0;34m=\u001b[0m \u001b[0mh5f\u001b[0m\u001b[0;34m.\u001b[0m\u001b[0mopen\u001b[0m\u001b[0;34m(\u001b[0m\u001b[0mname\u001b[0m\u001b[0;34m,\u001b[0m \u001b[0mflags\u001b[0m\u001b[0;34m,\u001b[0m \u001b[0mfapl\u001b[0m\u001b[0;34m=\u001b[0m\u001b[0mfapl\u001b[0m\u001b[0;34m)\u001b[0m\u001b[0;34m\u001b[0m\u001b[0;34m\u001b[0m\u001b[0m\n\u001b[0m\u001b[1;32m    174\u001b[0m     \u001b[0;32melif\u001b[0m \u001b[0mmode\u001b[0m \u001b[0;34m==\u001b[0m \u001b[0;34m'r+'\u001b[0m\u001b[0;34m:\u001b[0m\u001b[0;34m\u001b[0m\u001b[0;34m\u001b[0m\u001b[0m\n\u001b[1;32m    175\u001b[0m         \u001b[0mfid\u001b[0m \u001b[0;34m=\u001b[0m \u001b[0mh5f\u001b[0m\u001b[0;34m.\u001b[0m\u001b[0mopen\u001b[0m\u001b[0;34m(\u001b[0m\u001b[0mname\u001b[0m\u001b[0;34m,\u001b[0m \u001b[0mh5f\u001b[0m\u001b[0;34m.\u001b[0m\u001b[0mACC_RDWR\u001b[0m\u001b[0;34m,\u001b[0m \u001b[0mfapl\u001b[0m\u001b[0;34m=\u001b[0m\u001b[0mfapl\u001b[0m\u001b[0;34m)\u001b[0m\u001b[0;34m\u001b[0m\u001b[0;34m\u001b[0m\u001b[0m\n",
      "\u001b[0;32mh5py/_objects.pyx\u001b[0m in \u001b[0;36mh5py._objects.with_phil.wrapper\u001b[0;34m()\u001b[0m\n",
      "\u001b[0;32mh5py/_objects.pyx\u001b[0m in \u001b[0;36mh5py._objects.with_phil.wrapper\u001b[0;34m()\u001b[0m\n",
      "\u001b[0;32mh5py/h5f.pyx\u001b[0m in \u001b[0;36mh5py.h5f.open\u001b[0;34m()\u001b[0m\n",
      "\u001b[0;31mOSError\u001b[0m: Unable to open file (unable to open file: name = '/home/yamaguchi-milkcocholate/Shopee/notebooks/../results/efficientnet-tpu/resnext50_seed42_fold1/epoch20_.h5', errno = 2, error message = 'No such file or directory', flags = 0, o_flags = 0)"
     ]
    }
   ],
   "source": [
    "# for RexNext\n",
    "get_embeddings_list(epoch=20, en_type=None)"
   ]
  },
  {
   "cell_type": "code",
   "execution_count": 30,
   "id": "featured-motor",
   "metadata": {},
   "outputs": [
    {
     "name": "stdout",
     "output_type": "stream",
     "text": [
      "Downloading data from https://github.com/Callidior/keras-applications/releases/download/efficientnet/efficientnet-b3_weights_tf_dim_ordering_tf_kernels_autoaugment.h5\n",
      "50094080/50086816 [==============================] - 2s 0us/step\n"
     ]
    }
   ],
   "source": [
    "b3 = getattr(efn, f'EfficientNetB3')(weights = 'imagenet', include_top = True, classes=1000)"
   ]
  },
  {
   "cell_type": "code",
   "execution_count": 31,
   "id": "civil-collaboration",
   "metadata": {},
   "outputs": [
    {
     "data": {
      "text/plain": [
       "<tf.Tensor 'probs/Softmax:0' shape=(None, 1000) dtype=float32>"
      ]
     },
     "execution_count": 31,
     "metadata": {},
     "output_type": "execute_result"
    }
   ],
   "source": [
    "b3.output"
   ]
  },
  {
   "cell_type": "code",
   "execution_count": 16,
   "id": "divine-obligation",
   "metadata": {},
   "outputs": [],
   "source": [
    "model = build_efficientnet_model(\n",
    "    n_classes=n_classes,\n",
    "    image_size=config.image_size,\n",
    "    lr=config.lr,\n",
    "    en_type='B3',\n",
    "    train=False\n",
    ")\n",
    "\n",
    "outdir = base_dir / config.outdir / f'EfficientNetB3_seed42_fold0'\n",
    "weight_outpath = outdir / f'epoch20.h5'\n",
    "model.load_weights(str(weight_outpath))"
   ]
  },
  {
   "cell_type": "code",
   "execution_count": 24,
   "id": "ranking-funds",
   "metadata": {},
   "outputs": [
    {
     "data": {
      "text/plain": [
       "<tf.Tensor 'inp1_3:0' shape=(None, 512, 512, 3) dtype=float32>"
      ]
     },
     "execution_count": 24,
     "metadata": {},
     "output_type": "execute_result"
    }
   ],
   "source": [
    "model.layers[0]"
   ]
  },
  {
   "cell_type": "code",
   "execution_count": 20,
   "id": "derived-external",
   "metadata": {},
   "outputs": [
    {
     "data": {
      "text/plain": [
       "<tf.Tensor 'global_average_pooling2d_2/Mean:0' shape=(None, 1536) dtype=float32>"
      ]
     },
     "execution_count": 20,
     "metadata": {},
     "output_type": "execute_result"
    }
   ],
   "source": [
    "model.layers[2].output"
   ]
  },
  {
   "cell_type": "code",
   "execution_count": null,
   "id": "juvenile-minneapolis",
   "metadata": {},
   "outputs": [],
   "source": [
    "outdir = base_dir / config.outdir / f'resnext50_seed{config.seed}_fold0'\n",
    "emb_outpath = outdir / f'embeddings_epoch20.pkl'\n",
    "embeddings = pickle.load(open(emb_outpath, 'rb'))\n",
    "search_thresholds(train, embeddings, 0, 50, 'cosine', 0, 1, 0.1)"
   ]
  },
  {
   "cell_type": "code",
   "execution_count": 13,
   "id": "charming-complexity",
   "metadata": {},
   "outputs": [
    {
     "name": "stdout",
     "output_type": "stream",
     "text": [
      "folds : [0, 3, 6, 9, 12]\n",
      "Our f1 score for threshold 0.0 is 0.040170322002757525\n",
      "Our f1 score for threshold 0.1 is 0.7175815678125432\n",
      "Our f1 score for threshold 0.2 is 0.7634884301447495\n",
      "Our f1 score for threshold 0.3 is 0.7913182946863226\n",
      "Our f1 score for threshold 0.4 is 0.8029113301037403\n",
      "Our f1 score for threshold 0.5 is 0.7524545124824131\n",
      "Our f1 score for threshold 0.6 is 0.47847318946951556\n",
      "Our f1 score for threshold 0.7 is 0.1860227506448089\n",
      "Our f1 score for threshold 0.8 is 0.16858341384838194\n",
      "Our f1 score for threshold 0.9 is 0.16858341384838194\n",
      "Our best score is 0.8029113301037403 and has a threshold 0.4\n"
     ]
    },
    {
     "data": {
      "text/plain": [
       "(0.8029113301037403, 0.4)"
      ]
     },
     "execution_count": 13,
     "metadata": {},
     "output_type": "execute_result"
    }
   ],
   "source": [
    "outdir = base_dir / config.outdir / f'resnext50_seed{config.seed}_fold0'\n",
    "emb_outpath = outdir / f'embeddings_epoch20_.pkl'\n",
    "embeddings = pickle.load(open(emb_outpath, 'rb'))\n",
    "search_thresholds(train, embeddings, 0, 50, 'cosine', 0, 1, 0.1)"
   ]
  },
  {
   "cell_type": "code",
   "execution_count": 79,
   "id": "activated-bacteria",
   "metadata": {
    "tags": []
   },
   "outputs": [
    {
     "name": "stdout",
     "output_type": "stream",
     "text": [
      "get embeddings and cosines from the cashe\n",
      "get embeddings and cosines from the cashe\n",
      "get embeddings and cosines from the cashe\n",
      "folds : [0, 3, 6, 9, 12]\n",
      "Our f1 score for threshold 3.0 is 0.6886520338650142\n",
      "Our f1 score for threshold 3.2 is 0.7043530124451866\n",
      "Our f1 score for threshold 3.4 is 0.7202712559611227\n",
      "Our f1 score for threshold 3.6 is 0.7369179399912072\n",
      "Our f1 score for threshold 3.8 is 0.7547112836845911\n",
      "Our f1 score for threshold 4.0 is 0.771246097130789\n",
      "Our f1 score for threshold 4.2 is 0.7853877159082585\n",
      "Our f1 score for threshold 4.4 is 0.7955345602601085\n",
      "Our f1 score for threshold 4.6 is 0.8016475672640402\n",
      "Our f1 score for threshold 4.8 is 0.8059719237369197\n",
      "Our best score is 0.8059719237369197 and has a threshold 4.800000000000002\n",
      "folds : [1, 4, 7, 10, 13]\n",
      "Our f1 score for threshold 3.0 is 0.6839445979730524\n",
      "Our f1 score for threshold 3.2 is 0.6993485126080224\n",
      "Our f1 score for threshold 3.4 is 0.7155358436412658\n",
      "Our f1 score for threshold 3.6 is 0.7331491471274868\n",
      "Our f1 score for threshold 3.8 is 0.7512608910106525\n",
      "Our f1 score for threshold 4.0 is 0.766525439798898\n",
      "Our f1 score for threshold 4.2 is 0.7802072010548677\n",
      "Our f1 score for threshold 4.4 is 0.7889415970210959\n",
      "Our f1 score for threshold 4.6 is 0.7948105828797353\n",
      "Our f1 score for threshold 4.8 is 0.7982686620588479\n",
      "Our best score is 0.7982686620588479 and has a threshold 4.800000000000002\n",
      "folds : [2, 5, 8, 11, 14]\n",
      "Our f1 score for threshold 3.0 is 0.685715281317931\n",
      "Our f1 score for threshold 3.2 is 0.7005571757190723\n",
      "Our f1 score for threshold 3.4 is 0.7168886707937822\n",
      "Our f1 score for threshold 3.6 is 0.7350774050826218\n",
      "Our f1 score for threshold 3.8 is 0.7530943783032396\n",
      "Our f1 score for threshold 4.0 is 0.7703105200062607\n",
      "Our f1 score for threshold 4.2 is 0.7832169009364933\n",
      "Our f1 score for threshold 4.4 is 0.7922809270157173\n",
      "Our f1 score for threshold 4.6 is 0.7979647810753538\n",
      "Our f1 score for threshold 4.8 is 0.8016723895376009\n",
      "Our best score is 0.8016723895376009 and has a threshold 4.800000000000002\n"
     ]
    }
   ],
   "source": [
    "en_type = 'B0'\n",
    "embeddings_list, cosines_list = get_embeddings_list(epoch=20, en_type=en_type)\n",
    "results_b0 = list()\n",
    "\n",
    "for i in range(config.n_splits):\n",
    "    train['pred_cls'] = cosines_list[i].argmax(axis=1)\n",
    "    train['pred_cls_score'] = cosines_list[i].max(axis=1)\n",
    "    results_b0 += [search_thresholds(train, embeddings_list[i], i, 50, 3, 5, 0.2, True)]"
   ]
  },
  {
   "cell_type": "code",
   "execution_count": 77,
   "id": "fitted-painting",
   "metadata": {
    "tags": []
   },
   "outputs": [
    {
     "name": "stdout",
     "output_type": "stream",
     "text": [
      "get embeddings and cosines from the cashe\n",
      "get embeddings and cosines from the cashe\n",
      "get embeddings and cosines from the cashe\n",
      "folds : [0, 3, 6, 9, 12]\n",
      "Our f1 score for threshold 5.0 is 0.8148465702502612\n",
      "Our f1 score for threshold 5.2 is 0.8160622460520118\n",
      "Our f1 score for threshold 5.4 is 0.8159231270325623\n",
      "Our f1 score for threshold 5.6 is 0.8161519488353646\n",
      "Our f1 score for threshold 5.8 is 0.816251879575747\n",
      "Our f1 score for threshold 6.0 is 0.8160810712044011\n",
      "Our f1 score for threshold 6.2 is 0.8161196904904022\n",
      "Our f1 score for threshold 6.4 is 0.8161206433637028\n",
      "Our f1 score for threshold 6.6 is 0.8162285728851402\n",
      "Our f1 score for threshold 6.8 is 0.8163054127718121\n",
      "Our f1 score for threshold 7.0 is 0.8162409959384926\n",
      "Our f1 score for threshold 7.2 is 0.8162630671416403\n",
      "Our f1 score for threshold 7.4 is 0.8162787792741797\n",
      "Our f1 score for threshold 7.6 is 0.8162588101021965\n",
      "Our f1 score for threshold 7.8 is 0.8162668053721329\n",
      "Our best score is 0.8163054127718121 and has a threshold 6.800000000000002\n",
      "folds : [1, 4, 7, 10, 13]\n",
      "Our f1 score for threshold 5.0 is 0.8103387089977288\n",
      "Our f1 score for threshold 5.2 is 0.8107338713616371\n",
      "Our f1 score for threshold 5.4 is 0.8108584829840855\n",
      "Our f1 score for threshold 5.6 is 0.8109151018597867\n",
      "Our f1 score for threshold 5.8 is 0.8109500968361307\n",
      "Our f1 score for threshold 6.0 is 0.8107582308314081\n",
      "Our f1 score for threshold 6.2 is 0.8105878386268347\n",
      "Our f1 score for threshold 6.4 is 0.810556575617092\n",
      "Our f1 score for threshold 6.6 is 0.8105729521307776\n",
      "Our f1 score for threshold 6.8 is 0.8105119725404567\n",
      "Our f1 score for threshold 7.0 is 0.8104862311856463\n",
      "Our f1 score for threshold 7.2 is 0.8104332502449225\n",
      "Our f1 score for threshold 7.4 is 0.810405447432663\n",
      "Our f1 score for threshold 7.6 is 0.8103650786939237\n",
      "Our f1 score for threshold 7.8 is 0.810329418976562\n",
      "Our best score is 0.8109500968361307 and has a threshold 5.800000000000001\n",
      "folds : [2, 5, 8, 11, 14]\n",
      "Our f1 score for threshold 5.0 is 0.8124130928157978\n",
      "Our f1 score for threshold 5.2 is 0.8130383045069711\n",
      "Our f1 score for threshold 5.4 is 0.8125925216613733\n",
      "Our f1 score for threshold 5.6 is 0.812537525112713\n",
      "Our f1 score for threshold 5.8 is 0.8125998783435759\n",
      "Our f1 score for threshold 6.0 is 0.8125295074464278\n",
      "Our f1 score for threshold 6.2 is 0.8124598456744998\n",
      "Our f1 score for threshold 6.4 is 0.8125142850989301\n",
      "Our f1 score for threshold 6.6 is 0.812561393460248\n",
      "Our f1 score for threshold 6.8 is 0.8125914881511078\n",
      "Our f1 score for threshold 7.0 is 0.812637562335559\n",
      "Our f1 score for threshold 7.2 is 0.8126503592338183\n",
      "Our f1 score for threshold 7.4 is 0.8126508474075955\n",
      "Our f1 score for threshold 7.6 is 0.8126397011447655\n",
      "Our f1 score for threshold 7.8 is 0.8126389358744485\n",
      "Our best score is 0.8130383045069711 and has a threshold 5.2\n"
     ]
    }
   ],
   "source": [
    "en_type = 'B3'\n",
    "embeddings_list, cosines_list = get_embeddings_list(epoch=20, en_type=en_type)\n",
    "results_bb = list()\n",
    "\n",
    "for i in range(config.n_splits):\n",
    "    train['pred_cls'] = cosines_list[i].argmax(axis=1)\n",
    "    train['pred_cls_score'] = cosines_list[i].max(axis=1)\n",
    "    results_bb += [search_thresholds(train, embeddings_list[i], i, 50, 5, 8, 0.2, True)]"
   ]
  },
  {
   "cell_type": "code",
   "execution_count": 16,
   "id": "worth-edmonton",
   "metadata": {},
   "outputs": [
    {
     "data": {
      "application/vnd.jupyter.widget-view+json": {
       "model_id": "29203ccb78ff4f00acb61315f2e12e52",
       "version_major": 2,
       "version_minor": 0
      },
      "text/plain": [
       "  0%|          | 0/69 [00:00<?, ?it/s]"
      ]
     },
     "metadata": {},
     "output_type": "display_data"
    },
    {
     "data": {
      "application/vnd.jupyter.widget-view+json": {
       "model_id": "8bb244cc912e498bba40fa01b29544e4",
       "version_major": 2,
       "version_minor": 0
      },
      "text/plain": [
       "  0%|          | 0/69 [00:00<?, ?it/s]"
      ]
     },
     "metadata": {},
     "output_type": "display_data"
    },
    {
     "data": {
      "application/vnd.jupyter.widget-view+json": {
       "model_id": "d6620fa797c54b8d955c7884ed25cd86",
       "version_major": 2,
       "version_minor": 0
      },
      "text/plain": [
       "  0%|          | 0/69 [00:00<?, ?it/s]"
      ]
     },
     "metadata": {},
     "output_type": "display_data"
    }
   ],
   "source": [
    "en_type = 'B5'\n",
    "embeddings_list = get_embeddings_list(epoch=20, en_type=en_type)\n",
    "# results_b5 = list()\n",
    "\n",
    "# for i in range(config.n_splits):\n",
    "#     print(f'fold : {i}')\n",
    "#     results_b5 += [search_thresholds(train, embeddings_list[i], i, 50, 3, 5, 0.1)]"
   ]
  },
  {
   "cell_type": "code",
   "execution_count": 78,
   "id": "buried-decrease",
   "metadata": {},
   "outputs": [
    {
     "name": "stdout",
     "output_type": "stream",
     "text": [
      "get embeddings and cosines from the cashe\n",
      "get embeddings and cosines from the cashe\n",
      "get embeddings and cosines from the cashe\n",
      "folds : [0, 3, 6, 9, 12]\n",
      "Our f1 score for threshold 2.0 is 0.0005892931834123762\n",
      "Our f1 score for threshold 2.2 is 0.0006345187128229959\n",
      "Our f1 score for threshold 2.4 is 0.0009213621721285732\n",
      "Our f1 score for threshold 2.6 is 0.001249125960940151\n",
      "Our f1 score for threshold 2.8 is 0.0014829948818045977\n",
      "Our f1 score for threshold 3.0 is 0.0019988098570774475\n",
      "Our f1 score for threshold 3.2 is 0.0029356278238012374\n",
      "Our f1 score for threshold 3.4 is 0.0038192982357084563\n",
      "Our f1 score for threshold 3.6 is 0.004853335867036099\n",
      "Our f1 score for threshold 3.8 is 0.007156967201059351\n",
      "Our f1 score for threshold 4.0 is 0.009500712664764377\n",
      "Our f1 score for threshold 4.2 is 0.01322986311156726\n",
      "Our f1 score for threshold 4.4 is 0.01658450491662283\n",
      "Our f1 score for threshold 4.6 is 0.019832588400535867\n",
      "Our f1 score for threshold 4.8 is 0.018198320127190023\n",
      "Our f1 score for threshold 5.0 is 0.015679199869133176\n",
      "Our f1 score for threshold 5.2 is 0.01344147311320464\n",
      "Our f1 score for threshold 5.4 is 0.011225109601328083\n",
      "Our f1 score for threshold 5.6 is 0.00997354159258712\n",
      "Our f1 score for threshold 5.8 is 0.009616344933079697\n",
      "Our f1 score for threshold 6.0 is 0.009185100161807788\n",
      "Our f1 score for threshold 6.2 is 0.00901197827872336\n",
      "Our f1 score for threshold 6.4 is 0.008892781379396652\n",
      "Our f1 score for threshold 6.6 is 0.008890929182834946\n",
      "Our f1 score for threshold 6.8 is 0.008877184632178084\n",
      "Our f1 score for threshold 7.0 is 0.008860314120570985\n",
      "Our f1 score for threshold 7.2 is 0.008848506918111898\n",
      "Our f1 score for threshold 7.4 is 0.008887244994505196\n",
      "Our f1 score for threshold 7.6 is 0.008881056515254285\n",
      "Our f1 score for threshold 7.8 is 0.00893447388657285\n",
      "Our best score is 0.019832588400535867 and has a threshold 4.600000000000002\n",
      "folds : [1, 4, 7, 10, 13]\n",
      "Our f1 score for threshold 2.0 is 0.0004755003835322658\n",
      "Our f1 score for threshold 2.2 is 0.0006174389681440571\n",
      "Our f1 score for threshold 2.4 is 0.0007459023706724504\n",
      "Our f1 score for threshold 2.6 is 0.0009948700079454751\n",
      "Our f1 score for threshold 2.8 is 0.0013465358860383823\n",
      "Our f1 score for threshold 3.0 is 0.0018560741248395145\n",
      "Our f1 score for threshold 3.2 is 0.0028068160109904587\n",
      "Our f1 score for threshold 3.4 is 0.004023862457351807\n",
      "Our f1 score for threshold 3.6 is 0.0056819743095761245\n",
      "Our f1 score for threshold 3.8 is 0.006661326940763614\n",
      "Our f1 score for threshold 4.0 is 0.010447060566992733\n",
      "Our f1 score for threshold 4.2 is 0.014509628286688565\n",
      "Our f1 score for threshold 4.4 is 0.01735774268151524\n",
      "Our f1 score for threshold 4.6 is 0.019535589385511372\n",
      "Our f1 score for threshold 4.8 is 0.018748219498337663\n",
      "Our f1 score for threshold 5.0 is 0.015926326749983587\n",
      "Our f1 score for threshold 5.2 is 0.013307825415778855\n",
      "Our f1 score for threshold 5.4 is 0.011342579265681545\n",
      "Our f1 score for threshold 5.6 is 0.010242487002721188\n",
      "Our f1 score for threshold 5.8 is 0.009913032122642362\n",
      "Our f1 score for threshold 6.0 is 0.009639062165073512\n",
      "Our f1 score for threshold 6.2 is 0.009403065400898643\n",
      "Our f1 score for threshold 6.4 is 0.009315289275737776\n",
      "Our f1 score for threshold 6.6 is 0.009214047708494483\n",
      "Our f1 score for threshold 6.8 is 0.00923927199190277\n",
      "Our f1 score for threshold 7.0 is 0.009244350319816743\n",
      "Our f1 score for threshold 7.2 is 0.009243065997361409\n",
      "Our f1 score for threshold 7.4 is 0.009256781546589654\n",
      "Our f1 score for threshold 7.6 is 0.009271379887937288\n",
      "Our f1 score for threshold 7.8 is 0.009291997849843879\n",
      "Our best score is 0.019535589385511372 and has a threshold 4.600000000000002\n",
      "folds : [2, 5, 8, 11, 14]\n",
      "Our f1 score for threshold 2.0 is 0.000564606738604018\n",
      "Our f1 score for threshold 2.2 is 0.000738612852634725\n",
      "Our f1 score for threshold 2.4 is 0.0009283437438967345\n",
      "Our f1 score for threshold 2.6 is 0.0011103495057903732\n",
      "Our f1 score for threshold 2.8 is 0.0016934909613915343\n",
      "Our f1 score for threshold 3.0 is 0.0024398566735946677\n",
      "Our f1 score for threshold 3.2 is 0.003221163008543872\n",
      "Our f1 score for threshold 3.4 is 0.004198211632823529\n",
      "Our f1 score for threshold 3.6 is 0.005585410446859325\n",
      "Our f1 score for threshold 3.8 is 0.00846339547119763\n",
      "Our f1 score for threshold 4.0 is 0.01129089635116573\n",
      "Our f1 score for threshold 4.2 is 0.015536461738796983\n",
      "Our f1 score for threshold 4.4 is 0.018824165798888556\n",
      "Our f1 score for threshold 4.6 is 0.020583795484027546\n",
      "Our f1 score for threshold 4.8 is 0.01881263816311875\n",
      "Our f1 score for threshold 5.0 is 0.015256403123729303\n",
      "Our f1 score for threshold 5.2 is 0.013030198063856895\n",
      "Our f1 score for threshold 5.4 is 0.01136826080805574\n",
      "Our f1 score for threshold 5.6 is 0.010110445126008458\n",
      "Our f1 score for threshold 5.8 is 0.009609107518476162\n",
      "Our f1 score for threshold 6.0 is 0.00935628032001405\n",
      "Our f1 score for threshold 6.2 is 0.009247967630578603\n",
      "Our f1 score for threshold 6.4 is 0.009145535281451787\n",
      "Our f1 score for threshold 6.6 is 0.009100563254224679\n",
      "Our f1 score for threshold 6.8 is 0.009117316349806417\n",
      "Our f1 score for threshold 7.0 is 0.009164399356754744\n",
      "Our f1 score for threshold 7.2 is 0.009125151983189014\n",
      "Our f1 score for threshold 7.4 is 0.009150678441823783\n",
      "Our f1 score for threshold 7.6 is 0.009140781028726034\n",
      "Our f1 score for threshold 7.8 is 0.009173188316114581\n",
      "Our best score is 0.020583795484027546 and has a threshold 4.600000000000002\n"
     ]
    }
   ],
   "source": [
    "en_type = 'B3'\n",
    "embeddings_list, cosines_list = get_embeddings_list(epoch=20, en_type=en_type)\n",
    "results_bb = list()\n",
    "\n",
    "for i in range(config.n_splits):\n",
    "    train['pred_cls'] = cosines_list[i].argmax(axis=1)\n",
    "    train['pred_cls_score'] = cosines_list[i].max(axis=1)\n",
    "    results_bb += [search_thresholds(train, embeddings_list[i], i, 50, 2, 8, 0.2, False)]"
   ]
  },
  {
   "cell_type": "code",
   "execution_count": 90,
   "id": "disturbed-waterproof",
   "metadata": {},
   "outputs": [],
   "source": [
    "# for entype in ['B0', 'B3', 'B5']:\n",
    "#     for fold in range(3):\n",
    "#         emb_outdir = base_dir / config.outdir / f'EfficientNet{entype}_seed42_fold{fold}' / 'embeddings_epoch20.pkl'\n",
    "#         cos_outdir = base_dir / config.outdir / f'EfficientNet{entype}_seed42_fold{fold}' / 'cosine_epoch20.pkl'\n",
    "        \n",
    "#         emb = pickle.load(open(emb_outdir, 'rb'))\n",
    "#         cos = pickle.load(open(cos_outdir, 'rb'))\n",
    "        \n",
    "#         pickle.dump(emb, open(base_dir / f'{entype}_{fold}_emb.pkl', 'wb'))\n",
    "#         pickle.dump(cos, open(base_dir / f'{entype}_{fold}_cos.pkl', 'wb'))"
   ]
  },
  {
   "cell_type": "code",
   "execution_count": 17,
   "id": "lined-maximum",
   "metadata": {},
   "outputs": [],
   "source": [
    "entype = 'B3'\n",
    "fold = 0\n",
    "emb_outdir = base_dir / config.outdir / f'EfficientNet{entype}_seed42_fold{fold}' / 'embeddings_epoch20.pkl'\n",
    "cos_outdir = base_dir / config.outdir / f'EfficientNet{entype}_seed42_fold{fold}' / 'cosine_epoch20.pkl'\n",
    "emb = pickle.load(open(emb_outdir, 'rb'))\n",
    "cos = pickle.load(open(cos_outdir, 'rb'))"
   ]
  },
  {
   "cell_type": "code",
   "execution_count": 18,
   "id": "divine-packing",
   "metadata": {},
   "outputs": [
    {
     "name": "stdout",
     "output_type": "stream",
     "text": [
      "folds : [0, 3, 6, 9, 12]\n"
     ]
    }
   ],
   "source": [
    "knn_model = NearestNeighbors(n_neighbors=50)\n",
    "knn_model.fit(emb)\n",
    "\n",
    "valid_df = get_valid_df(fold=fold)\n",
    "valid_emb = emb[valid_df.index, :]\n",
    "distances, indices = knn_model.kneighbors(valid_emb)"
   ]
  },
  {
   "cell_type": "code",
   "execution_count": 26,
   "id": "italic-transsexual",
   "metadata": {},
   "outputs": [],
   "source": [
    "train['pred_cls'] = cos.argmax(axis=1)\n",
    "train['pred_cls_score'] = cos.max(axis=1)"
   ]
  },
  {
   "cell_type": "code",
   "execution_count": null,
   "id": "later-internship",
   "metadata": {},
   "outputs": [],
   "source": [
    "\n",
    "results_b3 = list()\n",
    "for i in range(config.n_splits):\n",
    "    print(f'fold : {i}')\n",
    "    results_b3 += [search_thresholds(train, embeddings_list[i], i, 50, 4, 7, 0.1, True)]"
   ]
  },
  {
   "cell_type": "code",
   "execution_count": 31,
   "id": "specific-broadcast",
   "metadata": {},
   "outputs": [],
   "source": [
    "# KNN prediction\n",
    "threshold = 4.2\n",
    "predictions = []\n",
    "for k in range(valid_emb.shape[0]):\n",
    "    idx = np.where(distances[k, ] < threshold)[0]\n",
    "    ids = indices[k, idx]\n",
    "    posting_ids = ' '.join(train['posting_id'].iloc[ids].values)\n",
    "    predictions.append(posting_ids)\n",
    "valid_df['pred_matches'] = predictions\n",
    "valid_df['f1'] = f1_score(valid_df['matches'], valid_df['pred_matches'])\n",
    "valid_df['recall'] = recall_score(valid_df['matches'], valid_df['pred_matches'])\n",
    "valid_df['precision'] = precision_score(valid_df['matches'], valid_df['pred_matches'])\n",
    "valid_df['pred_cls'] = train.loc[valid_df.index, 'pred_cls']\n",
    "valid_df['pred_cls_score'] = train.loc[valid_df.index, 'pred_cls_score']"
   ]
  },
  {
   "cell_type": "code",
   "execution_count": 45,
   "id": "tamil-instrument",
   "metadata": {},
   "outputs": [
    {
     "data": {
      "text/html": [
       "<div>\n",
       "<style scoped>\n",
       "    .dataframe tbody tr th:only-of-type {\n",
       "        vertical-align: middle;\n",
       "    }\n",
       "\n",
       "    .dataframe tbody tr th {\n",
       "        vertical-align: top;\n",
       "    }\n",
       "\n",
       "    .dataframe thead th {\n",
       "        text-align: right;\n",
       "    }\n",
       "</style>\n",
       "<table border=\"1\" class=\"dataframe\">\n",
       "  <thead>\n",
       "    <tr style=\"text-align: right;\">\n",
       "      <th></th>\n",
       "      <th>posting_id</th>\n",
       "      <th>image</th>\n",
       "      <th>image_phash</th>\n",
       "      <th>title</th>\n",
       "      <th>label_group</th>\n",
       "      <th>matches</th>\n",
       "      <th>f1</th>\n",
       "      <th>fold</th>\n",
       "      <th>pred_cls</th>\n",
       "      <th>pred_cls_score</th>\n",
       "    </tr>\n",
       "  </thead>\n",
       "  <tbody>\n",
       "    <tr>\n",
       "      <th>4</th>\n",
       "      <td>train_3369186413</td>\n",
       "      <td>00136d1cf4edede0203f32f05f660588.jpg</td>\n",
       "      <td>a6f319f924ad708c</td>\n",
       "      <td>Nescafe \\xc3\\x89clair Latte 220ml</td>\n",
       "      <td>4</td>\n",
       "      <td>train_3369186413 train_921438619</td>\n",
       "      <td>0.666667</td>\n",
       "      <td>9</td>\n",
       "      <td>4</td>\n",
       "      <td>0.672321</td>\n",
       "    </tr>\n",
       "    <tr>\n",
       "      <th>18449</th>\n",
       "      <td>train_921438619</td>\n",
       "      <td>8b0e60baf319fa282242ab1739df10e0.jpg</td>\n",
       "      <td>e69999663199cc93</td>\n",
       "      <td>Nescafe Eclair Latte Pet 220 Ml</td>\n",
       "      <td>4</td>\n",
       "      <td>train_3369186413 train_921438619</td>\n",
       "      <td>0.666667</td>\n",
       "      <td>8</td>\n",
       "      <td>4</td>\n",
       "      <td>0.897108</td>\n",
       "    </tr>\n",
       "  </tbody>\n",
       "</table>\n",
       "</div>"
      ],
      "text/plain": [
       "             posting_id                                 image  \\\n",
       "4      train_3369186413  00136d1cf4edede0203f32f05f660588.jpg   \n",
       "18449   train_921438619  8b0e60baf319fa282242ab1739df10e0.jpg   \n",
       "\n",
       "            image_phash                              title  label_group  \\\n",
       "4      a6f319f924ad708c  Nescafe \\xc3\\x89clair Latte 220ml            4   \n",
       "18449  e69999663199cc93    Nescafe Eclair Latte Pet 220 Ml            4   \n",
       "\n",
       "                                matches        f1  fold  pred_cls  \\\n",
       "4      train_3369186413 train_921438619  0.666667     9         4   \n",
       "18449  train_3369186413 train_921438619  0.666667     8         4   \n",
       "\n",
       "       pred_cls_score  \n",
       "4            0.672321  \n",
       "18449        0.897108  "
      ]
     },
     "execution_count": 45,
     "metadata": {},
     "output_type": "execute_result"
    }
   ],
   "source": [
    "pred_cls, pred_cls_score = valid_df.loc[4, ['pred_cls', 'pred_cls_score']]\n",
    "train.query('pred_cls == @pred_cls')"
   ]
  },
  {
   "cell_type": "code",
   "execution_count": 91,
   "id": "individual-idaho",
   "metadata": {},
   "outputs": [
    {
     "data": {
      "image/png": "[encoded data removed]",
      "text/plain": [
       "<Figure size 576x432 with 1 Axes>"
      ]
     },
     "metadata": {
      "needs_background": "light"
     },
     "output_type": "display_data"
    }
   ],
   "source": [
    "fig, ax = plt.subplots(1, 1, figsize=(8, 6))\n",
    "for i in range(config.n_splits):\n",
    "    history = pickle.load(open(str(base_dir / config.outdir / f'EfficientNetB3_seed{config.seed}_fold{i}' / 'history.pkl'), 'rb'))\n",
    "    y = history['val_sparse_categorical_accuracy']\n",
    "    ax.plot(y, label=f'fold={i}')\n",
    "ax.legend()\n",
    "plt.show()"
   ]
  },
  {
   "cell_type": "code",
   "execution_count": 18,
   "id": "defined-update",
   "metadata": {},
   "outputs": [
    {
     "data": {
      "image/png": "[encoded data removed]",
      "text/plain": [
       "<Figure size 576x432 with 1 Axes>"
      ]
     },
     "metadata": {
      "needs_background": "light"
     },
     "output_type": "display_data"
    }
   ],
   "source": [
    "fig, ax = plt.subplots(1, 1, figsize=(8, 6))\n",
    "for i in range(config.n_splits):\n",
    "    history = pickle.load(open(str(base_dir / config.outdir / f'EfficientNetB0_seed{config.seed}_fold{i}' / 'history.pkl'), 'rb'))\n",
    "    y = history['val_sparse_categorical_accuracy']\n",
    "    ax.plot(y, label=f'fold={i}')\n",
    "ax.legend()\n",
    "plt.show()"
   ]
  },
  {
   "cell_type": "code",
   "execution_count": 31,
   "id": "legislative-discount",
   "metadata": {},
   "outputs": [
    {
     "data": {
      "text/plain": [
       "2"
      ]
     },
     "execution_count": 31,
     "metadata": {},
     "output_type": "execute_result"
    }
   ],
   "source": [
    "x = np.array([1, 1, 0, 1], dtype=bool)\n",
    "np.multiply.accumulate(x).sum()\n",
    "\n"
   ]
  },
  {
   "cell_type": "code",
   "execution_count": null,
   "id": "cloudy-clearance",
   "metadata": {},
   "outputs": [],
   "source": []
  }
 ],
 "metadata": {
  "kernelspec": {
   "display_name": "Python 3",
   "language": "python",
   "name": "python3"
  },
  "language_info": {
   "codemirror_mode": {
    "name": "ipython",
    "version": 3
   },
   "file_extension": ".py",
   "mimetype": "text/x-python",
   "name": "python",
   "nbconvert_exporter": "python",
   "pygments_lexer": "ipython3",
   "version": "3.7.10"
  }
 },
 "nbformat": 4,
 "nbformat_minor": 5
}
